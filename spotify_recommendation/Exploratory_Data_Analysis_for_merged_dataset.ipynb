{
 "cells": [
  {
   "cell_type": "markdown",
   "metadata": {},
   "source": [
    "# Exploratory Data Analysis for merged dataset\n",
    "\n",
    "We will explore the dataset consisting of user's listening activity. The first part of the EDA is exploring the dataset without the Spotify audio features. The purpose of this analysis is to understand the users listening behavior and see if there are any aspects of our data that may skew our recommendations.\n",
    "\n",
    "* How many different songs does a user actually listen to?\n",
    "* How many times is each song listened to?\n",
    "* How many unique users listen to each song?\n",
    "* Whats the total listen count of each user? "
   ]
  },
  {
   "cell_type": "code",
   "execution_count": 34,
   "metadata": {},
   "outputs": [],
   "source": [
    "import pandas as pd\n",
    "import seaborn as sns\n",
    "import matplotlib\n",
    "import matplotlib.pyplot as plt\n",
    "\n",
    "#import dataset\n",
    "user_df = pd.read_csv('data/User_SongFeatures_data.csv', compression=\"xz\")"
   ]
  },
  {
   "cell_type": "code",
   "execution_count": 35,
   "metadata": {},
   "outputs": [
    {
     "data": {
      "text/html": [
       "<div>\n",
       "<style scoped>\n",
       "    .dataframe tbody tr th:only-of-type {\n",
       "        vertical-align: middle;\n",
       "    }\n",
       "\n",
       "    .dataframe tbody tr th {\n",
       "        vertical-align: top;\n",
       "    }\n",
       "\n",
       "    .dataframe thead th {\n",
       "        text-align: right;\n",
       "    }\n",
       "</style>\n",
       "<table border=\"1\" class=\"dataframe\">\n",
       "  <thead>\n",
       "    <tr style=\"text-align: right;\">\n",
       "      <th></th>\n",
       "      <th>user_id</th>\n",
       "      <th>song_id</th>\n",
       "      <th>listen_count</th>\n",
       "      <th>title</th>\n",
       "      <th>release</th>\n",
       "      <th>artist_name</th>\n",
       "      <th>year</th>\n",
       "      <th>song</th>\n",
       "      <th>id</th>\n",
       "      <th>name</th>\n",
       "      <th>...</th>\n",
       "      <th>instrumentalness</th>\n",
       "      <th>liveness</th>\n",
       "      <th>valence</th>\n",
       "      <th>tempo</th>\n",
       "      <th>type</th>\n",
       "      <th>uri_y</th>\n",
       "      <th>track_href</th>\n",
       "      <th>analysis_url</th>\n",
       "      <th>duration_ms</th>\n",
       "      <th>time_signature</th>\n",
       "    </tr>\n",
       "  </thead>\n",
       "  <tbody>\n",
       "    <tr>\n",
       "      <th>0</th>\n",
       "      <td>b80344d063b5ccb3212f76538f3d9e43d87dca9e</td>\n",
       "      <td>SOBXHDL12A81C204C0</td>\n",
       "      <td>1</td>\n",
       "      <td>stronger</td>\n",
       "      <td>Graduation</td>\n",
       "      <td>kanye west</td>\n",
       "      <td>2007</td>\n",
       "      <td>Stronger - Kanye West</td>\n",
       "      <td>4fzsfWzRhPawzqhX8Qt9F3</td>\n",
       "      <td>stronger</td>\n",
       "      <td>...</td>\n",
       "      <td>0.0</td>\n",
       "      <td>0.408</td>\n",
       "      <td>0.49</td>\n",
       "      <td>103.992</td>\n",
       "      <td>audio_features</td>\n",
       "      <td>spotify:track:4fzsfWzRhPawzqhX8Qt9F3</td>\n",
       "      <td>https://api.spotify.com/v1/tracks/4fzsfWzRhPaw...</td>\n",
       "      <td>https://api.spotify.com/v1/audio-analysis/4fzs...</td>\n",
       "      <td>311867</td>\n",
       "      <td>4</td>\n",
       "    </tr>\n",
       "    <tr>\n",
       "      <th>1</th>\n",
       "      <td>9fba771d9731561eba47216f6fbfc0023d88641b</td>\n",
       "      <td>SOBXHDL12A81C204C0</td>\n",
       "      <td>19</td>\n",
       "      <td>stronger</td>\n",
       "      <td>Graduation</td>\n",
       "      <td>kanye west</td>\n",
       "      <td>2007</td>\n",
       "      <td>Stronger - Kanye West</td>\n",
       "      <td>4fzsfWzRhPawzqhX8Qt9F3</td>\n",
       "      <td>stronger</td>\n",
       "      <td>...</td>\n",
       "      <td>0.0</td>\n",
       "      <td>0.408</td>\n",
       "      <td>0.49</td>\n",
       "      <td>103.992</td>\n",
       "      <td>audio_features</td>\n",
       "      <td>spotify:track:4fzsfWzRhPawzqhX8Qt9F3</td>\n",
       "      <td>https://api.spotify.com/v1/tracks/4fzsfWzRhPaw...</td>\n",
       "      <td>https://api.spotify.com/v1/audio-analysis/4fzs...</td>\n",
       "      <td>311867</td>\n",
       "      <td>4</td>\n",
       "    </tr>\n",
       "    <tr>\n",
       "      <th>2</th>\n",
       "      <td>85952991b8e3ca5803a08b0b2f9c6d71abf9bb5b</td>\n",
       "      <td>SOBXHDL12A81C204C0</td>\n",
       "      <td>1</td>\n",
       "      <td>stronger</td>\n",
       "      <td>Graduation</td>\n",
       "      <td>kanye west</td>\n",
       "      <td>2007</td>\n",
       "      <td>Stronger - Kanye West</td>\n",
       "      <td>4fzsfWzRhPawzqhX8Qt9F3</td>\n",
       "      <td>stronger</td>\n",
       "      <td>...</td>\n",
       "      <td>0.0</td>\n",
       "      <td>0.408</td>\n",
       "      <td>0.49</td>\n",
       "      <td>103.992</td>\n",
       "      <td>audio_features</td>\n",
       "      <td>spotify:track:4fzsfWzRhPawzqhX8Qt9F3</td>\n",
       "      <td>https://api.spotify.com/v1/tracks/4fzsfWzRhPaw...</td>\n",
       "      <td>https://api.spotify.com/v1/audio-analysis/4fzs...</td>\n",
       "      <td>311867</td>\n",
       "      <td>4</td>\n",
       "    </tr>\n",
       "    <tr>\n",
       "      <th>3</th>\n",
       "      <td>537340ff896dea11328910013cfe759413e1eeb3</td>\n",
       "      <td>SOBXHDL12A81C204C0</td>\n",
       "      <td>2</td>\n",
       "      <td>stronger</td>\n",
       "      <td>Graduation</td>\n",
       "      <td>kanye west</td>\n",
       "      <td>2007</td>\n",
       "      <td>Stronger - Kanye West</td>\n",
       "      <td>4fzsfWzRhPawzqhX8Qt9F3</td>\n",
       "      <td>stronger</td>\n",
       "      <td>...</td>\n",
       "      <td>0.0</td>\n",
       "      <td>0.408</td>\n",
       "      <td>0.49</td>\n",
       "      <td>103.992</td>\n",
       "      <td>audio_features</td>\n",
       "      <td>spotify:track:4fzsfWzRhPawzqhX8Qt9F3</td>\n",
       "      <td>https://api.spotify.com/v1/tracks/4fzsfWzRhPaw...</td>\n",
       "      <td>https://api.spotify.com/v1/audio-analysis/4fzs...</td>\n",
       "      <td>311867</td>\n",
       "      <td>4</td>\n",
       "    </tr>\n",
       "    <tr>\n",
       "      <th>4</th>\n",
       "      <td>8fce200f3912e9608e3b1463cdb9c3529aab5c08</td>\n",
       "      <td>SOBXHDL12A81C204C0</td>\n",
       "      <td>2</td>\n",
       "      <td>stronger</td>\n",
       "      <td>Graduation</td>\n",
       "      <td>kanye west</td>\n",
       "      <td>2007</td>\n",
       "      <td>Stronger - Kanye West</td>\n",
       "      <td>4fzsfWzRhPawzqhX8Qt9F3</td>\n",
       "      <td>stronger</td>\n",
       "      <td>...</td>\n",
       "      <td>0.0</td>\n",
       "      <td>0.408</td>\n",
       "      <td>0.49</td>\n",
       "      <td>103.992</td>\n",
       "      <td>audio_features</td>\n",
       "      <td>spotify:track:4fzsfWzRhPawzqhX8Qt9F3</td>\n",
       "      <td>https://api.spotify.com/v1/tracks/4fzsfWzRhPaw...</td>\n",
       "      <td>https://api.spotify.com/v1/audio-analysis/4fzs...</td>\n",
       "      <td>311867</td>\n",
       "      <td>4</td>\n",
       "    </tr>\n",
       "  </tbody>\n",
       "</table>\n",
       "<p>5 rows × 28 columns</p>\n",
       "</div>"
      ],
      "text/plain": [
       "                                    user_id             song_id  listen_count  \\\n",
       "0  b80344d063b5ccb3212f76538f3d9e43d87dca9e  SOBXHDL12A81C204C0             1   \n",
       "1  9fba771d9731561eba47216f6fbfc0023d88641b  SOBXHDL12A81C204C0            19   \n",
       "2  85952991b8e3ca5803a08b0b2f9c6d71abf9bb5b  SOBXHDL12A81C204C0             1   \n",
       "3  537340ff896dea11328910013cfe759413e1eeb3  SOBXHDL12A81C204C0             2   \n",
       "4  8fce200f3912e9608e3b1463cdb9c3529aab5c08  SOBXHDL12A81C204C0             2   \n",
       "\n",
       "      title     release artist_name  year                   song  \\\n",
       "0  stronger  Graduation  kanye west  2007  Stronger - Kanye West   \n",
       "1  stronger  Graduation  kanye west  2007  Stronger - Kanye West   \n",
       "2  stronger  Graduation  kanye west  2007  Stronger - Kanye West   \n",
       "3  stronger  Graduation  kanye west  2007  Stronger - Kanye West   \n",
       "4  stronger  Graduation  kanye west  2007  Stronger - Kanye West   \n",
       "\n",
       "                       id      name  ... instrumentalness  liveness  valence  \\\n",
       "0  4fzsfWzRhPawzqhX8Qt9F3  stronger  ...              0.0     0.408     0.49   \n",
       "1  4fzsfWzRhPawzqhX8Qt9F3  stronger  ...              0.0     0.408     0.49   \n",
       "2  4fzsfWzRhPawzqhX8Qt9F3  stronger  ...              0.0     0.408     0.49   \n",
       "3  4fzsfWzRhPawzqhX8Qt9F3  stronger  ...              0.0     0.408     0.49   \n",
       "4  4fzsfWzRhPawzqhX8Qt9F3  stronger  ...              0.0     0.408     0.49   \n",
       "\n",
       "     tempo            type                                 uri_y  \\\n",
       "0  103.992  audio_features  spotify:track:4fzsfWzRhPawzqhX8Qt9F3   \n",
       "1  103.992  audio_features  spotify:track:4fzsfWzRhPawzqhX8Qt9F3   \n",
       "2  103.992  audio_features  spotify:track:4fzsfWzRhPawzqhX8Qt9F3   \n",
       "3  103.992  audio_features  spotify:track:4fzsfWzRhPawzqhX8Qt9F3   \n",
       "4  103.992  audio_features  spotify:track:4fzsfWzRhPawzqhX8Qt9F3   \n",
       "\n",
       "                                          track_href  \\\n",
       "0  https://api.spotify.com/v1/tracks/4fzsfWzRhPaw...   \n",
       "1  https://api.spotify.com/v1/tracks/4fzsfWzRhPaw...   \n",
       "2  https://api.spotify.com/v1/tracks/4fzsfWzRhPaw...   \n",
       "3  https://api.spotify.com/v1/tracks/4fzsfWzRhPaw...   \n",
       "4  https://api.spotify.com/v1/tracks/4fzsfWzRhPaw...   \n",
       "\n",
       "                                        analysis_url  duration_ms  \\\n",
       "0  https://api.spotify.com/v1/audio-analysis/4fzs...       311867   \n",
       "1  https://api.spotify.com/v1/audio-analysis/4fzs...       311867   \n",
       "2  https://api.spotify.com/v1/audio-analysis/4fzs...       311867   \n",
       "3  https://api.spotify.com/v1/audio-analysis/4fzs...       311867   \n",
       "4  https://api.spotify.com/v1/audio-analysis/4fzs...       311867   \n",
       "\n",
       "   time_signature  \n",
       "0               4  \n",
       "1               4  \n",
       "2               4  \n",
       "3               4  \n",
       "4               4  \n",
       "\n",
       "[5 rows x 28 columns]"
      ]
     },
     "execution_count": 35,
     "metadata": {},
     "output_type": "execute_result"
    }
   ],
   "source": [
    "user_df.head()"
   ]
  },
  {
   "cell_type": "code",
   "execution_count": 36,
   "metadata": {},
   "outputs": [
    {
     "data": {
      "text/plain": [
       "5712"
      ]
     },
     "execution_count": 36,
     "metadata": {},
     "output_type": "execute_result"
    }
   ],
   "source": [
    "user_df.song_id.nunique()"
   ]
  },
  {
   "cell_type": "code",
   "execution_count": 37,
   "metadata": {},
   "outputs": [
    {
     "data": {
      "text/plain": [
       "74899"
      ]
     },
     "execution_count": 37,
     "metadata": {},
     "output_type": "execute_result"
    }
   ],
   "source": [
    "user_df.user_id.nunique()"
   ]
  },
  {
   "cell_type": "markdown",
   "metadata": {},
   "source": [
    "Before we get into EDA, we want to see if there any songs with multiple song ids."
   ]
  },
  {
   "cell_type": "code",
   "execution_count": 38,
   "metadata": {},
   "outputs": [
    {
     "data": {
      "text/plain": [
       "5679"
      ]
     },
     "execution_count": 38,
     "metadata": {},
     "output_type": "execute_result"
    }
   ],
   "source": [
    "user_df.song.nunique()"
   ]
  },
  {
   "cell_type": "markdown",
   "metadata": {},
   "source": [
    "Since there are a different number of unique song id's and unique song names that tells us that there are songs with multiple song id's. "
   ]
  },
  {
   "cell_type": "code",
   "execution_count": 39,
   "metadata": {},
   "outputs": [
    {
     "name": "stdout",
     "output_type": "stream",
     "text": [
      "                                                 song  id_count\n",
      "12             ...Baby One More Time - Britney Spears         2\n",
      "378                     Back To Black - Amy Winehouse         2\n",
      "1033             Damn Girl - The All-American Rejects         2\n",
      "1241                             Dream On - Aerosmith         2\n",
      "1246                        Dreamlover - Mariah Carey         2\n",
      "1324                             Electric Feel - MGMT         2\n",
      "1582                  Forever & Always - Taylor Swift         2\n",
      "1784                      Goodbye - Kristinia DeBarge         2\n",
      "1908                Heads Will Roll - Yeah Yeah Yeahs         2\n",
      "1923                        Hearts On Fire - Cut Copy         2\n",
      "2016                   Holes To Heaven - Jack Johnson         2\n",
      "2077                              Human - The Killers         4\n",
      "2086                    Hustler - Simian Mobile Disco         2\n",
      "2173  I Still Haven't Found What I'm Looking For - U2         2\n",
      "2553                 King Without A Crown - Matisyahu         2\n",
      "2643                           Lava Lava - Boys Noize         2\n",
      "2820            Love All The Pain Away - Ronski Speed         4\n",
      "2828            Love Is A Losing Game - Amy Winehouse         2\n",
      "2952                         Marble House - The Knife         2\n",
      "3095                       Moth's Wings - Passion Pit         2\n",
      "3603                                 Pink - Aerosmith         2\n",
      "3759                       Read My Mind - The Killers         2\n",
      "3963                             Saturdays - Cut Copy         2\n",
      "4184                         Sleepyhead - Passion Pit         2\n",
      "4260   Something Good Can Work - Two Door Cinema Club         2\n",
      "4428                            Stronger - Kanye West         2\n",
      "4565                   Tales Of Brave Ulysses - Cream         2\n",
      "5291                 Walking On The Moon - The Police         2\n",
      "5605                     You Make Me Wanna... - Usher         2\n",
      "29\n"
     ]
    }
   ],
   "source": [
    "song_id_count = user_df.groupby('song').nunique()[['song_id']].rename(columns={'song_id':'id_count'}).reset_index()\n",
    "dups = song_id_count[song_id_count['id_count'] > 1]\n",
    "print(dups)\n",
    "print(len(dups))"
   ]
  },
  {
   "cell_type": "markdown",
   "metadata": {},
   "source": [
    "There are 29 songs that have more than one song id. We do not want to treat these songs as separate songs as it will skew our recommendations. We tells us that when we building our model we should use the listen counts of song names rather than song id. "
   ]
  },
  {
   "cell_type": "markdown",
   "metadata": {},
   "source": [
    "### How many different songs does a user actually listen to?\n",
    "\n",
    "We want to explore the distribution of how many different songs each user listens to. For example, we would not have a valid data set for a recommendation engine is 90% of users have only listened to one song."
   ]
  },
  {
   "cell_type": "code",
   "execution_count": 40,
   "metadata": {},
   "outputs": [
    {
     "data": {
      "text/html": [
       "<div>\n",
       "<style scoped>\n",
       "    .dataframe tbody tr th:only-of-type {\n",
       "        vertical-align: middle;\n",
       "    }\n",
       "\n",
       "    .dataframe tbody tr th {\n",
       "        vertical-align: top;\n",
       "    }\n",
       "\n",
       "    .dataframe thead th {\n",
       "        text-align: right;\n",
       "    }\n",
       "</style>\n",
       "<table border=\"1\" class=\"dataframe\">\n",
       "  <thead>\n",
       "    <tr style=\"text-align: right;\">\n",
       "      <th></th>\n",
       "      <th>song_count</th>\n",
       "    </tr>\n",
       "  </thead>\n",
       "  <tbody>\n",
       "    <tr>\n",
       "      <th>count</th>\n",
       "      <td>74899.000000</td>\n",
       "    </tr>\n",
       "    <tr>\n",
       "      <th>mean</th>\n",
       "      <td>15.226051</td>\n",
       "    </tr>\n",
       "    <tr>\n",
       "      <th>std</th>\n",
       "      <td>19.956964</td>\n",
       "    </tr>\n",
       "    <tr>\n",
       "      <th>min</th>\n",
       "      <td>1.000000</td>\n",
       "    </tr>\n",
       "    <tr>\n",
       "      <th>25%</th>\n",
       "      <td>5.000000</td>\n",
       "    </tr>\n",
       "    <tr>\n",
       "      <th>50%</th>\n",
       "      <td>9.000000</td>\n",
       "    </tr>\n",
       "    <tr>\n",
       "      <th>75%</th>\n",
       "      <td>18.000000</td>\n",
       "    </tr>\n",
       "    <tr>\n",
       "      <th>max</th>\n",
       "      <td>456.000000</td>\n",
       "    </tr>\n",
       "  </tbody>\n",
       "</table>\n",
       "</div>"
      ],
      "text/plain": [
       "         song_count\n",
       "count  74899.000000\n",
       "mean      15.226051\n",
       "std       19.956964\n",
       "min        1.000000\n",
       "25%        5.000000\n",
       "50%        9.000000\n",
       "75%       18.000000\n",
       "max      456.000000"
      ]
     },
     "execution_count": 40,
     "metadata": {},
     "output_type": "execute_result"
    }
   ],
   "source": [
    "# explore distribution of how many songs a user actually listens to\n",
    "\n",
    "song_count = user_df.groupby('user_id').count()[['song_id']].rename(columns={'song_id':'song_count'})\n",
    "song_count.describe()\n"
   ]
  },
  {
   "cell_type": "code",
   "execution_count": 41,
   "metadata": {},
   "outputs": [
    {
     "data": {
      "text/plain": [
       "3372"
      ]
     },
     "execution_count": 41,
     "metadata": {},
     "output_type": "execute_result"
    }
   ],
   "source": [
    "len(song_count[song_count['song_count'] == 1])"
   ]
  },
  {
   "cell_type": "markdown",
   "metadata": {},
   "source": [
    "3372 users in our dataset have only listened to one unique song"
   ]
  },
  {
   "cell_type": "code",
   "execution_count": 42,
   "metadata": {},
   "outputs": [
    {
     "data": {
      "text/plain": [
       "Text(0.5, 6.79999999999999, 'Number of unique songs a user listens to')"
      ]
     },
     "execution_count": 42,
     "metadata": {},
     "output_type": "execute_result"
    },
    {
     "data": {
      "text/plain": [
       "<Figure size 720x432 with 0 Axes>"
      ]
     },
     "metadata": {},
     "output_type": "display_data"
    },
    {
     "data": {
      "image/png": "[encoded data removed]",
      "text/plain": [
       "<Figure size 453.125x360 with 1 Axes>"
      ]
     },
     "metadata": {
      "needs_background": "light"
     },
     "output_type": "display_data"
    }
   ],
   "source": [
    "fig1 = plt.figure(figsize=(10,6))\n",
    "\n",
    "sns.displot(song_count)\n",
    "plt.xlabel(\"Number of unique songs a user listens to\")"
   ]
  },
  {
   "cell_type": "markdown",
   "metadata": {},
   "source": [
    "The plot shows that most users listen to less than 100 songs. Let's take a closer look at the box plot of this distribution."
   ]
  },
  {
   "cell_type": "code",
   "execution_count": 43,
   "metadata": {},
   "outputs": [
    {
     "data": {
      "text/html": [
       "<div>\n",
       "<style scoped>\n",
       "    .dataframe tbody tr th:only-of-type {\n",
       "        vertical-align: middle;\n",
       "    }\n",
       "\n",
       "    .dataframe tbody tr th {\n",
       "        vertical-align: top;\n",
       "    }\n",
       "\n",
       "    .dataframe thead th {\n",
       "        text-align: right;\n",
       "    }\n",
       "</style>\n",
       "<table border=\"1\" class=\"dataframe\">\n",
       "  <thead>\n",
       "    <tr style=\"text-align: right;\">\n",
       "      <th></th>\n",
       "      <th>song_count</th>\n",
       "    </tr>\n",
       "    <tr>\n",
       "      <th>user_id</th>\n",
       "      <th></th>\n",
       "    </tr>\n",
       "  </thead>\n",
       "  <tbody>\n",
       "    <tr>\n",
       "      <th>00003a4459f33b92906be11abe0e93efc423c0ff</th>\n",
       "      <td>2</td>\n",
       "    </tr>\n",
       "    <tr>\n",
       "      <th>00005c6177188f12fb5e2e82cdbd93e8a3f35e64</th>\n",
       "      <td>1</td>\n",
       "    </tr>\n",
       "    <tr>\n",
       "      <th>00030033e3a2f904a48ec1dd53019c9969b6ef1f</th>\n",
       "      <td>3</td>\n",
       "    </tr>\n",
       "    <tr>\n",
       "      <th>0007235c769e610e3d339a17818a5708e41008d9</th>\n",
       "      <td>7</td>\n",
       "    </tr>\n",
       "    <tr>\n",
       "      <th>0007c0e74728ca9ef0fe4eb7f75732e8026a278b</th>\n",
       "      <td>2</td>\n",
       "    </tr>\n",
       "    <tr>\n",
       "      <th>...</th>\n",
       "      <td>...</td>\n",
       "    </tr>\n",
       "    <tr>\n",
       "      <th>fffce9c1537fbc350ea68823d956eaa8f5236dbe</th>\n",
       "      <td>20</td>\n",
       "    </tr>\n",
       "    <tr>\n",
       "      <th>fffd6a2bdef646ce9898b628d5dd56c43df69a9d</th>\n",
       "      <td>3</td>\n",
       "    </tr>\n",
       "    <tr>\n",
       "      <th>fffd9635b33f412de8ed02e44e6564e3644cf3c6</th>\n",
       "      <td>12</td>\n",
       "    </tr>\n",
       "    <tr>\n",
       "      <th>fffe6d1d8500f1c1f31bd63abce35c0f975a86bf</th>\n",
       "      <td>4</td>\n",
       "    </tr>\n",
       "    <tr>\n",
       "      <th>fffea3d509760c984e7d40789804c0e5e289cc86</th>\n",
       "      <td>16</td>\n",
       "    </tr>\n",
       "  </tbody>\n",
       "</table>\n",
       "<p>74899 rows × 1 columns</p>\n",
       "</div>"
      ],
      "text/plain": [
       "                                          song_count\n",
       "user_id                                             \n",
       "00003a4459f33b92906be11abe0e93efc423c0ff           2\n",
       "00005c6177188f12fb5e2e82cdbd93e8a3f35e64           1\n",
       "00030033e3a2f904a48ec1dd53019c9969b6ef1f           3\n",
       "0007235c769e610e3d339a17818a5708e41008d9           7\n",
       "0007c0e74728ca9ef0fe4eb7f75732e8026a278b           2\n",
       "...                                              ...\n",
       "fffce9c1537fbc350ea68823d956eaa8f5236dbe          20\n",
       "fffd6a2bdef646ce9898b628d5dd56c43df69a9d           3\n",
       "fffd9635b33f412de8ed02e44e6564e3644cf3c6          12\n",
       "fffe6d1d8500f1c1f31bd63abce35c0f975a86bf           4\n",
       "fffea3d509760c984e7d40789804c0e5e289cc86          16\n",
       "\n",
       "[74899 rows x 1 columns]"
      ]
     },
     "execution_count": 43,
     "metadata": {},
     "output_type": "execute_result"
    }
   ],
   "source": [
    "song_count"
   ]
  },
  {
   "cell_type": "code",
   "execution_count": 44,
   "metadata": {
    "scrolled": true
   },
   "outputs": [
    {
     "data": {
      "text/plain": [
       "Text(0.5, 1.0, 'Boxplot of Total Songs a User Has Listened to')"
      ]
     },
     "execution_count": 44,
     "metadata": {},
     "output_type": "execute_result"
    },
    {
     "data": {
      "image/png": "[encoded data removed]",
      "text/plain": [
       "<Figure size 720x432 with 1 Axes>"
      ]
     },
     "metadata": {
      "needs_background": "light"
     },
     "output_type": "display_data"
    }
   ],
   "source": [
    "fig2 = plt.figure(figsize=(10,6))\n",
    "\n",
    "sns.boxplot(data=song_count)\n",
    "plt.xlabel(\"Count of Unique Songs\")\n",
    "plt.title(\"Boxplot of Total Songs a User Has Listened to\")"
   ]
  },
  {
   "cell_type": "code",
   "execution_count": 45,
   "metadata": {},
   "outputs": [
    {
     "data": {
      "text/plain": [
       "10"
      ]
     },
     "execution_count": 45,
     "metadata": {},
     "output_type": "execute_result"
    }
   ],
   "source": [
    "len(song_count[song_count['song_count'] > 300])"
   ]
  },
  {
   "cell_type": "markdown",
   "metadata": {},
   "source": [
    "Since we are building a recommendation system, outliers are treated differently as it is valid data of human activity. Also, the percentage of users that have only listened to one song is low so we can conclude that our data is valid for our model.\n",
    "\n",
    "\n",
    "### How many times is each song listened to?\n",
    "\n",
    "Now lets explore the number of times each song is listened to by users. We want to see if there are any outliers so that our analysis is not skewed when recommending songs. For example, we wouldn't want a song to be recommended to users only because it's listen count is considerably higher than all other songs."
   ]
  },
  {
   "cell_type": "code",
   "execution_count": 46,
   "metadata": {},
   "outputs": [
    {
     "data": {
      "text/html": [
       "<div>\n",
       "<style scoped>\n",
       "    .dataframe tbody tr th:only-of-type {\n",
       "        vertical-align: middle;\n",
       "    }\n",
       "\n",
       "    .dataframe tbody tr th {\n",
       "        vertical-align: top;\n",
       "    }\n",
       "\n",
       "    .dataframe thead th {\n",
       "        text-align: right;\n",
       "    }\n",
       "</style>\n",
       "<table border=\"1\" class=\"dataframe\">\n",
       "  <thead>\n",
       "    <tr style=\"text-align: right;\">\n",
       "      <th></th>\n",
       "      <th>listen_count</th>\n",
       "    </tr>\n",
       "  </thead>\n",
       "  <tbody>\n",
       "    <tr>\n",
       "      <th>count</th>\n",
       "      <td>5679.000000</td>\n",
       "    </tr>\n",
       "    <tr>\n",
       "      <th>mean</th>\n",
       "      <td>577.460116</td>\n",
       "    </tr>\n",
       "    <tr>\n",
       "      <th>std</th>\n",
       "      <td>1065.251983</td>\n",
       "    </tr>\n",
       "    <tr>\n",
       "      <th>min</th>\n",
       "      <td>71.000000</td>\n",
       "    </tr>\n",
       "    <tr>\n",
       "      <th>25%</th>\n",
       "      <td>219.000000</td>\n",
       "    </tr>\n",
       "    <tr>\n",
       "      <th>50%</th>\n",
       "      <td>333.000000</td>\n",
       "    </tr>\n",
       "    <tr>\n",
       "      <th>75%</th>\n",
       "      <td>573.500000</td>\n",
       "    </tr>\n",
       "    <tr>\n",
       "      <th>max</th>\n",
       "      <td>41418.000000</td>\n",
       "    </tr>\n",
       "  </tbody>\n",
       "</table>\n",
       "</div>"
      ],
      "text/plain": [
       "       listen_count\n",
       "count   5679.000000\n",
       "mean     577.460116\n",
       "std     1065.251983\n",
       "min       71.000000\n",
       "25%      219.000000\n",
       "50%      333.000000\n",
       "75%      573.500000\n",
       "max    41418.000000"
      ]
     },
     "execution_count": 46,
     "metadata": {},
     "output_type": "execute_result"
    }
   ],
   "source": [
    "# explore distribution of how many times a song is listened to\n",
    "\n",
    "listen_count = user_df.groupby('song').sum()[['listen_count']]\n",
    "listen_count.describe()\n"
   ]
  },
  {
   "cell_type": "markdown",
   "metadata": {},
   "source": [
    "A song at the 75th percentile is listened to 575 times. The max number of listens is 41,418. Again, this indicates that we have large variance in our data. Let's look at the distribution of the listen counts and zoom in on our outliers."
   ]
  },
  {
   "cell_type": "code",
   "execution_count": 47,
   "metadata": {
    "scrolled": true
   },
   "outputs": [
    {
     "data": {
      "text/plain": [
       "Text(0.5, 6.79999999999999, 'Number of times a song is listened to')"
      ]
     },
     "execution_count": 47,
     "metadata": {},
     "output_type": "execute_result"
    },
    {
     "data": {
      "text/plain": [
       "<Figure size 720x432 with 0 Axes>"
      ]
     },
     "metadata": {},
     "output_type": "display_data"
    },
    {
     "data": {
      "image/png": "[encoded data removed]",
      "text/plain": [
       "<Figure size 456.5x360 with 1 Axes>"
      ]
     },
     "metadata": {
      "needs_background": "light"
     },
     "output_type": "display_data"
    }
   ],
   "source": [
    "fig3 = plt.figure(figsize=(10,6))\n",
    "\n",
    "sns.displot(listen_count)\n",
    "plt.xlabel(\"Number of times a song is listened to\")"
   ]
  },
  {
   "cell_type": "code",
   "execution_count": 48,
   "metadata": {},
   "outputs": [
    {
     "data": {
      "text/plain": [
       "Text(0.5, 1.0, 'Boxplot of Song Listen Counts')"
      ]
     },
     "execution_count": 48,
     "metadata": {},
     "output_type": "execute_result"
    },
    {
     "data": {
      "image/png": "[encoded data removed]",
      "text/plain": [
       "<Figure size 720x432 with 1 Axes>"
      ]
     },
     "metadata": {
      "needs_background": "light"
     },
     "output_type": "display_data"
    }
   ],
   "source": [
    "fig4 = plt.figure(figsize=(10,6))\n",
    "\n",
    "sns.boxplot(data=listen_count)\n",
    "plt.xlabel(\"Listen Count\")\n",
    "plt.title(\"Boxplot of Song Listen Counts\")"
   ]
  },
  {
   "cell_type": "code",
   "execution_count": 49,
   "metadata": {},
   "outputs": [
    {
     "data": {
      "text/plain": [
       "7"
      ]
     },
     "execution_count": 49,
     "metadata": {},
     "output_type": "execute_result"
    }
   ],
   "source": [
    "len(listen_count[listen_count['listen_count'] > 10000])"
   ]
  },
  {
   "cell_type": "markdown",
   "metadata": {},
   "source": [
    "From the boxplot you can see that there are a few songs with very high listen counts. We want to keep these songs in mind during our modeling stage so that they wont be recommended to users just because of their popularity. Do these songs have a lot of people that listen to them, or do a few users listens to these songs very frequently?"
   ]
  },
  {
   "cell_type": "code",
   "execution_count": 50,
   "metadata": {},
   "outputs": [
    {
     "data": {
      "text/plain": [
       "Text(0.5, 1.0, 'Most Popular Songs (> 10,000 listens)')"
      ]
     },
     "execution_count": 50,
     "metadata": {},
     "output_type": "execute_result"
    },
    {
     "data": {
      "image/png": "[encoded data removed]",
      "text/plain": [
       "<Figure size 720x432 with 1 Axes>"
      ]
     },
     "metadata": {
      "needs_background": "light"
     },
     "output_type": "display_data"
    }
   ],
   "source": [
    "# we'll subset the outliers (songs with listened to over 20000 times)\n",
    "pop_songs = listen_count[listen_count['listen_count'] > 10000].sort_values('listen_count', ascending = True)\n",
    "\n",
    "#visualize top songs\n",
    "fig4 = plt.figure(figsize=(10,6))\n",
    "\n",
    "plt.barh(pop_songs.index, pop_songs.listen_count)\n",
    "plt.title(\"Most Popular Songs (> 10,000 listens)\")\n"
   ]
  },
  {
   "cell_type": "code",
   "execution_count": 51,
   "metadata": {
    "scrolled": true
   },
   "outputs": [
    {
     "data": {
      "text/html": [
       "<div>\n",
       "<style scoped>\n",
       "    .dataframe tbody tr th:only-of-type {\n",
       "        vertical-align: middle;\n",
       "    }\n",
       "\n",
       "    .dataframe tbody tr th {\n",
       "        vertical-align: top;\n",
       "    }\n",
       "\n",
       "    .dataframe thead th {\n",
       "        text-align: right;\n",
       "    }\n",
       "</style>\n",
       "<table border=\"1\" class=\"dataframe\">\n",
       "  <thead>\n",
       "    <tr style=\"text-align: right;\">\n",
       "      <th></th>\n",
       "      <th>user_id</th>\n",
       "    </tr>\n",
       "    <tr>\n",
       "      <th>song</th>\n",
       "      <th></th>\n",
       "    </tr>\n",
       "  </thead>\n",
       "  <tbody>\n",
       "    <tr>\n",
       "      <th>Invalid - Tub Ring</th>\n",
       "      <td>2887</td>\n",
       "    </tr>\n",
       "    <tr>\n",
       "      <th>Make Love To Your Mind - Bill Withers</th>\n",
       "      <td>1481</td>\n",
       "    </tr>\n",
       "    <tr>\n",
       "      <th>Marry Me - Train</th>\n",
       "      <td>3578</td>\n",
       "    </tr>\n",
       "    <tr>\n",
       "      <th>Revelry - Kings Of Leon</th>\n",
       "      <td>6145</td>\n",
       "    </tr>\n",
       "    <tr>\n",
       "      <th>Secrets - OneRepublic</th>\n",
       "      <td>5841</td>\n",
       "    </tr>\n",
       "    <tr>\n",
       "      <th>Tive Sim - Cartola</th>\n",
       "      <td>4548</td>\n",
       "    </tr>\n",
       "    <tr>\n",
       "      <th>Use Somebody - Kings Of Leon</th>\n",
       "      <td>3976</td>\n",
       "    </tr>\n",
       "  </tbody>\n",
       "</table>\n",
       "</div>"
      ],
      "text/plain": [
       "                                       user_id\n",
       "song                                          \n",
       "Invalid - Tub Ring                        2887\n",
       "Make Love To Your Mind - Bill Withers     1481\n",
       "Marry Me - Train                          3578\n",
       "Revelry - Kings Of Leon                   6145\n",
       "Secrets - OneRepublic                     5841\n",
       "Tive Sim - Cartola                        4548\n",
       "Use Somebody - Kings Of Leon              3976"
      ]
     },
     "execution_count": 51,
     "metadata": {},
     "output_type": "execute_result"
    }
   ],
   "source": [
    "user_df[user_df['song'].isin(pop_songs.index)][['user_id', 'song']].groupby('song').count()[['user_id']]"
   ]
  },
  {
   "cell_type": "markdown",
   "metadata": {},
   "source": [
    "### How many unique users listen to each song?\n",
    "\n",
    "Do these user counts align with the user count distribution of all songs?"
   ]
  },
  {
   "cell_type": "code",
   "execution_count": 52,
   "metadata": {},
   "outputs": [
    {
     "name": "stdout",
     "output_type": "stream",
     "text": [
      "           user_id\n",
      "count  5679.000000\n",
      "mean    200.812819\n",
      "std     280.493818\n",
      "min      48.000000\n",
      "25%      90.000000\n",
      "50%     127.000000\n",
      "75%     206.000000\n",
      "max    6145.000000\n"
     ]
    },
    {
     "data": {
      "text/html": [
       "<div>\n",
       "<style scoped>\n",
       "    .dataframe tbody tr th:only-of-type {\n",
       "        vertical-align: middle;\n",
       "    }\n",
       "\n",
       "    .dataframe tbody tr th {\n",
       "        vertical-align: top;\n",
       "    }\n",
       "\n",
       "    .dataframe thead th {\n",
       "        text-align: right;\n",
       "    }\n",
       "</style>\n",
       "<table border=\"1\" class=\"dataframe\">\n",
       "  <thead>\n",
       "    <tr style=\"text-align: right;\">\n",
       "      <th></th>\n",
       "      <th>user_id</th>\n",
       "      <th>listen_count</th>\n",
       "    </tr>\n",
       "    <tr>\n",
       "      <th>song</th>\n",
       "      <th></th>\n",
       "      <th></th>\n",
       "    </tr>\n",
       "  </thead>\n",
       "  <tbody>\n",
       "    <tr>\n",
       "      <th>Revelry - Kings Of Leon</th>\n",
       "      <td>6145</td>\n",
       "      <td>41418</td>\n",
       "    </tr>\n",
       "    <tr>\n",
       "      <th>Secrets - OneRepublic</th>\n",
       "      <td>5841</td>\n",
       "      <td>22100</td>\n",
       "    </tr>\n",
       "    <tr>\n",
       "      <th>Invalid - Tub Ring</th>\n",
       "      <td>2887</td>\n",
       "      <td>19645</td>\n",
       "    </tr>\n",
       "    <tr>\n",
       "      <th>Tive Sim - Cartola</th>\n",
       "      <td>4548</td>\n",
       "      <td>14423</td>\n",
       "    </tr>\n",
       "    <tr>\n",
       "      <th>Marry Me - Train</th>\n",
       "      <td>3578</td>\n",
       "      <td>13116</td>\n",
       "    </tr>\n",
       "    <tr>\n",
       "      <th>Make Love To Your Mind - Bill Withers</th>\n",
       "      <td>1481</td>\n",
       "      <td>11371</td>\n",
       "    </tr>\n",
       "    <tr>\n",
       "      <th>Use Somebody - Kings Of Leon</th>\n",
       "      <td>3976</td>\n",
       "      <td>11070</td>\n",
       "    </tr>\n",
       "    <tr>\n",
       "      <th>Almaz - Randy Crawford</th>\n",
       "      <td>1710</td>\n",
       "      <td>9524</td>\n",
       "    </tr>\n",
       "  </tbody>\n",
       "</table>\n",
       "</div>"
      ],
      "text/plain": [
       "                                       user_id  listen_count\n",
       "song                                                        \n",
       "Revelry - Kings Of Leon                   6145         41418\n",
       "Secrets - OneRepublic                     5841         22100\n",
       "Invalid - Tub Ring                        2887         19645\n",
       "Tive Sim - Cartola                        4548         14423\n",
       "Marry Me - Train                          3578         13116\n",
       "Make Love To Your Mind - Bill Withers     1481         11371\n",
       "Use Somebody - Kings Of Leon              3976         11070\n",
       "Almaz - Randy Crawford                    1710          9524"
      ]
     },
     "execution_count": 52,
     "metadata": {},
     "output_type": "execute_result"
    }
   ],
   "source": [
    "user_count = user_df.groupby('song').count()[['user_id']]\n",
    "print(user_count.describe())\n",
    "user_song_count = pd.concat([user_count, listen_count], axis=1)\n",
    "\n",
    "user_song_count.sort_values('listen_count', ascending = False).head(8)"
   ]
  },
  {
   "cell_type": "code",
   "execution_count": 53,
   "metadata": {},
   "outputs": [
    {
     "data": {
      "text/plain": [
       "Text(0.5, 1.0, 'Scatterplot of Song Listen Counts And User Count')"
      ]
     },
     "execution_count": 53,
     "metadata": {},
     "output_type": "execute_result"
    },
    {
     "data": {
      "image/png": "[encoded data removed]",
      "text/plain": [
       "<Figure size 720x432 with 1 Axes>"
      ]
     },
     "metadata": {
      "needs_background": "light"
     },
     "output_type": "display_data"
    }
   ],
   "source": [
    "fig4 = plt.figure(figsize=(10,6))\n",
    "\n",
    "sns.scatterplot(x=user_song_count.listen_count, y=user_song_count.user_id)\n",
    "plt.xlabel(\"listen count\")\n",
    "plt.ylabel(\"count of unique users\")\n",
    "plt.title(\"Scatterplot of Song Listen Counts And User Count\")"
   ]
  },
  {
   "cell_type": "markdown",
   "metadata": {},
   "source": [
    "The scatterplot shows that there is a relationship between number of listens and number of users. With the exception of a couple of outliers, the number of users that listen to a song increases as the number of listens increases. This tells us that the listen count of our popular songs is not skewed by a few users with extreme listen counts.\n",
    "\n",
    "### Whats the total listen count of each user? \n",
    "Now we want to see the distribution of the amount of times a user listens to any song (total listen count). Again, if a large amount of the users also listen once this could make our dataset not usable for training a recommendation engine."
   ]
  },
  {
   "cell_type": "code",
   "execution_count": 54,
   "metadata": {},
   "outputs": [
    {
     "data": {
      "text/html": [
       "<div>\n",
       "<style scoped>\n",
       "    .dataframe tbody tr th:only-of-type {\n",
       "        vertical-align: middle;\n",
       "    }\n",
       "\n",
       "    .dataframe tbody tr th {\n",
       "        vertical-align: top;\n",
       "    }\n",
       "\n",
       "    .dataframe thead th {\n",
       "        text-align: right;\n",
       "    }\n",
       "</style>\n",
       "<table border=\"1\" class=\"dataframe\">\n",
       "  <thead>\n",
       "    <tr style=\"text-align: right;\">\n",
       "      <th></th>\n",
       "      <th>listen_count</th>\n",
       "    </tr>\n",
       "  </thead>\n",
       "  <tbody>\n",
       "    <tr>\n",
       "      <th>count</th>\n",
       "      <td>74899.000000</td>\n",
       "    </tr>\n",
       "    <tr>\n",
       "      <th>mean</th>\n",
       "      <td>43.784243</td>\n",
       "    </tr>\n",
       "    <tr>\n",
       "      <th>std</th>\n",
       "      <td>68.456951</td>\n",
       "    </tr>\n",
       "    <tr>\n",
       "      <th>min</th>\n",
       "      <td>1.000000</td>\n",
       "    </tr>\n",
       "    <tr>\n",
       "      <th>25%</th>\n",
       "      <td>8.000000</td>\n",
       "    </tr>\n",
       "    <tr>\n",
       "      <th>50%</th>\n",
       "      <td>21.000000</td>\n",
       "    </tr>\n",
       "    <tr>\n",
       "      <th>75%</th>\n",
       "      <td>51.000000</td>\n",
       "    </tr>\n",
       "    <tr>\n",
       "      <th>max</th>\n",
       "      <td>2566.000000</td>\n",
       "    </tr>\n",
       "  </tbody>\n",
       "</table>\n",
       "</div>"
      ],
      "text/plain": [
       "       listen_count\n",
       "count  74899.000000\n",
       "mean      43.784243\n",
       "std       68.456951\n",
       "min        1.000000\n",
       "25%        8.000000\n",
       "50%       21.000000\n",
       "75%       51.000000\n",
       "max     2566.000000"
      ]
     },
     "execution_count": 54,
     "metadata": {},
     "output_type": "execute_result"
    }
   ],
   "source": [
    "# explore distribution of the listen count of each user\n",
    "\n",
    "user_listen_count = user_df.groupby('user_id').sum()[['listen_count']]\n",
    "user_listen_count.describe()\n"
   ]
  },
  {
   "cell_type": "code",
   "execution_count": 55,
   "metadata": {},
   "outputs": [
    {
     "data": {
      "text/plain": [
       "Text(0.5, 6.79999999999999, 'User listen count')"
      ]
     },
     "execution_count": 55,
     "metadata": {},
     "output_type": "execute_result"
    },
    {
     "data": {
      "text/plain": [
       "<Figure size 720x432 with 0 Axes>"
      ]
     },
     "metadata": {},
     "output_type": "display_data"
    },
    {
     "data": {
      "image/png": "[encoded data removed]",
      "text/plain": [
       "<Figure size 456.5x360 with 1 Axes>"
      ]
     },
     "metadata": {
      "needs_background": "light"
     },
     "output_type": "display_data"
    }
   ],
   "source": [
    "fig4 = plt.figure(figsize=(10,6))\n",
    "\n",
    "sns.displot(user_listen_count)\n",
    "plt.xlabel(\"User listen count\")"
   ]
  },
  {
   "cell_type": "code",
   "execution_count": 56,
   "metadata": {},
   "outputs": [
    {
     "data": {
      "text/plain": [
       "Text(0.5, 0, 'User listen count')"
      ]
     },
     "execution_count": 56,
     "metadata": {},
     "output_type": "execute_result"
    },
    {
     "data": {
      "image/png": "[encoded data removed]",
      "text/plain": [
       "<Figure size 720x432 with 1 Axes>"
      ]
     },
     "metadata": {
      "needs_background": "light"
     },
     "output_type": "display_data"
    }
   ],
   "source": [
    "fig4 = plt.figure(figsize=(10,6))\n",
    "\n",
    "sns.boxplot(data=user_listen_count)\n",
    "plt.xlabel(\"User listen count\")"
   ]
  },
  {
   "cell_type": "code",
   "execution_count": 57,
   "metadata": {},
   "outputs": [
    {
     "data": {
      "text/plain": [
       "17"
      ]
     },
     "execution_count": 57,
     "metadata": {},
     "output_type": "execute_result"
    }
   ],
   "source": [
    "len(user_listen_count[user_listen_count['listen_count'] > 1000])"
   ]
  },
  {
   "cell_type": "code",
   "execution_count": 58,
   "metadata": {},
   "outputs": [
    {
     "data": {
      "text/plain": [
       "2065"
      ]
     },
     "execution_count": 58,
     "metadata": {},
     "output_type": "execute_result"
    }
   ],
   "source": [
    "len(user_listen_count[user_listen_count['listen_count'] == 1])"
   ]
  },
  {
   "cell_type": "markdown",
   "metadata": {},
   "source": [
    "Only 2064 users have a listen count of one. This is a low percentage, making our dataset valid for building our model."
   ]
  },
  {
   "cell_type": "markdown",
   "metadata": {},
   "source": [
    "This EDA tells us that we have a valid dataset to begin training our recommendation engine. There are some songs that are 'outliers' in regards to listen count however we will not remove these outliers. We will just keep these songs in mind during the modeling stage and make sure they are not recommended to a lot of users solely due to their popularity. "
   ]
  },
  {
   "cell_type": "code",
   "execution_count": 59,
   "metadata": {},
   "outputs": [],
   "source": [
    "import pandas as pd\n",
    "import seaborn as sns\n",
    "import matplotlib\n",
    "import matplotlib.pyplot as plt\n",
    "\n",
    "#import dataset\n",
    "df = pd.read_csv('data/User_SongFeatures_data.csv', compression=\"xz\")"
   ]
  },
  {
   "cell_type": "code",
   "execution_count": 60,
   "metadata": {},
   "outputs": [],
   "source": [
    "#get rid of unecessary columns\n",
    "features_df = df.drop(columns = ['user_id','track_href', 'type', 'uri_y', 'name', 'uri_x', 'id', 'analysis_url'])\n"
   ]
  },
  {
   "cell_type": "code",
   "execution_count": 61,
   "metadata": {},
   "outputs": [
    {
     "data": {
      "text/plain": [
       "5679"
      ]
     },
     "execution_count": 61,
     "metadata": {},
     "output_type": "execute_result"
    }
   ],
   "source": [
    "# add total listen count of each song\n",
    "\n",
    "total_listen_count = features_df.groupby('song').sum()[['listen_count']]\n",
    "listen_df = features_df.merge(total_listen_count, on='song').drop(columns=['listen_count_x']).drop_duplicates('song')\n",
    "\n",
    "listen_df.song_id.nunique()"
   ]
  },
  {
   "cell_type": "code",
   "execution_count": 62,
   "metadata": {},
   "outputs": [
    {
     "data": {
      "text/html": [
       "<div>\n",
       "<style scoped>\n",
       "    .dataframe tbody tr th:only-of-type {\n",
       "        vertical-align: middle;\n",
       "    }\n",
       "\n",
       "    .dataframe tbody tr th {\n",
       "        vertical-align: top;\n",
       "    }\n",
       "\n",
       "    .dataframe thead th {\n",
       "        text-align: right;\n",
       "    }\n",
       "</style>\n",
       "<table border=\"1\" class=\"dataframe\">\n",
       "  <thead>\n",
       "    <tr style=\"text-align: right;\">\n",
       "      <th></th>\n",
       "      <th>song_id</th>\n",
       "      <th>title</th>\n",
       "      <th>release</th>\n",
       "      <th>artist_name</th>\n",
       "      <th>year</th>\n",
       "      <th>song</th>\n",
       "      <th>danceability</th>\n",
       "      <th>energy</th>\n",
       "      <th>key</th>\n",
       "      <th>loudness</th>\n",
       "      <th>mode</th>\n",
       "      <th>speechiness</th>\n",
       "      <th>acousticness</th>\n",
       "      <th>instrumentalness</th>\n",
       "      <th>liveness</th>\n",
       "      <th>valence</th>\n",
       "      <th>tempo</th>\n",
       "      <th>duration_ms</th>\n",
       "      <th>time_signature</th>\n",
       "      <th>listen_count_y</th>\n",
       "    </tr>\n",
       "  </thead>\n",
       "  <tbody>\n",
       "    <tr>\n",
       "      <th>0</th>\n",
       "      <td>SOBXHDL12A81C204C0</td>\n",
       "      <td>stronger</td>\n",
       "      <td>Graduation</td>\n",
       "      <td>kanye west</td>\n",
       "      <td>2007</td>\n",
       "      <td>Stronger - Kanye West</td>\n",
       "      <td>0.617</td>\n",
       "      <td>0.717</td>\n",
       "      <td>10</td>\n",
       "      <td>-7.858</td>\n",
       "      <td>0</td>\n",
       "      <td>0.1530</td>\n",
       "      <td>0.005640</td>\n",
       "      <td>0.000000</td>\n",
       "      <td>0.408</td>\n",
       "      <td>0.490</td>\n",
       "      <td>103.992</td>\n",
       "      <td>311867</td>\n",
       "      <td>4</td>\n",
       "      <td>4846</td>\n",
       "    </tr>\n",
       "    <tr>\n",
       "      <th>1365</th>\n",
       "      <td>SOBYHAJ12A6701BF1D</td>\n",
       "      <td>constellations</td>\n",
       "      <td>In Between Dreams</td>\n",
       "      <td>jack johnson</td>\n",
       "      <td>2005</td>\n",
       "      <td>Constellations - Jack Johnson</td>\n",
       "      <td>0.705</td>\n",
       "      <td>0.309</td>\n",
       "      <td>1</td>\n",
       "      <td>-12.596</td>\n",
       "      <td>1</td>\n",
       "      <td>0.0363</td>\n",
       "      <td>0.476000</td>\n",
       "      <td>0.000038</td>\n",
       "      <td>0.114</td>\n",
       "      <td>0.426</td>\n",
       "      <td>122.039</td>\n",
       "      <td>201653</td>\n",
       "      <td>4</td>\n",
       "      <td>1287</td>\n",
       "    </tr>\n",
       "    <tr>\n",
       "      <th>1922</th>\n",
       "      <td>SODACBL12A8C13C273</td>\n",
       "      <td>learn to fly</td>\n",
       "      <td>There Is Nothing Left To Lose</td>\n",
       "      <td>foo fighters</td>\n",
       "      <td>1999</td>\n",
       "      <td>Learn To Fly - Foo Fighters</td>\n",
       "      <td>0.465</td>\n",
       "      <td>0.919</td>\n",
       "      <td>4</td>\n",
       "      <td>-4.025</td>\n",
       "      <td>1</td>\n",
       "      <td>0.0408</td>\n",
       "      <td>0.000018</td>\n",
       "      <td>0.000021</td>\n",
       "      <td>0.262</td>\n",
       "      <td>0.537</td>\n",
       "      <td>135.997</td>\n",
       "      <td>235293</td>\n",
       "      <td>4</td>\n",
       "      <td>2445</td>\n",
       "    </tr>\n",
       "    <tr>\n",
       "      <th>2839</th>\n",
       "      <td>SODXRTY12AB0180F3B</td>\n",
       "      <td>paper gangsta</td>\n",
       "      <td>The Fame Monster</td>\n",
       "      <td>lady gaga</td>\n",
       "      <td>2008</td>\n",
       "      <td>Paper Gangsta - Lady GaGa</td>\n",
       "      <td>0.756</td>\n",
       "      <td>0.841</td>\n",
       "      <td>8</td>\n",
       "      <td>-5.051</td>\n",
       "      <td>1</td>\n",
       "      <td>0.0755</td>\n",
       "      <td>0.049600</td>\n",
       "      <td>0.000001</td>\n",
       "      <td>0.238</td>\n",
       "      <td>0.569</td>\n",
       "      <td>99.008</td>\n",
       "      <td>263360</td>\n",
       "      <td>4</td>\n",
       "      <td>1198</td>\n",
       "    </tr>\n",
       "    <tr>\n",
       "      <th>3366</th>\n",
       "      <td>SOFGUAY12AB017B0A8</td>\n",
       "      <td>stacked actors</td>\n",
       "      <td>There Is Nothing Left To Lose</td>\n",
       "      <td>foo fighters</td>\n",
       "      <td>1999</td>\n",
       "      <td>Stacked Actors - Foo Fighters</td>\n",
       "      <td>0.502</td>\n",
       "      <td>0.934</td>\n",
       "      <td>7</td>\n",
       "      <td>-5.145</td>\n",
       "      <td>1</td>\n",
       "      <td>0.0500</td>\n",
       "      <td>0.002030</td>\n",
       "      <td>0.001020</td>\n",
       "      <td>0.234</td>\n",
       "      <td>0.670</td>\n",
       "      <td>134.898</td>\n",
       "      <td>256440</td>\n",
       "      <td>4</td>\n",
       "      <td>267</td>\n",
       "    </tr>\n",
       "  </tbody>\n",
       "</table>\n",
       "</div>"
      ],
      "text/plain": [
       "                 song_id           title                        release  \\\n",
       "0     SOBXHDL12A81C204C0        stronger                     Graduation   \n",
       "1365  SOBYHAJ12A6701BF1D  constellations              In Between Dreams   \n",
       "1922  SODACBL12A8C13C273    learn to fly  There Is Nothing Left To Lose   \n",
       "2839  SODXRTY12AB0180F3B   paper gangsta               The Fame Monster   \n",
       "3366  SOFGUAY12AB017B0A8  stacked actors  There Is Nothing Left To Lose   \n",
       "\n",
       "       artist_name  year                           song  danceability  energy  \\\n",
       "0       kanye west  2007          Stronger - Kanye West         0.617   0.717   \n",
       "1365  jack johnson  2005  Constellations - Jack Johnson         0.705   0.309   \n",
       "1922  foo fighters  1999    Learn To Fly - Foo Fighters         0.465   0.919   \n",
       "2839     lady gaga  2008      Paper Gangsta - Lady GaGa         0.756   0.841   \n",
       "3366  foo fighters  1999  Stacked Actors - Foo Fighters         0.502   0.934   \n",
       "\n",
       "      key  loudness  mode  speechiness  acousticness  instrumentalness  \\\n",
       "0      10    -7.858     0       0.1530      0.005640          0.000000   \n",
       "1365    1   -12.596     1       0.0363      0.476000          0.000038   \n",
       "1922    4    -4.025     1       0.0408      0.000018          0.000021   \n",
       "2839    8    -5.051     1       0.0755      0.049600          0.000001   \n",
       "3366    7    -5.145     1       0.0500      0.002030          0.001020   \n",
       "\n",
       "      liveness  valence    tempo  duration_ms  time_signature  listen_count_y  \n",
       "0        0.408    0.490  103.992       311867               4            4846  \n",
       "1365     0.114    0.426  122.039       201653               4            1287  \n",
       "1922     0.262    0.537  135.997       235293               4            2445  \n",
       "2839     0.238    0.569   99.008       263360               4            1198  \n",
       "3366     0.234    0.670  134.898       256440               4             267  "
      ]
     },
     "execution_count": 62,
     "metadata": {},
     "output_type": "execute_result"
    }
   ],
   "source": [
    "listen_df.head()"
   ]
  },
  {
   "cell_type": "code",
   "execution_count": 63,
   "metadata": {},
   "outputs": [
    {
     "name": "stdout",
     "output_type": "stream",
     "text": [
      "1955\n",
      "2010\n"
     ]
    }
   ],
   "source": [
    "# popularity of songs in different years \n",
    "\n",
    "print(listen_df[listen_df.year != 0].year.min()) # there are years inputted as 0\n",
    "print(listen_df.year.max())"
   ]
  },
  {
   "cell_type": "code",
   "execution_count": 64,
   "metadata": {},
   "outputs": [
    {
     "data": {
      "text/html": [
       "<div>\n",
       "<style scoped>\n",
       "    .dataframe tbody tr th:only-of-type {\n",
       "        vertical-align: middle;\n",
       "    }\n",
       "\n",
       "    .dataframe tbody tr th {\n",
       "        vertical-align: top;\n",
       "    }\n",
       "\n",
       "    .dataframe thead th {\n",
       "        text-align: right;\n",
       "    }\n",
       "</style>\n",
       "<table border=\"1\" class=\"dataframe\">\n",
       "  <thead>\n",
       "    <tr style=\"text-align: right;\">\n",
       "      <th></th>\n",
       "      <th>year</th>\n",
       "      <th>listen_count_y</th>\n",
       "      <th>decade</th>\n",
       "    </tr>\n",
       "  </thead>\n",
       "  <tbody>\n",
       "    <tr>\n",
       "      <th>0</th>\n",
       "      <td>1955</td>\n",
       "      <td>282</td>\n",
       "      <td>1950</td>\n",
       "    </tr>\n",
       "    <tr>\n",
       "      <th>1</th>\n",
       "      <td>1956</td>\n",
       "      <td>468</td>\n",
       "      <td>1950</td>\n",
       "    </tr>\n",
       "    <tr>\n",
       "      <th>2</th>\n",
       "      <td>1957</td>\n",
       "      <td>474</td>\n",
       "      <td>1950</td>\n",
       "    </tr>\n",
       "    <tr>\n",
       "      <th>3</th>\n",
       "      <td>1958</td>\n",
       "      <td>3257</td>\n",
       "      <td>1950</td>\n",
       "    </tr>\n",
       "    <tr>\n",
       "      <th>4</th>\n",
       "      <td>1959</td>\n",
       "      <td>1118</td>\n",
       "      <td>1950</td>\n",
       "    </tr>\n",
       "  </tbody>\n",
       "</table>\n",
       "</div>"
      ],
      "text/plain": [
       "   year  listen_count_y  decade\n",
       "0  1955             282    1950\n",
       "1  1956             468    1950\n",
       "2  1957             474    1950\n",
       "3  1958            3257    1950\n",
       "4  1959            1118    1950"
      ]
     },
     "execution_count": 64,
     "metadata": {},
     "output_type": "execute_result"
    }
   ],
   "source": [
    "# aggregate by year \n",
    "\n",
    "year_count = listen_df[listen_df.year != 0].groupby('year').sum()[['listen_count_y']].reset_index()\n",
    "# create buckets for year\n",
    "year_count['decade'] = (year_count.year//10)*10\n",
    "\n",
    "year_count.head()"
   ]
  },
  {
   "cell_type": "code",
   "execution_count": 65,
   "metadata": {},
   "outputs": [
    {
     "data": {
      "text/plain": [
       "<seaborn.axisgrid.FacetGrid at 0x7f781349dfd0>"
      ]
     },
     "execution_count": 65,
     "metadata": {},
     "output_type": "execute_result"
    },
    {
     "data": {
      "image/png": "[encoded data removed]",
      "text/plain": [
       "<Figure size 360x360 with 1 Axes>"
      ]
     },
     "metadata": {
      "needs_background": "light"
     },
     "output_type": "display_data"
    }
   ],
   "source": [
    "sns.catplot(x=\"decade\", y=\"listen_count_y\", data=year_count)\n"
   ]
  },
  {
   "cell_type": "code",
   "execution_count": 66,
   "metadata": {},
   "outputs": [],
   "source": [
    "# group by decade and graph\n",
    "\n",
    "decade_count = year_count.groupby('decade').sum()[['listen_count_y']].reset_index()\n"
   ]
  },
  {
   "cell_type": "markdown",
   "metadata": {},
   "source": [
    "Makes sense that current songs are more popular. 2010's dont have higher listen count than 2000's because data stops at 2012."
   ]
  },
  {
   "cell_type": "code",
   "execution_count": 67,
   "metadata": {},
   "outputs": [
    {
     "data": {
      "text/html": [
       "<div>\n",
       "<style scoped>\n",
       "    .dataframe tbody tr th:only-of-type {\n",
       "        vertical-align: middle;\n",
       "    }\n",
       "\n",
       "    .dataframe tbody tr th {\n",
       "        vertical-align: top;\n",
       "    }\n",
       "\n",
       "    .dataframe thead th {\n",
       "        text-align: right;\n",
       "    }\n",
       "</style>\n",
       "<table border=\"1\" class=\"dataframe\">\n",
       "  <thead>\n",
       "    <tr style=\"text-align: right;\">\n",
       "      <th></th>\n",
       "      <th>danceability</th>\n",
       "      <th>listen_count_y</th>\n",
       "    </tr>\n",
       "  </thead>\n",
       "  <tbody>\n",
       "    <tr>\n",
       "      <th>0</th>\n",
       "      <td>0.0605</td>\n",
       "      <td>730</td>\n",
       "    </tr>\n",
       "    <tr>\n",
       "      <th>1</th>\n",
       "      <td>0.0627</td>\n",
       "      <td>118</td>\n",
       "    </tr>\n",
       "    <tr>\n",
       "      <th>2</th>\n",
       "      <td>0.0645</td>\n",
       "      <td>476</td>\n",
       "    </tr>\n",
       "    <tr>\n",
       "      <th>3</th>\n",
       "      <td>0.0703</td>\n",
       "      <td>156</td>\n",
       "    </tr>\n",
       "    <tr>\n",
       "      <th>4</th>\n",
       "      <td>0.0721</td>\n",
       "      <td>84</td>\n",
       "    </tr>\n",
       "  </tbody>\n",
       "</table>\n",
       "</div>"
      ],
      "text/plain": [
       "   danceability  listen_count_y\n",
       "0        0.0605             730\n",
       "1        0.0627             118\n",
       "2        0.0645             476\n",
       "3        0.0703             156\n",
       "4        0.0721              84"
      ]
     },
     "execution_count": 67,
     "metadata": {},
     "output_type": "execute_result"
    }
   ],
   "source": [
    "dance_count = listen_df.groupby('danceability').sum()[['listen_count_y']].reset_index()\n",
    "dance_count.head()"
   ]
  },
  {
   "cell_type": "code",
   "execution_count": 68,
   "metadata": {},
   "outputs": [
    {
     "data": {
      "text/plain": [
       "<AxesSubplot:xlabel='danceability', ylabel='listen_count_y'>"
      ]
     },
     "execution_count": 68,
     "metadata": {},
     "output_type": "execute_result"
    },
    {
     "data": {
      "image/png": "[encoded data removed]",
      "text/plain": [
       "<Figure size 432x288 with 1 Axes>"
      ]
     },
     "metadata": {
      "needs_background": "light"
     },
     "output_type": "display_data"
    }
   ],
   "source": [
    "sns.scatterplot(x=\"danceability\", y=\"listen_count_y\", data=dance_count)"
   ]
  },
  {
   "cell_type": "code",
   "execution_count": 69,
   "metadata": {},
   "outputs": [
    {
     "data": {
      "text/plain": [
       "<AxesSubplot:xlabel='valence', ylabel='listen_count_y'>"
      ]
     },
     "execution_count": 69,
     "metadata": {},
     "output_type": "execute_result"
    },
    {
     "data": {
      "image/png": "[encoded data removed]",
      "text/plain": [
       "<Figure size 432x288 with 1 Axes>"
      ]
     },
     "metadata": {
      "needs_background": "light"
     },
     "output_type": "display_data"
    }
   ],
   "source": [
    "valence_count = listen_df.groupby('valence').sum()[['listen_count_y']].reset_index()\n",
    "sns.scatterplot(x=\"valence\", y=\"listen_count_y\", data=valence_count)"
   ]
  },
  {
   "cell_type": "code",
   "execution_count": 70,
   "metadata": {},
   "outputs": [
    {
     "name": "stdout",
     "output_type": "stream",
     "text": [
      "                   song_id     title                 release    artist_name  \\\n",
      "37184   SOSXLTC12AF72A7F54   revelry       Only By The Night  kings of leon   \n",
      "31343   SONYKOW12AB01849C9   secrets               Waking Up    onerepublic   \n",
      "534068  SOUFTBI12AB0183F65   invalid           Fermi Paradox       tub ring   \n",
      "333358  SOFLJQZ12A6D4FADA6  tive sim        Nova Bis-Cartola        cartola   \n",
      "43329   SOTWNDJ12A8C143984  marry me  Save Me_ San Francisco          train   \n",
      "\n",
      "        year                     song  danceability  energy  key  loudness  \\\n",
      "37184   2008  Revelry - Kings Of Leon         0.437   0.748    4    -6.593   \n",
      "31343   2009    Secrets - OneRepublic         0.516   0.764    2    -6.223   \n",
      "534068  2002       Invalid - Tub Ring         0.558   0.627    2    -7.613   \n",
      "333358  1974       Tive Sim - Cartola         0.731   0.540    9   -14.272   \n",
      "43329   2009         Marry Me - Train         0.461   0.267    0    -8.514   \n",
      "\n",
      "        mode  speechiness  acousticness  instrumentalness  liveness  valence  \\\n",
      "37184      1       0.0689       0.19600          0.000328     0.158    0.383   \n",
      "31343      1       0.0366       0.07170          0.000000     0.115    0.376   \n",
      "534068     1       0.1260       0.00255          0.000000     0.119    0.394   \n",
      "333358     1       0.0521       0.42000          0.000000     0.331    0.962   \n",
      "43329      1       0.0278       0.83400          0.000020     0.107    0.481   \n",
      "\n",
      "          tempo  duration_ms  time_signature  listen_count_y  \n",
      "37184   149.834       201733               4           41418  \n",
      "31343   148.021       224693               4           22100  \n",
      "534068   86.937       233627               4           19645  \n",
      "333358   91.118       128107               4           14423  \n",
      "43329    87.918       205453               4           13116  \n"
     ]
    }
   ],
   "source": [
    "# instead get most popular songs and look at danceability and valence of those since distribution of songs with certain valence not equal distribution\n",
    "top_songs = listen_df.sort_values(by='listen_count_y',ascending=False).head(50)\n",
    "print(top_songs.head())"
   ]
  },
  {
   "cell_type": "code",
   "execution_count": 71,
   "metadata": {},
   "outputs": [
    {
     "data": {
      "text/plain": [
       "(array([ 4.,  2.,  2.,  4., 12.,  8.,  9.,  8.,  0.,  1.]),\n",
       " array([0.209 , 0.2789, 0.3488, 0.4187, 0.4886, 0.5585, 0.6284, 0.6983,\n",
       "        0.7682, 0.8381, 0.908 ]),\n",
       " <BarContainer object of 10 artists>)"
      ]
     },
     "execution_count": 71,
     "metadata": {},
     "output_type": "execute_result"
    },
    {
     "data": {
      "image/png": "[encoded data removed]",
      "text/plain": [
       "<Figure size 432x288 with 1 Axes>"
      ]
     },
     "metadata": {
      "needs_background": "light"
     },
     "output_type": "display_data"
    }
   ],
   "source": [
    "plt.hist(top_songs.danceability)"
   ]
  },
  {
   "cell_type": "code",
   "execution_count": 72,
   "metadata": {},
   "outputs": [
    {
     "data": {
      "text/plain": [
       "(array([ 3.,  6., 10.,  8.,  4.,  8.,  6.,  2.,  0.,  3.]),\n",
       " array([0.0827 , 0.17283, 0.26296, 0.35309, 0.44322, 0.53335, 0.62348,\n",
       "        0.71361, 0.80374, 0.89387, 0.984  ]),\n",
       " <BarContainer object of 10 artists>)"
      ]
     },
     "execution_count": 72,
     "metadata": {},
     "output_type": "execute_result"
    },
    {
     "data": {
      "image/png": "[encoded data removed]",
      "text/plain": [
       "<Figure size 432x288 with 1 Axes>"
      ]
     },
     "metadata": {
      "needs_background": "light"
     },
     "output_type": "display_data"
    }
   ],
   "source": [
    "plt.hist(top_songs.valence)"
   ]
  },
  {
   "cell_type": "code",
   "execution_count": 73,
   "metadata": {},
   "outputs": [
    {
     "data": {
      "text/plain": [
       "(array([ 2.,  0.,  4.,  3.,  5.,  6., 12.,  5.,  5.,  8.]),\n",
       " array([0.267 , 0.3391, 0.4112, 0.4833, 0.5554, 0.6275, 0.6996, 0.7717,\n",
       "        0.8438, 0.9159, 0.988 ]),\n",
       " <BarContainer object of 10 artists>)"
      ]
     },
     "execution_count": 73,
     "metadata": {},
     "output_type": "execute_result"
    },
    {
     "data": {
      "image/png": "[encoded data removed]",
      "text/plain": [
       "<Figure size 432x288 with 1 Axes>"
      ]
     },
     "metadata": {
      "needs_background": "light"
     },
     "output_type": "display_data"
    }
   ],
   "source": [
    "plt.hist(top_songs.energy)"
   ]
  },
  {
   "cell_type": "markdown",
   "metadata": {},
   "source": [
    "These distributions match the distributions of all the songs available on Spotify"
   ]
  }
 ],
 "metadata": {
  "kernelspec": {
   "display_name": "Python 3 (ipykernel)",
   "language": "python",
   "name": "python3"
  },
  "language_info": {
   "codemirror_mode": {
    "name": "ipython",
    "version": 3
   },
   "file_extension": ".py",
   "mimetype": "text/x-python",
   "name": "python",
   "nbconvert_exporter": "python",
   "pygments_lexer": "ipython3",
   "version": "3.9.12"
  }
 },
 "nbformat": 4,
 "nbformat_minor": 2
}

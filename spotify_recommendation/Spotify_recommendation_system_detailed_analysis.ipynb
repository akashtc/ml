{
 "cells": [
  {
   "cell_type": "code",
   "execution_count": 2,
   "metadata": {},
   "outputs": [],
   "source": [
    "import pandas as pd\n",
    "import seaborn as sns\n",
    "import matplotlib\n",
    "import matplotlib.pyplot as plt\n",
    "\n",
    "#import dataset67.65\n",
    "user_df = pd.read_csv('data/User_SongFeatures_data.csv', compression=\"xz\")"
   ]
  },
  {
   "cell_type": "markdown",
   "metadata": {},
   "source": [
    "For our model we will randomly split the dataset into three. There will be two test data sets and one validation dataset. The first data set will be used to perform matrix factorization to extract user and item latent factors. The second dataset will be used to train our classification model. And lastly, our validation set will be used to evaluate our model. "
   ]
  },
  {
   "cell_type": "code",
   "execution_count": 3,
   "metadata": {},
   "outputs": [
    {
     "data": {
      "text/plain": [
       "3372"
      ]
     },
     "execution_count": 3,
     "metadata": {},
     "output_type": "execute_result"
    }
   ],
   "source": [
    "# split into train, train 2 and validation set\n",
    "# make sure users who have only listened once is in train set\n",
    "\n",
    "song_count = user_df.groupby('user_id').count()[['song_id']].reset_index()\n",
    "one_timers = song_count[song_count['song_id'] == 1]\n",
    "len(one_timers)"
   ]
  },
  {
   "cell_type": "code",
   "execution_count": 4,
   "metadata": {},
   "outputs": [],
   "source": [
    "# subset data of users who only listened one time\n",
    "one_df = user_df[user_df.user_id.isin(one_timers.user_id)]"
   ]
  },
  {
   "cell_type": "code",
   "execution_count": 5,
   "metadata": {},
   "outputs": [
    {
     "data": {
      "text/plain": [
       "1137044"
      ]
     },
     "execution_count": 5,
     "metadata": {},
     "output_type": "execute_result"
    }
   ],
   "source": [
    "# subset rest of data\n",
    "df = user_df[~user_df.user_id.isin(one_timers.user_id)]\n",
    "len(df)"
   ]
  },
  {
   "cell_type": "code",
   "execution_count": 6,
   "metadata": {},
   "outputs": [],
   "source": [
    "X = df.drop('listen_count', axis=1)\n",
    "y = df.listen_count"
   ]
  },
  {
   "cell_type": "code",
   "execution_count": 7,
   "metadata": {},
   "outputs": [],
   "source": [
    "from sklearn.model_selection import train_test_split\n",
    "\n",
    "X_train, X_test, y_train, y_test = train_test_split(X, y, test_size=0.4, random_state=1)\n",
    "\n",
    "X_train, X_val, y_train, y_val = train_test_split(X_train, y_train, test_size=0.4, random_state=1)"
   ]
  },
  {
   "cell_type": "code",
   "execution_count": 8,
   "metadata": {},
   "outputs": [
    {
     "name": "stdout",
     "output_type": "stream",
     "text": [
      "409335\n",
      "454818\n",
      "272891\n"
     ]
    }
   ],
   "source": [
    "print(len(X_train))\n",
    "print(len(X_test))\n",
    "print(len(X_val))"
   ]
  },
  {
   "cell_type": "code",
   "execution_count": null,
   "metadata": {},
   "outputs": [],
   "source": [
    "train1 = X_train.join(y_train).concat(one_df, ignore_index=True)\n",
    "train2 = X_test.join(y_test)\n",
    "val = X_val.join(y_val)"
   ]
  },
  {
   "cell_type": "code",
   "execution_count": 10,
   "metadata": {},
   "outputs": [
    {
     "name": "stdout",
     "output_type": "stream",
     "text": [
      "412707\n",
      "454818\n",
      "272891\n"
     ]
    }
   ],
   "source": [
    "print(len(train1))\n",
    "print(len(train2))\n",
    "print(len(val))"
   ]
  },
  {
   "cell_type": "code",
   "execution_count": 11,
   "metadata": {},
   "outputs": [
    {
     "name": "stdout",
     "output_type": "stream",
     "text": [
      "69327\n",
      "5679\n"
     ]
    }
   ],
   "source": [
    "# since there are songs with multiple ids with have to group by user id and song and sum the listen counts\n",
    "\n",
    "train1_df = train1.groupby(['user_id','song'], as_index=False)['listen_count'].sum()\n",
    "print(train1_df.user_id.nunique())\n",
    "print(train1_df.song.nunique())"
   ]
  },
  {
   "cell_type": "markdown",
   "metadata": {},
   "source": [
    "Before we perform non negative matrix factorization on our dataset we must first transform it into a matrix with user_id and song and the corresponding listen count. "
   ]
  },
  {
   "cell_type": "code",
   "execution_count": 12,
   "metadata": {},
   "outputs": [
    {
     "data": {
      "text/html": [
       "<div>\n",
       "<style scoped>\n",
       "    .dataframe tbody tr th:only-of-type {\n",
       "        vertical-align: middle;\n",
       "    }\n",
       "\n",
       "    .dataframe tbody tr th {\n",
       "        vertical-align: top;\n",
       "    }\n",
       "\n",
       "    .dataframe thead th {\n",
       "        text-align: right;\n",
       "    }\n",
       "</style>\n",
       "<table border=\"1\" class=\"dataframe\">\n",
       "  <thead>\n",
       "    <tr style=\"text-align: right;\">\n",
       "      <th></th>\n",
       "      <th>user_id</th>\n",
       "      <th>song</th>\n",
       "      <th>listen_count</th>\n",
       "    </tr>\n",
       "  </thead>\n",
       "  <tbody>\n",
       "    <tr>\n",
       "      <th>0</th>\n",
       "      <td>00005c6177188f12fb5e2e82cdbd93e8a3f35e64</td>\n",
       "      <td>Ironmasters - The Men They Couldn't Hang</td>\n",
       "      <td>1</td>\n",
       "    </tr>\n",
       "    <tr>\n",
       "      <th>1</th>\n",
       "      <td>00030033e3a2f904a48ec1dd53019c9969b6ef1f</td>\n",
       "      <td>Chasing Cars - Snow Patrol</td>\n",
       "      <td>4</td>\n",
       "    </tr>\n",
       "    <tr>\n",
       "      <th>2</th>\n",
       "      <td>00030033e3a2f904a48ec1dd53019c9969b6ef1f</td>\n",
       "      <td>You'd Be So Nice To Come Home To - Julie London</td>\n",
       "      <td>1</td>\n",
       "    </tr>\n",
       "    <tr>\n",
       "      <th>3</th>\n",
       "      <td>0007235c769e610e3d339a17818a5708e41008d9</td>\n",
       "      <td>Dip It Low - Christina Milian</td>\n",
       "      <td>3</td>\n",
       "    </tr>\n",
       "    <tr>\n",
       "      <th>4</th>\n",
       "      <td>0007235c769e610e3d339a17818a5708e41008d9</td>\n",
       "      <td>Su veneno - Aventura</td>\n",
       "      <td>5</td>\n",
       "    </tr>\n",
       "  </tbody>\n",
       "</table>\n",
       "</div>"
      ],
      "text/plain": [
       "                                    user_id  \\\n",
       "0  00005c6177188f12fb5e2e82cdbd93e8a3f35e64   \n",
       "1  00030033e3a2f904a48ec1dd53019c9969b6ef1f   \n",
       "2  00030033e3a2f904a48ec1dd53019c9969b6ef1f   \n",
       "3  0007235c769e610e3d339a17818a5708e41008d9   \n",
       "4  0007235c769e610e3d339a17818a5708e41008d9   \n",
       "\n",
       "                                              song  listen_count  \n",
       "0         Ironmasters - The Men They Couldn't Hang             1  \n",
       "1                       Chasing Cars - Snow Patrol             4  \n",
       "2  You'd Be So Nice To Come Home To - Julie London             1  \n",
       "3                    Dip It Low - Christina Milian             3  \n",
       "4                             Su veneno - Aventura             5  "
      ]
     },
     "execution_count": 12,
     "metadata": {},
     "output_type": "execute_result"
    }
   ],
   "source": [
    "train1_df.head()"
   ]
  },
  {
   "cell_type": "code",
   "execution_count": 13,
   "metadata": {},
   "outputs": [
    {
     "data": {
      "text/html": [
       "<div>\n",
       "<style scoped>\n",
       "    .dataframe tbody tr th:only-of-type {\n",
       "        vertical-align: middle;\n",
       "    }\n",
       "\n",
       "    .dataframe tbody tr th {\n",
       "        vertical-align: top;\n",
       "    }\n",
       "\n",
       "    .dataframe thead th {\n",
       "        text-align: right;\n",
       "    }\n",
       "</style>\n",
       "<table border=\"1\" class=\"dataframe\">\n",
       "  <thead>\n",
       "    <tr style=\"text-align: right;\">\n",
       "      <th>song</th>\n",
       "      <th>&amp; Down - Boys Noize</th>\n",
       "      <th>' Cello Song - Nick Drake</th>\n",
       "      <th>'97 Bonnie &amp; Clyde - Eminem</th>\n",
       "      <th>'Round Midnight - Amy Winehouse</th>\n",
       "      <th>(Antichrist Television Blues) - Arcade Fire</th>\n",
       "      <th>(I Just) Died In Your Arms - Cutting Crew</th>\n",
       "      <th>(If You're Wondering If I Want You To) I Want You To - Weezer</th>\n",
       "      <th>(Nice Dream) - Radiohead</th>\n",
       "      <th>(Sittin' On) The Dock Of The Bay - Otis Redding</th>\n",
       "      <th>(The Symphony Of) Blase' - Anberlin</th>\n",
       "      <th>...</th>\n",
       "      <th>and then patterns - Four Tet</th>\n",
       "      <th>clouding - Four Tet</th>\n",
       "      <th>high fives - Four Tet</th>\n",
       "      <th>in white rooms - Booka Shade</th>\n",
       "      <th>mOBSCENE - Marilyn Manson</th>\n",
       "      <th>paranoid android - Christopher O'Riley</th>\n",
       "      <th>smile around the face - Four Tet</th>\n",
       "      <th>sun drums and soil - Four Tet</th>\n",
       "      <th>the Love Song - K-OS</th>\n",
       "      <th>you were there with me - Four Tet</th>\n",
       "    </tr>\n",
       "    <tr>\n",
       "      <th>user_id</th>\n",
       "      <th></th>\n",
       "      <th></th>\n",
       "      <th></th>\n",
       "      <th></th>\n",
       "      <th></th>\n",
       "      <th></th>\n",
       "      <th></th>\n",
       "      <th></th>\n",
       "      <th></th>\n",
       "      <th></th>\n",
       "      <th></th>\n",
       "      <th></th>\n",
       "      <th></th>\n",
       "      <th></th>\n",
       "      <th></th>\n",
       "      <th></th>\n",
       "      <th></th>\n",
       "      <th></th>\n",
       "      <th></th>\n",
       "      <th></th>\n",
       "      <th></th>\n",
       "    </tr>\n",
       "  </thead>\n",
       "  <tbody>\n",
       "    <tr>\n",
       "      <th>00005c6177188f12fb5e2e82cdbd93e8a3f35e64</th>\n",
       "      <td>0.0</td>\n",
       "      <td>0.0</td>\n",
       "      <td>0.0</td>\n",
       "      <td>0.0</td>\n",
       "      <td>0.0</td>\n",
       "      <td>0.0</td>\n",
       "      <td>0.0</td>\n",
       "      <td>0.0</td>\n",
       "      <td>0.0</td>\n",
       "      <td>0.0</td>\n",
       "      <td>...</td>\n",
       "      <td>0.0</td>\n",
       "      <td>0.0</td>\n",
       "      <td>0.0</td>\n",
       "      <td>0.0</td>\n",
       "      <td>0.0</td>\n",
       "      <td>0.0</td>\n",
       "      <td>0.0</td>\n",
       "      <td>0.0</td>\n",
       "      <td>0.0</td>\n",
       "      <td>0.0</td>\n",
       "    </tr>\n",
       "    <tr>\n",
       "      <th>00030033e3a2f904a48ec1dd53019c9969b6ef1f</th>\n",
       "      <td>0.0</td>\n",
       "      <td>0.0</td>\n",
       "      <td>0.0</td>\n",
       "      <td>0.0</td>\n",
       "      <td>0.0</td>\n",
       "      <td>0.0</td>\n",
       "      <td>0.0</td>\n",
       "      <td>0.0</td>\n",
       "      <td>0.0</td>\n",
       "      <td>0.0</td>\n",
       "      <td>...</td>\n",
       "      <td>0.0</td>\n",
       "      <td>0.0</td>\n",
       "      <td>0.0</td>\n",
       "      <td>0.0</td>\n",
       "      <td>0.0</td>\n",
       "      <td>0.0</td>\n",
       "      <td>0.0</td>\n",
       "      <td>0.0</td>\n",
       "      <td>0.0</td>\n",
       "      <td>0.0</td>\n",
       "    </tr>\n",
       "    <tr>\n",
       "      <th>0007235c769e610e3d339a17818a5708e41008d9</th>\n",
       "      <td>0.0</td>\n",
       "      <td>0.0</td>\n",
       "      <td>0.0</td>\n",
       "      <td>0.0</td>\n",
       "      <td>0.0</td>\n",
       "      <td>0.0</td>\n",
       "      <td>0.0</td>\n",
       "      <td>0.0</td>\n",
       "      <td>0.0</td>\n",
       "      <td>0.0</td>\n",
       "      <td>...</td>\n",
       "      <td>0.0</td>\n",
       "      <td>0.0</td>\n",
       "      <td>0.0</td>\n",
       "      <td>0.0</td>\n",
       "      <td>0.0</td>\n",
       "      <td>0.0</td>\n",
       "      <td>0.0</td>\n",
       "      <td>0.0</td>\n",
       "      <td>0.0</td>\n",
       "      <td>0.0</td>\n",
       "    </tr>\n",
       "    <tr>\n",
       "      <th>000a5c8b4d8b2c98f7a205219181d039edcd4506</th>\n",
       "      <td>0.0</td>\n",
       "      <td>0.0</td>\n",
       "      <td>0.0</td>\n",
       "      <td>0.0</td>\n",
       "      <td>0.0</td>\n",
       "      <td>0.0</td>\n",
       "      <td>0.0</td>\n",
       "      <td>0.0</td>\n",
       "      <td>0.0</td>\n",
       "      <td>0.0</td>\n",
       "      <td>...</td>\n",
       "      <td>0.0</td>\n",
       "      <td>0.0</td>\n",
       "      <td>0.0</td>\n",
       "      <td>0.0</td>\n",
       "      <td>0.0</td>\n",
       "      <td>0.0</td>\n",
       "      <td>0.0</td>\n",
       "      <td>0.0</td>\n",
       "      <td>0.0</td>\n",
       "      <td>0.0</td>\n",
       "    </tr>\n",
       "    <tr>\n",
       "      <th>000b474f815bcff17a4bc9ce5324f9352dafe07d</th>\n",
       "      <td>0.0</td>\n",
       "      <td>0.0</td>\n",
       "      <td>0.0</td>\n",
       "      <td>0.0</td>\n",
       "      <td>0.0</td>\n",
       "      <td>0.0</td>\n",
       "      <td>0.0</td>\n",
       "      <td>0.0</td>\n",
       "      <td>0.0</td>\n",
       "      <td>0.0</td>\n",
       "      <td>...</td>\n",
       "      <td>0.0</td>\n",
       "      <td>0.0</td>\n",
       "      <td>0.0</td>\n",
       "      <td>0.0</td>\n",
       "      <td>0.0</td>\n",
       "      <td>0.0</td>\n",
       "      <td>0.0</td>\n",
       "      <td>0.0</td>\n",
       "      <td>0.0</td>\n",
       "      <td>0.0</td>\n",
       "    </tr>\n",
       "  </tbody>\n",
       "</table>\n",
       "<p>5 rows × 5679 columns</p>\n",
       "</div>"
      ],
      "text/plain": [
       "song                                      & Down - Boys Noize  \\\n",
       "user_id                                                         \n",
       "00005c6177188f12fb5e2e82cdbd93e8a3f35e64                  0.0   \n",
       "00030033e3a2f904a48ec1dd53019c9969b6ef1f                  0.0   \n",
       "0007235c769e610e3d339a17818a5708e41008d9                  0.0   \n",
       "000a5c8b4d8b2c98f7a205219181d039edcd4506                  0.0   \n",
       "000b474f815bcff17a4bc9ce5324f9352dafe07d                  0.0   \n",
       "\n",
       "song                                      ' Cello Song - Nick Drake  \\\n",
       "user_id                                                               \n",
       "00005c6177188f12fb5e2e82cdbd93e8a3f35e64                        0.0   \n",
       "00030033e3a2f904a48ec1dd53019c9969b6ef1f                        0.0   \n",
       "0007235c769e610e3d339a17818a5708e41008d9                        0.0   \n",
       "000a5c8b4d8b2c98f7a205219181d039edcd4506                        0.0   \n",
       "000b474f815bcff17a4bc9ce5324f9352dafe07d                        0.0   \n",
       "\n",
       "song                                      '97 Bonnie & Clyde - Eminem  \\\n",
       "user_id                                                                 \n",
       "00005c6177188f12fb5e2e82cdbd93e8a3f35e64                          0.0   \n",
       "00030033e3a2f904a48ec1dd53019c9969b6ef1f                          0.0   \n",
       "0007235c769e610e3d339a17818a5708e41008d9                          0.0   \n",
       "000a5c8b4d8b2c98f7a205219181d039edcd4506                          0.0   \n",
       "000b474f815bcff17a4bc9ce5324f9352dafe07d                          0.0   \n",
       "\n",
       "song                                      'Round Midnight - Amy Winehouse  \\\n",
       "user_id                                                                     \n",
       "00005c6177188f12fb5e2e82cdbd93e8a3f35e64                              0.0   \n",
       "00030033e3a2f904a48ec1dd53019c9969b6ef1f                              0.0   \n",
       "0007235c769e610e3d339a17818a5708e41008d9                              0.0   \n",
       "000a5c8b4d8b2c98f7a205219181d039edcd4506                              0.0   \n",
       "000b474f815bcff17a4bc9ce5324f9352dafe07d                              0.0   \n",
       "\n",
       "song                                      (Antichrist Television Blues) - Arcade Fire  \\\n",
       "user_id                                                                                 \n",
       "00005c6177188f12fb5e2e82cdbd93e8a3f35e64                                          0.0   \n",
       "00030033e3a2f904a48ec1dd53019c9969b6ef1f                                          0.0   \n",
       "0007235c769e610e3d339a17818a5708e41008d9                                          0.0   \n",
       "000a5c8b4d8b2c98f7a205219181d039edcd4506                                          0.0   \n",
       "000b474f815bcff17a4bc9ce5324f9352dafe07d                                          0.0   \n",
       "\n",
       "song                                      (I Just) Died In Your Arms - Cutting Crew  \\\n",
       "user_id                                                                               \n",
       "00005c6177188f12fb5e2e82cdbd93e8a3f35e64                                        0.0   \n",
       "00030033e3a2f904a48ec1dd53019c9969b6ef1f                                        0.0   \n",
       "0007235c769e610e3d339a17818a5708e41008d9                                        0.0   \n",
       "000a5c8b4d8b2c98f7a205219181d039edcd4506                                        0.0   \n",
       "000b474f815bcff17a4bc9ce5324f9352dafe07d                                        0.0   \n",
       "\n",
       "song                                      (If You're Wondering If I Want You To) I Want You To - Weezer  \\\n",
       "user_id                                                                                                   \n",
       "00005c6177188f12fb5e2e82cdbd93e8a3f35e64                                                0.0               \n",
       "00030033e3a2f904a48ec1dd53019c9969b6ef1f                                                0.0               \n",
       "0007235c769e610e3d339a17818a5708e41008d9                                                0.0               \n",
       "000a5c8b4d8b2c98f7a205219181d039edcd4506                                                0.0               \n",
       "000b474f815bcff17a4bc9ce5324f9352dafe07d                                                0.0               \n",
       "\n",
       "song                                      (Nice Dream) - Radiohead  \\\n",
       "user_id                                                              \n",
       "00005c6177188f12fb5e2e82cdbd93e8a3f35e64                       0.0   \n",
       "00030033e3a2f904a48ec1dd53019c9969b6ef1f                       0.0   \n",
       "0007235c769e610e3d339a17818a5708e41008d9                       0.0   \n",
       "000a5c8b4d8b2c98f7a205219181d039edcd4506                       0.0   \n",
       "000b474f815bcff17a4bc9ce5324f9352dafe07d                       0.0   \n",
       "\n",
       "song                                      (Sittin' On) The Dock Of The Bay - Otis Redding  \\\n",
       "user_id                                                                                     \n",
       "00005c6177188f12fb5e2e82cdbd93e8a3f35e64                                              0.0   \n",
       "00030033e3a2f904a48ec1dd53019c9969b6ef1f                                              0.0   \n",
       "0007235c769e610e3d339a17818a5708e41008d9                                              0.0   \n",
       "000a5c8b4d8b2c98f7a205219181d039edcd4506                                              0.0   \n",
       "000b474f815bcff17a4bc9ce5324f9352dafe07d                                              0.0   \n",
       "\n",
       "song                                      (The Symphony Of) Blase' - Anberlin  \\\n",
       "user_id                                                                         \n",
       "00005c6177188f12fb5e2e82cdbd93e8a3f35e64                                  0.0   \n",
       "00030033e3a2f904a48ec1dd53019c9969b6ef1f                                  0.0   \n",
       "0007235c769e610e3d339a17818a5708e41008d9                                  0.0   \n",
       "000a5c8b4d8b2c98f7a205219181d039edcd4506                                  0.0   \n",
       "000b474f815bcff17a4bc9ce5324f9352dafe07d                                  0.0   \n",
       "\n",
       "song                                      ...  and then patterns - Four Tet  \\\n",
       "user_id                                   ...                                 \n",
       "00005c6177188f12fb5e2e82cdbd93e8a3f35e64  ...                           0.0   \n",
       "00030033e3a2f904a48ec1dd53019c9969b6ef1f  ...                           0.0   \n",
       "0007235c769e610e3d339a17818a5708e41008d9  ...                           0.0   \n",
       "000a5c8b4d8b2c98f7a205219181d039edcd4506  ...                           0.0   \n",
       "000b474f815bcff17a4bc9ce5324f9352dafe07d  ...                           0.0   \n",
       "\n",
       "song                                      clouding - Four Tet  \\\n",
       "user_id                                                         \n",
       "00005c6177188f12fb5e2e82cdbd93e8a3f35e64                  0.0   \n",
       "00030033e3a2f904a48ec1dd53019c9969b6ef1f                  0.0   \n",
       "0007235c769e610e3d339a17818a5708e41008d9                  0.0   \n",
       "000a5c8b4d8b2c98f7a205219181d039edcd4506                  0.0   \n",
       "000b474f815bcff17a4bc9ce5324f9352dafe07d                  0.0   \n",
       "\n",
       "song                                      high fives - Four Tet  \\\n",
       "user_id                                                           \n",
       "00005c6177188f12fb5e2e82cdbd93e8a3f35e64                    0.0   \n",
       "00030033e3a2f904a48ec1dd53019c9969b6ef1f                    0.0   \n",
       "0007235c769e610e3d339a17818a5708e41008d9                    0.0   \n",
       "000a5c8b4d8b2c98f7a205219181d039edcd4506                    0.0   \n",
       "000b474f815bcff17a4bc9ce5324f9352dafe07d                    0.0   \n",
       "\n",
       "song                                      in white rooms - Booka Shade  \\\n",
       "user_id                                                                  \n",
       "00005c6177188f12fb5e2e82cdbd93e8a3f35e64                           0.0   \n",
       "00030033e3a2f904a48ec1dd53019c9969b6ef1f                           0.0   \n",
       "0007235c769e610e3d339a17818a5708e41008d9                           0.0   \n",
       "000a5c8b4d8b2c98f7a205219181d039edcd4506                           0.0   \n",
       "000b474f815bcff17a4bc9ce5324f9352dafe07d                           0.0   \n",
       "\n",
       "song                                      mOBSCENE - Marilyn Manson  \\\n",
       "user_id                                                               \n",
       "00005c6177188f12fb5e2e82cdbd93e8a3f35e64                        0.0   \n",
       "00030033e3a2f904a48ec1dd53019c9969b6ef1f                        0.0   \n",
       "0007235c769e610e3d339a17818a5708e41008d9                        0.0   \n",
       "000a5c8b4d8b2c98f7a205219181d039edcd4506                        0.0   \n",
       "000b474f815bcff17a4bc9ce5324f9352dafe07d                        0.0   \n",
       "\n",
       "song                                      paranoid android - Christopher O'Riley  \\\n",
       "user_id                                                                            \n",
       "00005c6177188f12fb5e2e82cdbd93e8a3f35e64                                     0.0   \n",
       "00030033e3a2f904a48ec1dd53019c9969b6ef1f                                     0.0   \n",
       "0007235c769e610e3d339a17818a5708e41008d9                                     0.0   \n",
       "000a5c8b4d8b2c98f7a205219181d039edcd4506                                     0.0   \n",
       "000b474f815bcff17a4bc9ce5324f9352dafe07d                                     0.0   \n",
       "\n",
       "song                                      smile around the face - Four Tet  \\\n",
       "user_id                                                                      \n",
       "00005c6177188f12fb5e2e82cdbd93e8a3f35e64                               0.0   \n",
       "00030033e3a2f904a48ec1dd53019c9969b6ef1f                               0.0   \n",
       "0007235c769e610e3d339a17818a5708e41008d9                               0.0   \n",
       "000a5c8b4d8b2c98f7a205219181d039edcd4506                               0.0   \n",
       "000b474f815bcff17a4bc9ce5324f9352dafe07d                               0.0   \n",
       "\n",
       "song                                      sun drums and soil - Four Tet  \\\n",
       "user_id                                                                   \n",
       "00005c6177188f12fb5e2e82cdbd93e8a3f35e64                            0.0   \n",
       "00030033e3a2f904a48ec1dd53019c9969b6ef1f                            0.0   \n",
       "0007235c769e610e3d339a17818a5708e41008d9                            0.0   \n",
       "000a5c8b4d8b2c98f7a205219181d039edcd4506                            0.0   \n",
       "000b474f815bcff17a4bc9ce5324f9352dafe07d                            0.0   \n",
       "\n",
       "song                                      the Love Song - K-OS  \\\n",
       "user_id                                                          \n",
       "00005c6177188f12fb5e2e82cdbd93e8a3f35e64                   0.0   \n",
       "00030033e3a2f904a48ec1dd53019c9969b6ef1f                   0.0   \n",
       "0007235c769e610e3d339a17818a5708e41008d9                   0.0   \n",
       "000a5c8b4d8b2c98f7a205219181d039edcd4506                   0.0   \n",
       "000b474f815bcff17a4bc9ce5324f9352dafe07d                   0.0   \n",
       "\n",
       "song                                      you were there with me - Four Tet  \n",
       "user_id                                                                      \n",
       "00005c6177188f12fb5e2e82cdbd93e8a3f35e64                                0.0  \n",
       "00030033e3a2f904a48ec1dd53019c9969b6ef1f                                0.0  \n",
       "0007235c769e610e3d339a17818a5708e41008d9                                0.0  \n",
       "000a5c8b4d8b2c98f7a205219181d039edcd4506                                0.0  \n",
       "000b474f815bcff17a4bc9ce5324f9352dafe07d                                0.0  \n",
       "\n",
       "[5 rows x 5679 columns]"
      ]
     },
     "execution_count": 13,
     "metadata": {},
     "output_type": "execute_result"
    }
   ],
   "source": [
    "mf_df = train1_df.pivot(index = 'user_id', columns ='song', values = 'listen_count').fillna(0)\n",
    "mf_df.head()"
   ]
  },
  {
   "cell_type": "code",
   "execution_count": 14,
   "metadata": {},
   "outputs": [],
   "source": [
    "# turn into matrix\n",
    "\n",
    "mf_df = mf_df.values"
   ]
  },
  {
   "cell_type": "markdown",
   "metadata": {},
   "source": [
    "We will now perform non negative matrix factorization to extract latent factors from our matrix."
   ]
  },
  {
   "cell_type": "code",
   "execution_count": 15,
   "metadata": {},
   "outputs": [
    {
     "name": "stderr",
     "output_type": "stream",
     "text": [
      "/Users/akashtc/anaconda3/lib/python3.9/site-packages/sklearn/decomposition/_nmf.py:1637: ConvergenceWarning: Maximum number of iterations 200 reached. Increase it to improve convergence.\n",
      "  warnings.warn(\n"
     ]
    }
   ],
   "source": [
    "from sklearn.decomposition import NMF\n",
    "\n",
    "model = NMF(n_components=10, init='random', random_state=0)\n",
    "W = model.fit_transform(mf_df)\n",
    "H = model.components_\n",
    "\n",
    "\n",
    "\n",
    "# https://stackoverflow.com/questions/57370472/recommendation-system-with-matrix-factorization-for-huge-data-gives-memoryerror"
   ]
  },
  {
   "cell_type": "code",
   "execution_count": 16,
   "metadata": {},
   "outputs": [
    {
     "data": {
      "text/plain": [
       "(69327, 10)"
      ]
     },
     "execution_count": 16,
     "metadata": {},
     "output_type": "execute_result"
    }
   ],
   "source": [
    "W.shape"
   ]
  },
  {
   "cell_type": "code",
   "execution_count": 17,
   "metadata": {
    "scrolled": true
   },
   "outputs": [
    {
     "data": {
      "text/plain": [
       "array([[1.76406649e-04, 1.26334459e-05, 4.21730345e-06, ...,\n",
       "        0.00000000e+00, 0.00000000e+00, 9.03076825e-10],\n",
       "       [1.59030466e-02, 1.83123563e-04, 0.00000000e+00, ...,\n",
       "        2.75267919e-05, 0.00000000e+00, 6.72320226e-06],\n",
       "       [6.30621595e-04, 0.00000000e+00, 0.00000000e+00, ...,\n",
       "        3.04965801e-04, 0.00000000e+00, 2.51825023e-07],\n",
       "       ...,\n",
       "       [3.91709927e-04, 8.22175128e-05, 4.45082817e-04, ...,\n",
       "        6.76004076e-06, 1.55965901e-06, 3.57313070e-06],\n",
       "       [7.47543623e-03, 1.50371664e-04, 0.00000000e+00, ...,\n",
       "        5.35782068e-04, 0.00000000e+00, 2.21047711e-05],\n",
       "       [6.02249602e-04, 7.79133239e-05, 9.22752750e-05, ...,\n",
       "        3.47810032e-05, 0.00000000e+00, 2.04933768e-06]])"
      ]
     },
     "execution_count": 17,
     "metadata": {},
     "output_type": "execute_result"
    }
   ],
   "source": [
    "W"
   ]
  },
  {
   "cell_type": "code",
   "execution_count": 18,
   "metadata": {},
   "outputs": [
    {
     "data": {
      "text/plain": [
       "array([[2.05173468e-03, 3.72554583e-04, 1.21308754e-04, ...,\n",
       "        1.43279580e-04, 1.00880594e-04, 5.27087394e-05],\n",
       "       [8.44829482e-05, 3.67466502e-05, 0.00000000e+00, ...,\n",
       "        1.50170714e-05, 2.51045730e-05, 0.00000000e+00],\n",
       "       [1.81244267e-05, 4.54633124e-06, 0.00000000e+00, ...,\n",
       "        9.96913824e-06, 1.70616582e-06, 5.05505888e-06],\n",
       "       ...,\n",
       "       [6.78647879e-04, 1.02688872e-04, 7.43336100e-03, ...,\n",
       "        4.04644396e-06, 6.80778739e-06, 4.75168514e-06],\n",
       "       [5.94316770e-05, 0.00000000e+00, 0.00000000e+00, ...,\n",
       "        0.00000000e+00, 0.00000000e+00, 0.00000000e+00],\n",
       "       [3.67954754e-05, 1.62993919e-05, 7.07420210e-06, ...,\n",
       "        2.57225491e-06, 4.05475741e-06, 2.62098530e-06]])"
      ]
     },
     "execution_count": 18,
     "metadata": {},
     "output_type": "execute_result"
    }
   ],
   "source": [
    "H"
   ]
  },
  {
   "cell_type": "code",
   "execution_count": 19,
   "metadata": {},
   "outputs": [],
   "source": [
    "import numpy as np\n",
    "\n",
    "user = pd.DataFrame(W, columns = ['u1','u2','u3','u4','u5','u6','u7', 'u8', 'u9', 'u10'])\n",
    "\n",
    "song = pd.DataFrame(H).transpose()\n"
   ]
  },
  {
   "cell_type": "code",
   "execution_count": 20,
   "metadata": {},
   "outputs": [
    {
     "data": {
      "text/html": [
       "<div>\n",
       "<style scoped>\n",
       "    .dataframe tbody tr th:only-of-type {\n",
       "        vertical-align: middle;\n",
       "    }\n",
       "\n",
       "    .dataframe tbody tr th {\n",
       "        vertical-align: top;\n",
       "    }\n",
       "\n",
       "    .dataframe thead th {\n",
       "        text-align: right;\n",
       "    }\n",
       "</style>\n",
       "<table border=\"1\" class=\"dataframe\">\n",
       "  <thead>\n",
       "    <tr style=\"text-align: right;\">\n",
       "      <th></th>\n",
       "      <th>u1</th>\n",
       "      <th>u2</th>\n",
       "      <th>u3</th>\n",
       "      <th>u4</th>\n",
       "      <th>u5</th>\n",
       "      <th>u6</th>\n",
       "      <th>u7</th>\n",
       "      <th>u8</th>\n",
       "      <th>u9</th>\n",
       "      <th>u10</th>\n",
       "    </tr>\n",
       "  </thead>\n",
       "  <tbody>\n",
       "    <tr>\n",
       "      <th>0</th>\n",
       "      <td>0.000176</td>\n",
       "      <td>0.000013</td>\n",
       "      <td>0.000004</td>\n",
       "      <td>3.381426e-07</td>\n",
       "      <td>3.229037e-06</td>\n",
       "      <td>0.000050</td>\n",
       "      <td>4.527343e-07</td>\n",
       "      <td>0.000000</td>\n",
       "      <td>0.0</td>\n",
       "      <td>9.030768e-10</td>\n",
       "    </tr>\n",
       "    <tr>\n",
       "      <th>1</th>\n",
       "      <td>0.015903</td>\n",
       "      <td>0.000183</td>\n",
       "      <td>0.000000</td>\n",
       "      <td>0.000000e+00</td>\n",
       "      <td>2.856881e-04</td>\n",
       "      <td>0.000280</td>\n",
       "      <td>0.000000e+00</td>\n",
       "      <td>0.000028</td>\n",
       "      <td>0.0</td>\n",
       "      <td>6.723202e-06</td>\n",
       "    </tr>\n",
       "    <tr>\n",
       "      <th>2</th>\n",
       "      <td>0.000631</td>\n",
       "      <td>0.000000</td>\n",
       "      <td>0.000000</td>\n",
       "      <td>8.018646e-04</td>\n",
       "      <td>0.000000e+00</td>\n",
       "      <td>0.000299</td>\n",
       "      <td>1.841464e-04</td>\n",
       "      <td>0.000305</td>\n",
       "      <td>0.0</td>\n",
       "      <td>2.518250e-07</td>\n",
       "    </tr>\n",
       "    <tr>\n",
       "      <th>3</th>\n",
       "      <td>0.000041</td>\n",
       "      <td>0.000002</td>\n",
       "      <td>0.000004</td>\n",
       "      <td>2.136306e-07</td>\n",
       "      <td>7.172430e-07</td>\n",
       "      <td>0.000003</td>\n",
       "      <td>1.167560e-06</td>\n",
       "      <td>0.000000</td>\n",
       "      <td>0.0</td>\n",
       "      <td>9.109420e-08</td>\n",
       "    </tr>\n",
       "    <tr>\n",
       "      <th>4</th>\n",
       "      <td>0.000439</td>\n",
       "      <td>0.000016</td>\n",
       "      <td>0.000046</td>\n",
       "      <td>9.357967e-05</td>\n",
       "      <td>7.511529e-06</td>\n",
       "      <td>0.000109</td>\n",
       "      <td>2.644372e-06</td>\n",
       "      <td>0.000000</td>\n",
       "      <td>0.0</td>\n",
       "      <td>3.931286e-06</td>\n",
       "    </tr>\n",
       "  </tbody>\n",
       "</table>\n",
       "</div>"
      ],
      "text/plain": [
       "         u1        u2        u3            u4            u5        u6  \\\n",
       "0  0.000176  0.000013  0.000004  3.381426e-07  3.229037e-06  0.000050   \n",
       "1  0.015903  0.000183  0.000000  0.000000e+00  2.856881e-04  0.000280   \n",
       "2  0.000631  0.000000  0.000000  8.018646e-04  0.000000e+00  0.000299   \n",
       "3  0.000041  0.000002  0.000004  2.136306e-07  7.172430e-07  0.000003   \n",
       "4  0.000439  0.000016  0.000046  9.357967e-05  7.511529e-06  0.000109   \n",
       "\n",
       "             u7        u8   u9           u10  \n",
       "0  4.527343e-07  0.000000  0.0  9.030768e-10  \n",
       "1  0.000000e+00  0.000028  0.0  6.723202e-06  \n",
       "2  1.841464e-04  0.000305  0.0  2.518250e-07  \n",
       "3  1.167560e-06  0.000000  0.0  9.109420e-08  \n",
       "4  2.644372e-06  0.000000  0.0  3.931286e-06  "
      ]
     },
     "execution_count": 20,
     "metadata": {},
     "output_type": "execute_result"
    }
   ],
   "source": [
    "user.head()"
   ]
  },
  {
   "cell_type": "code",
   "execution_count": 21,
   "metadata": {},
   "outputs": [
    {
     "data": {
      "text/plain": [
       "array(['00005c6177188f12fb5e2e82cdbd93e8a3f35e64',\n",
       "       '00030033e3a2f904a48ec1dd53019c9969b6ef1f',\n",
       "       '0007235c769e610e3d339a17818a5708e41008d9', ...,\n",
       "       'fffd9635b33f412de8ed02e44e6564e3644cf3c6',\n",
       "       'fffe6d1d8500f1c1f31bd63abce35c0f975a86bf',\n",
       "       'fffea3d509760c984e7d40789804c0e5e289cc86'], dtype=object)"
      ]
     },
     "execution_count": 21,
     "metadata": {},
     "output_type": "execute_result"
    }
   ],
   "source": [
    "train1_df.user_id.unique()"
   ]
  },
  {
   "cell_type": "markdown",
   "metadata": {},
   "source": [
    "Now we will append the user and song latent factors found to our original dataset. "
   ]
  },
  {
   "cell_type": "code",
   "execution_count": 22,
   "metadata": {},
   "outputs": [
    {
     "data": {
      "text/html": [
       "<div>\n",
       "<style scoped>\n",
       "    .dataframe tbody tr th:only-of-type {\n",
       "        vertical-align: middle;\n",
       "    }\n",
       "\n",
       "    .dataframe tbody tr th {\n",
       "        vertical-align: top;\n",
       "    }\n",
       "\n",
       "    .dataframe thead th {\n",
       "        text-align: right;\n",
       "    }\n",
       "</style>\n",
       "<table border=\"1\" class=\"dataframe\">\n",
       "  <thead>\n",
       "    <tr style=\"text-align: right;\">\n",
       "      <th></th>\n",
       "      <th>user_id</th>\n",
       "      <th>u1</th>\n",
       "      <th>u2</th>\n",
       "      <th>u3</th>\n",
       "      <th>u4</th>\n",
       "      <th>u5</th>\n",
       "      <th>u6</th>\n",
       "      <th>u7</th>\n",
       "      <th>u8</th>\n",
       "      <th>u9</th>\n",
       "      <th>u10</th>\n",
       "    </tr>\n",
       "  </thead>\n",
       "  <tbody>\n",
       "    <tr>\n",
       "      <th>0</th>\n",
       "      <td>00005c6177188f12fb5e2e82cdbd93e8a3f35e64</td>\n",
       "      <td>0.000176</td>\n",
       "      <td>0.000013</td>\n",
       "      <td>0.000004</td>\n",
       "      <td>3.381426e-07</td>\n",
       "      <td>3.229037e-06</td>\n",
       "      <td>0.000050</td>\n",
       "      <td>4.527343e-07</td>\n",
       "      <td>0.000000</td>\n",
       "      <td>0.0</td>\n",
       "      <td>9.030768e-10</td>\n",
       "    </tr>\n",
       "    <tr>\n",
       "      <th>1</th>\n",
       "      <td>00030033e3a2f904a48ec1dd53019c9969b6ef1f</td>\n",
       "      <td>0.015903</td>\n",
       "      <td>0.000183</td>\n",
       "      <td>0.000000</td>\n",
       "      <td>0.000000e+00</td>\n",
       "      <td>2.856881e-04</td>\n",
       "      <td>0.000280</td>\n",
       "      <td>0.000000e+00</td>\n",
       "      <td>0.000028</td>\n",
       "      <td>0.0</td>\n",
       "      <td>6.723202e-06</td>\n",
       "    </tr>\n",
       "    <tr>\n",
       "      <th>2</th>\n",
       "      <td>0007235c769e610e3d339a17818a5708e41008d9</td>\n",
       "      <td>0.000631</td>\n",
       "      <td>0.000000</td>\n",
       "      <td>0.000000</td>\n",
       "      <td>8.018646e-04</td>\n",
       "      <td>0.000000e+00</td>\n",
       "      <td>0.000299</td>\n",
       "      <td>1.841464e-04</td>\n",
       "      <td>0.000305</td>\n",
       "      <td>0.0</td>\n",
       "      <td>2.518250e-07</td>\n",
       "    </tr>\n",
       "    <tr>\n",
       "      <th>3</th>\n",
       "      <td>000a5c8b4d8b2c98f7a205219181d039edcd4506</td>\n",
       "      <td>0.000041</td>\n",
       "      <td>0.000002</td>\n",
       "      <td>0.000004</td>\n",
       "      <td>2.136306e-07</td>\n",
       "      <td>7.172430e-07</td>\n",
       "      <td>0.000003</td>\n",
       "      <td>1.167560e-06</td>\n",
       "      <td>0.000000</td>\n",
       "      <td>0.0</td>\n",
       "      <td>9.109420e-08</td>\n",
       "    </tr>\n",
       "    <tr>\n",
       "      <th>4</th>\n",
       "      <td>000b474f815bcff17a4bc9ce5324f9352dafe07d</td>\n",
       "      <td>0.000439</td>\n",
       "      <td>0.000016</td>\n",
       "      <td>0.000046</td>\n",
       "      <td>9.357967e-05</td>\n",
       "      <td>7.511529e-06</td>\n",
       "      <td>0.000109</td>\n",
       "      <td>2.644372e-06</td>\n",
       "      <td>0.000000</td>\n",
       "      <td>0.0</td>\n",
       "      <td>3.931286e-06</td>\n",
       "    </tr>\n",
       "  </tbody>\n",
       "</table>\n",
       "</div>"
      ],
      "text/plain": [
       "                                    user_id        u1        u2        u3  \\\n",
       "0  00005c6177188f12fb5e2e82cdbd93e8a3f35e64  0.000176  0.000013  0.000004   \n",
       "1  00030033e3a2f904a48ec1dd53019c9969b6ef1f  0.015903  0.000183  0.000000   \n",
       "2  0007235c769e610e3d339a17818a5708e41008d9  0.000631  0.000000  0.000000   \n",
       "3  000a5c8b4d8b2c98f7a205219181d039edcd4506  0.000041  0.000002  0.000004   \n",
       "4  000b474f815bcff17a4bc9ce5324f9352dafe07d  0.000439  0.000016  0.000046   \n",
       "\n",
       "             u4            u5        u6            u7        u8   u9  \\\n",
       "0  3.381426e-07  3.229037e-06  0.000050  4.527343e-07  0.000000  0.0   \n",
       "1  0.000000e+00  2.856881e-04  0.000280  0.000000e+00  0.000028  0.0   \n",
       "2  8.018646e-04  0.000000e+00  0.000299  1.841464e-04  0.000305  0.0   \n",
       "3  2.136306e-07  7.172430e-07  0.000003  1.167560e-06  0.000000  0.0   \n",
       "4  9.357967e-05  7.511529e-06  0.000109  2.644372e-06  0.000000  0.0   \n",
       "\n",
       "            u10  \n",
       "0  9.030768e-10  \n",
       "1  6.723202e-06  \n",
       "2  2.518250e-07  \n",
       "3  9.109420e-08  \n",
       "4  3.931286e-06  "
      ]
     },
     "execution_count": 22,
     "metadata": {},
     "output_type": "execute_result"
    }
   ],
   "source": [
    "# add latent factors as new columns\n",
    "\n",
    "user_factors = pd.DataFrame(train1_df.user_id.unique()).join(user)\n",
    "user_factors.columns = ['user_id','u1','u2','u3','u4','u5','u6','u7', 'u8', 'u9', 'u10']\n",
    "\n",
    "user_factors.head()\n"
   ]
  },
  {
   "cell_type": "code",
   "execution_count": 23,
   "metadata": {},
   "outputs": [
    {
     "data": {
      "text/html": [
       "<div>\n",
       "<style scoped>\n",
       "    .dataframe tbody tr th:only-of-type {\n",
       "        vertical-align: middle;\n",
       "    }\n",
       "\n",
       "    .dataframe tbody tr th {\n",
       "        vertical-align: top;\n",
       "    }\n",
       "\n",
       "    .dataframe thead th {\n",
       "        text-align: right;\n",
       "    }\n",
       "</style>\n",
       "<table border=\"1\" class=\"dataframe\">\n",
       "  <thead>\n",
       "    <tr style=\"text-align: right;\">\n",
       "      <th></th>\n",
       "      <th>song</th>\n",
       "      <th>s1</th>\n",
       "      <th>s2</th>\n",
       "      <th>s3</th>\n",
       "      <th>s4</th>\n",
       "      <th>s5</th>\n",
       "      <th>s6</th>\n",
       "      <th>s7</th>\n",
       "      <th>s8</th>\n",
       "      <th>s9</th>\n",
       "      <th>s10</th>\n",
       "    </tr>\n",
       "  </thead>\n",
       "  <tbody>\n",
       "    <tr>\n",
       "      <th>0</th>\n",
       "      <td>Ironmasters - The Men They Couldn't Hang</td>\n",
       "      <td>0.002052</td>\n",
       "      <td>0.000084</td>\n",
       "      <td>0.000018</td>\n",
       "      <td>0.000240</td>\n",
       "      <td>0.000162</td>\n",
       "      <td>0.001347</td>\n",
       "      <td>0.000150</td>\n",
       "      <td>0.000679</td>\n",
       "      <td>0.000059</td>\n",
       "      <td>0.000037</td>\n",
       "    </tr>\n",
       "    <tr>\n",
       "      <th>1</th>\n",
       "      <td>Chasing Cars - Snow Patrol</td>\n",
       "      <td>0.000373</td>\n",
       "      <td>0.000037</td>\n",
       "      <td>0.000005</td>\n",
       "      <td>0.000087</td>\n",
       "      <td>0.000051</td>\n",
       "      <td>0.000228</td>\n",
       "      <td>0.000025</td>\n",
       "      <td>0.000103</td>\n",
       "      <td>0.000000</td>\n",
       "      <td>0.000016</td>\n",
       "    </tr>\n",
       "    <tr>\n",
       "      <th>2</th>\n",
       "      <td>You'd Be So Nice To Come Home To - Julie London</td>\n",
       "      <td>0.000121</td>\n",
       "      <td>0.000000</td>\n",
       "      <td>0.000000</td>\n",
       "      <td>0.000015</td>\n",
       "      <td>0.000028</td>\n",
       "      <td>0.000366</td>\n",
       "      <td>0.000041</td>\n",
       "      <td>0.007433</td>\n",
       "      <td>0.000000</td>\n",
       "      <td>0.000007</td>\n",
       "    </tr>\n",
       "    <tr>\n",
       "      <th>3</th>\n",
       "      <td>Dip It Low - Christina Milian</td>\n",
       "      <td>0.000568</td>\n",
       "      <td>0.000052</td>\n",
       "      <td>0.000016</td>\n",
       "      <td>0.000008</td>\n",
       "      <td>0.000023</td>\n",
       "      <td>0.000327</td>\n",
       "      <td>0.000140</td>\n",
       "      <td>0.000217</td>\n",
       "      <td>0.000179</td>\n",
       "      <td>0.000014</td>\n",
       "    </tr>\n",
       "    <tr>\n",
       "      <th>4</th>\n",
       "      <td>Su veneno - Aventura</td>\n",
       "      <td>0.001504</td>\n",
       "      <td>0.000007</td>\n",
       "      <td>0.000039</td>\n",
       "      <td>0.000015</td>\n",
       "      <td>0.000434</td>\n",
       "      <td>0.000680</td>\n",
       "      <td>0.000021</td>\n",
       "      <td>0.000341</td>\n",
       "      <td>0.000159</td>\n",
       "      <td>0.000029</td>\n",
       "    </tr>\n",
       "  </tbody>\n",
       "</table>\n",
       "</div>"
      ],
      "text/plain": [
       "                                              song        s1        s2  \\\n",
       "0         Ironmasters - The Men They Couldn't Hang  0.002052  0.000084   \n",
       "1                       Chasing Cars - Snow Patrol  0.000373  0.000037   \n",
       "2  You'd Be So Nice To Come Home To - Julie London  0.000121  0.000000   \n",
       "3                    Dip It Low - Christina Milian  0.000568  0.000052   \n",
       "4                             Su veneno - Aventura  0.001504  0.000007   \n",
       "\n",
       "         s3        s4        s5        s6        s7        s8        s9  \\\n",
       "0  0.000018  0.000240  0.000162  0.001347  0.000150  0.000679  0.000059   \n",
       "1  0.000005  0.000087  0.000051  0.000228  0.000025  0.000103  0.000000   \n",
       "2  0.000000  0.000015  0.000028  0.000366  0.000041  0.007433  0.000000   \n",
       "3  0.000016  0.000008  0.000023  0.000327  0.000140  0.000217  0.000179   \n",
       "4  0.000039  0.000015  0.000434  0.000680  0.000021  0.000341  0.000159   \n",
       "\n",
       "        s10  \n",
       "0  0.000037  \n",
       "1  0.000016  \n",
       "2  0.000007  \n",
       "3  0.000014  \n",
       "4  0.000029  "
      ]
     },
     "execution_count": 23,
     "metadata": {},
     "output_type": "execute_result"
    }
   ],
   "source": [
    "song_factors = pd.DataFrame(train1_df.song.unique(), columns = ['song']).join(song)\n",
    "song_factors.columns = ['song','s1','s2','s3','s4','s5','s6','s7', 's8', 's9', 's10']\n",
    "song_factors.head()\n"
   ]
  },
  {
   "cell_type": "code",
   "execution_count": 24,
   "metadata": {},
   "outputs": [],
   "source": [
    "train2_df = pd.merge(train2, user_factors, on='user_id')"
   ]
  },
  {
   "cell_type": "code",
   "execution_count": 25,
   "metadata": {},
   "outputs": [],
   "source": [
    "train2_df = pd.merge(train2_df, song_factors, on='song')"
   ]
  },
  {
   "cell_type": "code",
   "execution_count": 26,
   "metadata": {},
   "outputs": [
    {
     "data": {
      "text/plain": [
       "442164"
      ]
     },
     "execution_count": 26,
     "metadata": {},
     "output_type": "execute_result"
    }
   ],
   "source": [
    "len(train2_df)"
   ]
  },
  {
   "cell_type": "code",
   "execution_count": 27,
   "metadata": {
    "scrolled": true
   },
   "outputs": [
    {
     "data": {
      "text/html": [
       "<div>\n",
       "<style scoped>\n",
       "    .dataframe tbody tr th:only-of-type {\n",
       "        vertical-align: middle;\n",
       "    }\n",
       "\n",
       "    .dataframe tbody tr th {\n",
       "        vertical-align: top;\n",
       "    }\n",
       "\n",
       "    .dataframe thead th {\n",
       "        text-align: right;\n",
       "    }\n",
       "</style>\n",
       "<table border=\"1\" class=\"dataframe\">\n",
       "  <thead>\n",
       "    <tr style=\"text-align: right;\">\n",
       "      <th></th>\n",
       "      <th>user_id</th>\n",
       "      <th>song_id</th>\n",
       "      <th>title</th>\n",
       "      <th>release</th>\n",
       "      <th>artist_name</th>\n",
       "      <th>year</th>\n",
       "      <th>song</th>\n",
       "      <th>id</th>\n",
       "      <th>name</th>\n",
       "      <th>uri_x</th>\n",
       "      <th>...</th>\n",
       "      <th>s1</th>\n",
       "      <th>s2</th>\n",
       "      <th>s3</th>\n",
       "      <th>s4</th>\n",
       "      <th>s5</th>\n",
       "      <th>s6</th>\n",
       "      <th>s7</th>\n",
       "      <th>s8</th>\n",
       "      <th>s9</th>\n",
       "      <th>s10</th>\n",
       "    </tr>\n",
       "  </thead>\n",
       "  <tbody>\n",
       "    <tr>\n",
       "      <th>0</th>\n",
       "      <td>25fb6b52eb2f3bb6e137dec0f08dcbebdcd5a15e</td>\n",
       "      <td>SOKFYFE12A6701D104</td>\n",
       "      <td>moon baby</td>\n",
       "      <td>Godsmack</td>\n",
       "      <td>godsmack</td>\n",
       "      <td>1997</td>\n",
       "      <td>Moon Baby - Godsmack</td>\n",
       "      <td>7fujLGyPh3b45OwjFhlQ8Q</td>\n",
       "      <td>moon baby</td>\n",
       "      <td>spotify:track:7fujLGyPh3b45OwjFhlQ8Q</td>\n",
       "      <td>...</td>\n",
       "      <td>0.001249</td>\n",
       "      <td>0.0</td>\n",
       "      <td>0.000199</td>\n",
       "      <td>0.000005</td>\n",
       "      <td>0.000738</td>\n",
       "      <td>0.000378</td>\n",
       "      <td>0.00025</td>\n",
       "      <td>0.000086</td>\n",
       "      <td>0.0</td>\n",
       "      <td>0.000038</td>\n",
       "    </tr>\n",
       "    <tr>\n",
       "      <th>1</th>\n",
       "      <td>ba5ad397b841ef2ad9db46ab041e0f0c5bc06a86</td>\n",
       "      <td>SOKFYFE12A6701D104</td>\n",
       "      <td>moon baby</td>\n",
       "      <td>Godsmack</td>\n",
       "      <td>godsmack</td>\n",
       "      <td>1997</td>\n",
       "      <td>Moon Baby - Godsmack</td>\n",
       "      <td>7fujLGyPh3b45OwjFhlQ8Q</td>\n",
       "      <td>moon baby</td>\n",
       "      <td>spotify:track:7fujLGyPh3b45OwjFhlQ8Q</td>\n",
       "      <td>...</td>\n",
       "      <td>0.001249</td>\n",
       "      <td>0.0</td>\n",
       "      <td>0.000199</td>\n",
       "      <td>0.000005</td>\n",
       "      <td>0.000738</td>\n",
       "      <td>0.000378</td>\n",
       "      <td>0.00025</td>\n",
       "      <td>0.000086</td>\n",
       "      <td>0.0</td>\n",
       "      <td>0.000038</td>\n",
       "    </tr>\n",
       "    <tr>\n",
       "      <th>2</th>\n",
       "      <td>da5d0afc724e7d63b9e90552a4d148fcce94e97e</td>\n",
       "      <td>SOKFYFE12A6701D104</td>\n",
       "      <td>moon baby</td>\n",
       "      <td>Godsmack</td>\n",
       "      <td>godsmack</td>\n",
       "      <td>1997</td>\n",
       "      <td>Moon Baby - Godsmack</td>\n",
       "      <td>7fujLGyPh3b45OwjFhlQ8Q</td>\n",
       "      <td>moon baby</td>\n",
       "      <td>spotify:track:7fujLGyPh3b45OwjFhlQ8Q</td>\n",
       "      <td>...</td>\n",
       "      <td>0.001249</td>\n",
       "      <td>0.0</td>\n",
       "      <td>0.000199</td>\n",
       "      <td>0.000005</td>\n",
       "      <td>0.000738</td>\n",
       "      <td>0.000378</td>\n",
       "      <td>0.00025</td>\n",
       "      <td>0.000086</td>\n",
       "      <td>0.0</td>\n",
       "      <td>0.000038</td>\n",
       "    </tr>\n",
       "    <tr>\n",
       "      <th>3</th>\n",
       "      <td>e180f1bf6db0511fa971e50695017b30a0df6cf5</td>\n",
       "      <td>SOKFYFE12A6701D104</td>\n",
       "      <td>moon baby</td>\n",
       "      <td>Godsmack</td>\n",
       "      <td>godsmack</td>\n",
       "      <td>1997</td>\n",
       "      <td>Moon Baby - Godsmack</td>\n",
       "      <td>7fujLGyPh3b45OwjFhlQ8Q</td>\n",
       "      <td>moon baby</td>\n",
       "      <td>spotify:track:7fujLGyPh3b45OwjFhlQ8Q</td>\n",
       "      <td>...</td>\n",
       "      <td>0.001249</td>\n",
       "      <td>0.0</td>\n",
       "      <td>0.000199</td>\n",
       "      <td>0.000005</td>\n",
       "      <td>0.000738</td>\n",
       "      <td>0.000378</td>\n",
       "      <td>0.00025</td>\n",
       "      <td>0.000086</td>\n",
       "      <td>0.0</td>\n",
       "      <td>0.000038</td>\n",
       "    </tr>\n",
       "    <tr>\n",
       "      <th>4</th>\n",
       "      <td>b34e46ffab91c0fb5e24e4cf261e09034cc2f625</td>\n",
       "      <td>SOKFYFE12A6701D104</td>\n",
       "      <td>moon baby</td>\n",
       "      <td>Godsmack</td>\n",
       "      <td>godsmack</td>\n",
       "      <td>1997</td>\n",
       "      <td>Moon Baby - Godsmack</td>\n",
       "      <td>7fujLGyPh3b45OwjFhlQ8Q</td>\n",
       "      <td>moon baby</td>\n",
       "      <td>spotify:track:7fujLGyPh3b45OwjFhlQ8Q</td>\n",
       "      <td>...</td>\n",
       "      <td>0.001249</td>\n",
       "      <td>0.0</td>\n",
       "      <td>0.000199</td>\n",
       "      <td>0.000005</td>\n",
       "      <td>0.000738</td>\n",
       "      <td>0.000378</td>\n",
       "      <td>0.00025</td>\n",
       "      <td>0.000086</td>\n",
       "      <td>0.0</td>\n",
       "      <td>0.000038</td>\n",
       "    </tr>\n",
       "  </tbody>\n",
       "</table>\n",
       "<p>5 rows × 48 columns</p>\n",
       "</div>"
      ],
      "text/plain": [
       "                                    user_id             song_id      title  \\\n",
       "0  25fb6b52eb2f3bb6e137dec0f08dcbebdcd5a15e  SOKFYFE12A6701D104  moon baby   \n",
       "1  ba5ad397b841ef2ad9db46ab041e0f0c5bc06a86  SOKFYFE12A6701D104  moon baby   \n",
       "2  da5d0afc724e7d63b9e90552a4d148fcce94e97e  SOKFYFE12A6701D104  moon baby   \n",
       "3  e180f1bf6db0511fa971e50695017b30a0df6cf5  SOKFYFE12A6701D104  moon baby   \n",
       "4  b34e46ffab91c0fb5e24e4cf261e09034cc2f625  SOKFYFE12A6701D104  moon baby   \n",
       "\n",
       "    release artist_name  year                  song                      id  \\\n",
       "0  Godsmack    godsmack  1997  Moon Baby - Godsmack  7fujLGyPh3b45OwjFhlQ8Q   \n",
       "1  Godsmack    godsmack  1997  Moon Baby - Godsmack  7fujLGyPh3b45OwjFhlQ8Q   \n",
       "2  Godsmack    godsmack  1997  Moon Baby - Godsmack  7fujLGyPh3b45OwjFhlQ8Q   \n",
       "3  Godsmack    godsmack  1997  Moon Baby - Godsmack  7fujLGyPh3b45OwjFhlQ8Q   \n",
       "4  Godsmack    godsmack  1997  Moon Baby - Godsmack  7fujLGyPh3b45OwjFhlQ8Q   \n",
       "\n",
       "        name                                 uri_x  ...        s1   s2  \\\n",
       "0  moon baby  spotify:track:7fujLGyPh3b45OwjFhlQ8Q  ...  0.001249  0.0   \n",
       "1  moon baby  spotify:track:7fujLGyPh3b45OwjFhlQ8Q  ...  0.001249  0.0   \n",
       "2  moon baby  spotify:track:7fujLGyPh3b45OwjFhlQ8Q  ...  0.001249  0.0   \n",
       "3  moon baby  spotify:track:7fujLGyPh3b45OwjFhlQ8Q  ...  0.001249  0.0   \n",
       "4  moon baby  spotify:track:7fujLGyPh3b45OwjFhlQ8Q  ...  0.001249  0.0   \n",
       "\n",
       "         s3        s4        s5        s6       s7        s8   s9       s10  \n",
       "0  0.000199  0.000005  0.000738  0.000378  0.00025  0.000086  0.0  0.000038  \n",
       "1  0.000199  0.000005  0.000738  0.000378  0.00025  0.000086  0.0  0.000038  \n",
       "2  0.000199  0.000005  0.000738  0.000378  0.00025  0.000086  0.0  0.000038  \n",
       "3  0.000199  0.000005  0.000738  0.000378  0.00025  0.000086  0.0  0.000038  \n",
       "4  0.000199  0.000005  0.000738  0.000378  0.00025  0.000086  0.0  0.000038  \n",
       "\n",
       "[5 rows x 48 columns]"
      ]
     },
     "execution_count": 27,
     "metadata": {},
     "output_type": "execute_result"
    }
   ],
   "source": [
    "train2_df.head()"
   ]
  },
  {
   "cell_type": "code",
   "execution_count": 28,
   "metadata": {},
   "outputs": [
    {
     "data": {
      "text/plain": [
       "Index(['user_id', 'song_id', 'title', 'release', 'artist_name', 'year', 'song',\n",
       "       'id', 'name', 'uri_x', 'danceability', 'energy', 'key', 'loudness',\n",
       "       'mode', 'speechiness', 'acousticness', 'instrumentalness', 'liveness',\n",
       "       'valence', 'tempo', 'type', 'uri_y', 'track_href', 'analysis_url',\n",
       "       'duration_ms', 'time_signature', 'listen_count', 'u1', 'u2', 'u3', 'u4',\n",
       "       'u5', 'u6', 'u7', 'u8', 'u9', 'u10', 's1', 's2', 's3', 's4', 's5', 's6',\n",
       "       's7', 's8', 's9', 's10'],\n",
       "      dtype='object')"
      ]
     },
     "execution_count": 28,
     "metadata": {},
     "output_type": "execute_result"
    }
   ],
   "source": [
    "train2_df.columns"
   ]
  },
  {
   "cell_type": "code",
   "execution_count": 29,
   "metadata": {},
   "outputs": [
    {
     "data": {
      "text/plain": [
       "count    1.137044e+06\n",
       "mean     2.875238e+00\n",
       "std      6.163442e+00\n",
       "min      1.000000e+00\n",
       "25%      1.000000e+00\n",
       "50%      1.000000e+00\n",
       "75%      3.000000e+00\n",
       "max      2.213000e+03\n",
       "Name: listen_count, dtype: float64"
      ]
     },
     "execution_count": 29,
     "metadata": {},
     "output_type": "execute_result"
    }
   ],
   "source": [
    "df.listen_count.describe()"
   ]
  },
  {
   "cell_type": "markdown",
   "metadata": {},
   "source": [
    "Since this is a classification problem, we will transform listen_count into labels of 'one' and 'one_plus'."
   ]
  },
  {
   "cell_type": "code",
   "execution_count": 30,
   "metadata": {},
   "outputs": [],
   "source": [
    "def f(row):\n",
    "    if  row['listen_count'] == 1:\n",
    "        val = 0\n",
    "    else:\n",
    "        val = 1\n",
    "    return val"
   ]
  },
  {
   "cell_type": "code",
   "execution_count": 31,
   "metadata": {},
   "outputs": [],
   "source": [
    "train2_df['label'] = train2_df.apply(f, axis=1)"
   ]
  },
  {
   "cell_type": "code",
   "execution_count": 32,
   "metadata": {},
   "outputs": [],
   "source": [
    "# extract relevant columns for classification\n",
    "\n",
    "train2_X = train2_df[['acousticness', 'danceability',\n",
    "       'duration_ms', 'energy', 'instrumentalness', 'key', 'liveness',\n",
    "       'loudness', 'mode', 'speechiness', 'tempo', 'time_signature','valence','s1', 's2', 's3', 's4', 's5', 's6','s7','s8', 's9', 's10', 'u1','u2','u3','u4','u5','u6','u7','u8', 'u9', 'u10']]"
   ]
  },
  {
   "cell_type": "code",
   "execution_count": 33,
   "metadata": {},
   "outputs": [
    {
     "data": {
      "text/plain": [
       "442164"
      ]
     },
     "execution_count": 33,
     "metadata": {},
     "output_type": "execute_result"
    }
   ],
   "source": [
    "len(train2_X)"
   ]
  },
  {
   "cell_type": "code",
   "execution_count": 34,
   "metadata": {},
   "outputs": [],
   "source": [
    "# extract labels\n",
    "train2_y = train2_df['label']"
   ]
  },
  {
   "cell_type": "code",
   "execution_count": 35,
   "metadata": {},
   "outputs": [],
   "source": [
    "# merge user and song latent factors to validation set\n",
    "\n",
    "val_df = pd.merge(val, user_factors, on='user_id')\n",
    "val_df = pd.merge(val_df, song_factors, on='song')\n",
    "val_df['label'] = val_df.apply(f, axis=1)"
   ]
  },
  {
   "cell_type": "code",
   "execution_count": 36,
   "metadata": {},
   "outputs": [],
   "source": [
    "val_X = val_df[['acousticness', 'danceability',\n",
    "       'duration_ms', 'energy', 'instrumentalness', 'key', 'liveness',\n",
    "       'loudness', 'mode', 'speechiness', 'tempo', 'time_signature','valence','s1', 's2', 's3', 's4', 's5', 's6','s7','s8', 's9', 's10', 'u1','u2','u3','u4','u5','u6','u7','u8', 'u9', 'u10']]"
   ]
  },
  {
   "cell_type": "code",
   "execution_count": 37,
   "metadata": {},
   "outputs": [
    {
     "data": {
      "text/html": [
       "<div>\n",
       "<style scoped>\n",
       "    .dataframe tbody tr th:only-of-type {\n",
       "        vertical-align: middle;\n",
       "    }\n",
       "\n",
       "    .dataframe tbody tr th {\n",
       "        vertical-align: top;\n",
       "    }\n",
       "\n",
       "    .dataframe thead th {\n",
       "        text-align: right;\n",
       "    }\n",
       "</style>\n",
       "<table border=\"1\" class=\"dataframe\">\n",
       "  <thead>\n",
       "    <tr style=\"text-align: right;\">\n",
       "      <th></th>\n",
       "      <th>acousticness</th>\n",
       "      <th>danceability</th>\n",
       "      <th>duration_ms</th>\n",
       "      <th>energy</th>\n",
       "      <th>instrumentalness</th>\n",
       "      <th>key</th>\n",
       "      <th>liveness</th>\n",
       "      <th>loudness</th>\n",
       "      <th>mode</th>\n",
       "      <th>speechiness</th>\n",
       "      <th>...</th>\n",
       "      <th>u1</th>\n",
       "      <th>u2</th>\n",
       "      <th>u3</th>\n",
       "      <th>u4</th>\n",
       "      <th>u5</th>\n",
       "      <th>u6</th>\n",
       "      <th>u7</th>\n",
       "      <th>u8</th>\n",
       "      <th>u9</th>\n",
       "      <th>u10</th>\n",
       "    </tr>\n",
       "  </thead>\n",
       "  <tbody>\n",
       "    <tr>\n",
       "      <th>0</th>\n",
       "      <td>0.0142</td>\n",
       "      <td>0.673</td>\n",
       "      <td>192333</td>\n",
       "      <td>0.607</td>\n",
       "      <td>0.000004</td>\n",
       "      <td>5</td>\n",
       "      <td>0.333</td>\n",
       "      <td>-7.672</td>\n",
       "      <td>1</td>\n",
       "      <td>0.027</td>\n",
       "      <td>...</td>\n",
       "      <td>0.526464</td>\n",
       "      <td>0.028890</td>\n",
       "      <td>0.006664</td>\n",
       "      <td>0.046162</td>\n",
       "      <td>0.001386</td>\n",
       "      <td>0.160497</td>\n",
       "      <td>0.015893</td>\n",
       "      <td>0.013152</td>\n",
       "      <td>0.000114</td>\n",
       "      <td>0.001658</td>\n",
       "    </tr>\n",
       "    <tr>\n",
       "      <th>1</th>\n",
       "      <td>0.0142</td>\n",
       "      <td>0.673</td>\n",
       "      <td>192333</td>\n",
       "      <td>0.607</td>\n",
       "      <td>0.000004</td>\n",
       "      <td>5</td>\n",
       "      <td>0.333</td>\n",
       "      <td>-7.672</td>\n",
       "      <td>1</td>\n",
       "      <td>0.027</td>\n",
       "      <td>...</td>\n",
       "      <td>0.492856</td>\n",
       "      <td>0.002701</td>\n",
       "      <td>0.000420</td>\n",
       "      <td>0.002362</td>\n",
       "      <td>0.002357</td>\n",
       "      <td>0.029457</td>\n",
       "      <td>0.002199</td>\n",
       "      <td>0.001090</td>\n",
       "      <td>0.002095</td>\n",
       "      <td>0.000148</td>\n",
       "    </tr>\n",
       "    <tr>\n",
       "      <th>2</th>\n",
       "      <td>0.0142</td>\n",
       "      <td>0.673</td>\n",
       "      <td>192333</td>\n",
       "      <td>0.607</td>\n",
       "      <td>0.000004</td>\n",
       "      <td>5</td>\n",
       "      <td>0.333</td>\n",
       "      <td>-7.672</td>\n",
       "      <td>1</td>\n",
       "      <td>0.027</td>\n",
       "      <td>...</td>\n",
       "      <td>0.019042</td>\n",
       "      <td>0.000428</td>\n",
       "      <td>0.000391</td>\n",
       "      <td>0.000075</td>\n",
       "      <td>0.000180</td>\n",
       "      <td>0.002661</td>\n",
       "      <td>0.000242</td>\n",
       "      <td>0.000306</td>\n",
       "      <td>0.000000</td>\n",
       "      <td>0.000054</td>\n",
       "    </tr>\n",
       "    <tr>\n",
       "      <th>3</th>\n",
       "      <td>0.0142</td>\n",
       "      <td>0.673</td>\n",
       "      <td>192333</td>\n",
       "      <td>0.607</td>\n",
       "      <td>0.000004</td>\n",
       "      <td>5</td>\n",
       "      <td>0.333</td>\n",
       "      <td>-7.672</td>\n",
       "      <td>1</td>\n",
       "      <td>0.027</td>\n",
       "      <td>...</td>\n",
       "      <td>0.004786</td>\n",
       "      <td>0.000390</td>\n",
       "      <td>0.000053</td>\n",
       "      <td>0.006192</td>\n",
       "      <td>0.000137</td>\n",
       "      <td>0.000690</td>\n",
       "      <td>0.000787</td>\n",
       "      <td>0.000560</td>\n",
       "      <td>0.000000</td>\n",
       "      <td>0.000019</td>\n",
       "    </tr>\n",
       "    <tr>\n",
       "      <th>4</th>\n",
       "      <td>0.0142</td>\n",
       "      <td>0.673</td>\n",
       "      <td>192333</td>\n",
       "      <td>0.607</td>\n",
       "      <td>0.000004</td>\n",
       "      <td>5</td>\n",
       "      <td>0.333</td>\n",
       "      <td>-7.672</td>\n",
       "      <td>1</td>\n",
       "      <td>0.027</td>\n",
       "      <td>...</td>\n",
       "      <td>0.074593</td>\n",
       "      <td>0.002298</td>\n",
       "      <td>0.000184</td>\n",
       "      <td>0.000000</td>\n",
       "      <td>0.000000</td>\n",
       "      <td>0.005310</td>\n",
       "      <td>0.000319</td>\n",
       "      <td>0.000203</td>\n",
       "      <td>0.000000</td>\n",
       "      <td>0.000000</td>\n",
       "    </tr>\n",
       "  </tbody>\n",
       "</table>\n",
       "<p>5 rows × 33 columns</p>\n",
       "</div>"
      ],
      "text/plain": [
       "   acousticness  danceability  duration_ms  energy  instrumentalness  key  \\\n",
       "0        0.0142         0.673       192333   0.607          0.000004    5   \n",
       "1        0.0142         0.673       192333   0.607          0.000004    5   \n",
       "2        0.0142         0.673       192333   0.607          0.000004    5   \n",
       "3        0.0142         0.673       192333   0.607          0.000004    5   \n",
       "4        0.0142         0.673       192333   0.607          0.000004    5   \n",
       "\n",
       "   liveness  loudness  mode  speechiness  ...        u1        u2        u3  \\\n",
       "0     0.333    -7.672     1        0.027  ...  0.526464  0.028890  0.006664   \n",
       "1     0.333    -7.672     1        0.027  ...  0.492856  0.002701  0.000420   \n",
       "2     0.333    -7.672     1        0.027  ...  0.019042  0.000428  0.000391   \n",
       "3     0.333    -7.672     1        0.027  ...  0.004786  0.000390  0.000053   \n",
       "4     0.333    -7.672     1        0.027  ...  0.074593  0.002298  0.000184   \n",
       "\n",
       "         u4        u5        u6        u7        u8        u9       u10  \n",
       "0  0.046162  0.001386  0.160497  0.015893  0.013152  0.000114  0.001658  \n",
       "1  0.002362  0.002357  0.029457  0.002199  0.001090  0.002095  0.000148  \n",
       "2  0.000075  0.000180  0.002661  0.000242  0.000306  0.000000  0.000054  \n",
       "3  0.006192  0.000137  0.000690  0.000787  0.000560  0.000000  0.000019  \n",
       "4  0.000000  0.000000  0.005310  0.000319  0.000203  0.000000  0.000000  \n",
       "\n",
       "[5 rows x 33 columns]"
      ]
     },
     "execution_count": 37,
     "metadata": {},
     "output_type": "execute_result"
    }
   ],
   "source": [
    "val_X.head()"
   ]
  },
  {
   "cell_type": "code",
   "execution_count": 38,
   "metadata": {},
   "outputs": [
    {
     "data": {
      "text/html": [
       "<div>\n",
       "<style scoped>\n",
       "    .dataframe tbody tr th:only-of-type {\n",
       "        vertical-align: middle;\n",
       "    }\n",
       "\n",
       "    .dataframe tbody tr th {\n",
       "        vertical-align: top;\n",
       "    }\n",
       "\n",
       "    .dataframe thead th {\n",
       "        text-align: right;\n",
       "    }\n",
       "</style>\n",
       "<table border=\"1\" class=\"dataframe\">\n",
       "  <thead>\n",
       "    <tr style=\"text-align: right;\">\n",
       "      <th></th>\n",
       "      <th>acousticness</th>\n",
       "      <th>danceability</th>\n",
       "      <th>duration_ms</th>\n",
       "      <th>energy</th>\n",
       "      <th>instrumentalness</th>\n",
       "      <th>key</th>\n",
       "      <th>liveness</th>\n",
       "      <th>loudness</th>\n",
       "      <th>mode</th>\n",
       "      <th>speechiness</th>\n",
       "      <th>...</th>\n",
       "      <th>u1</th>\n",
       "      <th>u2</th>\n",
       "      <th>u3</th>\n",
       "      <th>u4</th>\n",
       "      <th>u5</th>\n",
       "      <th>u6</th>\n",
       "      <th>u7</th>\n",
       "      <th>u8</th>\n",
       "      <th>u9</th>\n",
       "      <th>u10</th>\n",
       "    </tr>\n",
       "  </thead>\n",
       "  <tbody>\n",
       "    <tr>\n",
       "      <th>0</th>\n",
       "      <td>0.000046</td>\n",
       "      <td>0.257</td>\n",
       "      <td>263133</td>\n",
       "      <td>0.906</td>\n",
       "      <td>0.00146</td>\n",
       "      <td>6</td>\n",
       "      <td>0.746</td>\n",
       "      <td>-6.843</td>\n",
       "      <td>0</td>\n",
       "      <td>0.112</td>\n",
       "      <td>...</td>\n",
       "      <td>0.001435</td>\n",
       "      <td>0.000023</td>\n",
       "      <td>3.733389e-07</td>\n",
       "      <td>0.000012</td>\n",
       "      <td>0.000003</td>\n",
       "      <td>0.000317</td>\n",
       "      <td>0.000004</td>\n",
       "      <td>0.000007</td>\n",
       "      <td>0.000000</td>\n",
       "      <td>0.000001</td>\n",
       "    </tr>\n",
       "    <tr>\n",
       "      <th>1</th>\n",
       "      <td>0.000046</td>\n",
       "      <td>0.257</td>\n",
       "      <td>263133</td>\n",
       "      <td>0.906</td>\n",
       "      <td>0.00146</td>\n",
       "      <td>6</td>\n",
       "      <td>0.746</td>\n",
       "      <td>-6.843</td>\n",
       "      <td>0</td>\n",
       "      <td>0.112</td>\n",
       "      <td>...</td>\n",
       "      <td>0.004067</td>\n",
       "      <td>0.000304</td>\n",
       "      <td>7.946484e-03</td>\n",
       "      <td>0.000073</td>\n",
       "      <td>0.000004</td>\n",
       "      <td>0.000941</td>\n",
       "      <td>0.000270</td>\n",
       "      <td>0.000145</td>\n",
       "      <td>0.000003</td>\n",
       "      <td>0.000003</td>\n",
       "    </tr>\n",
       "    <tr>\n",
       "      <th>2</th>\n",
       "      <td>0.000046</td>\n",
       "      <td>0.257</td>\n",
       "      <td>263133</td>\n",
       "      <td>0.906</td>\n",
       "      <td>0.00146</td>\n",
       "      <td>6</td>\n",
       "      <td>0.746</td>\n",
       "      <td>-6.843</td>\n",
       "      <td>0</td>\n",
       "      <td>0.112</td>\n",
       "      <td>...</td>\n",
       "      <td>0.044587</td>\n",
       "      <td>0.000000</td>\n",
       "      <td>0.000000e+00</td>\n",
       "      <td>0.000000</td>\n",
       "      <td>0.000000</td>\n",
       "      <td>0.903068</td>\n",
       "      <td>0.003577</td>\n",
       "      <td>0.000000</td>\n",
       "      <td>0.000000</td>\n",
       "      <td>0.000009</td>\n",
       "    </tr>\n",
       "    <tr>\n",
       "      <th>3</th>\n",
       "      <td>0.000046</td>\n",
       "      <td>0.257</td>\n",
       "      <td>263133</td>\n",
       "      <td>0.906</td>\n",
       "      <td>0.00146</td>\n",
       "      <td>6</td>\n",
       "      <td>0.746</td>\n",
       "      <td>-6.843</td>\n",
       "      <td>0</td>\n",
       "      <td>0.112</td>\n",
       "      <td>...</td>\n",
       "      <td>0.009367</td>\n",
       "      <td>0.000428</td>\n",
       "      <td>1.556319e-04</td>\n",
       "      <td>0.000146</td>\n",
       "      <td>0.000135</td>\n",
       "      <td>0.001147</td>\n",
       "      <td>0.000122</td>\n",
       "      <td>0.000265</td>\n",
       "      <td>0.000000</td>\n",
       "      <td>0.000115</td>\n",
       "    </tr>\n",
       "    <tr>\n",
       "      <th>4</th>\n",
       "      <td>0.000046</td>\n",
       "      <td>0.257</td>\n",
       "      <td>263133</td>\n",
       "      <td>0.906</td>\n",
       "      <td>0.00146</td>\n",
       "      <td>6</td>\n",
       "      <td>0.746</td>\n",
       "      <td>-6.843</td>\n",
       "      <td>0</td>\n",
       "      <td>0.112</td>\n",
       "      <td>...</td>\n",
       "      <td>0.129632</td>\n",
       "      <td>0.001646</td>\n",
       "      <td>1.744126e-05</td>\n",
       "      <td>0.000000</td>\n",
       "      <td>0.000000</td>\n",
       "      <td>0.078708</td>\n",
       "      <td>0.000000</td>\n",
       "      <td>0.000287</td>\n",
       "      <td>0.000000</td>\n",
       "      <td>0.000000</td>\n",
       "    </tr>\n",
       "  </tbody>\n",
       "</table>\n",
       "<p>5 rows × 33 columns</p>\n",
       "</div>"
      ],
      "text/plain": [
       "   acousticness  danceability  duration_ms  energy  instrumentalness  key  \\\n",
       "0      0.000046         0.257       263133   0.906           0.00146    6   \n",
       "1      0.000046         0.257       263133   0.906           0.00146    6   \n",
       "2      0.000046         0.257       263133   0.906           0.00146    6   \n",
       "3      0.000046         0.257       263133   0.906           0.00146    6   \n",
       "4      0.000046         0.257       263133   0.906           0.00146    6   \n",
       "\n",
       "   liveness  loudness  mode  speechiness  ...        u1        u2  \\\n",
       "0     0.746    -6.843     0        0.112  ...  0.001435  0.000023   \n",
       "1     0.746    -6.843     0        0.112  ...  0.004067  0.000304   \n",
       "2     0.746    -6.843     0        0.112  ...  0.044587  0.000000   \n",
       "3     0.746    -6.843     0        0.112  ...  0.009367  0.000428   \n",
       "4     0.746    -6.843     0        0.112  ...  0.129632  0.001646   \n",
       "\n",
       "             u3        u4        u5        u6        u7        u8        u9  \\\n",
       "0  3.733389e-07  0.000012  0.000003  0.000317  0.000004  0.000007  0.000000   \n",
       "1  7.946484e-03  0.000073  0.000004  0.000941  0.000270  0.000145  0.000003   \n",
       "2  0.000000e+00  0.000000  0.000000  0.903068  0.003577  0.000000  0.000000   \n",
       "3  1.556319e-04  0.000146  0.000135  0.001147  0.000122  0.000265  0.000000   \n",
       "4  1.744126e-05  0.000000  0.000000  0.078708  0.000000  0.000287  0.000000   \n",
       "\n",
       "        u10  \n",
       "0  0.000001  \n",
       "1  0.000003  \n",
       "2  0.000009  \n",
       "3  0.000115  \n",
       "4  0.000000  \n",
       "\n",
       "[5 rows x 33 columns]"
      ]
     },
     "execution_count": 38,
     "metadata": {},
     "output_type": "execute_result"
    }
   ],
   "source": [
    "train2_X.head()"
   ]
  },
  {
   "cell_type": "code",
   "execution_count": 39,
   "metadata": {},
   "outputs": [
    {
     "data": {
      "text/plain": [
       "0         1\n",
       "1         0\n",
       "2         0\n",
       "3         0\n",
       "4         1\n",
       "         ..\n",
       "265281    0\n",
       "265282    0\n",
       "265283    0\n",
       "265284    1\n",
       "265285    0\n",
       "Name: label, Length: 265286, dtype: int64"
      ]
     },
     "execution_count": 39,
     "metadata": {},
     "output_type": "execute_result"
    }
   ],
   "source": [
    "val_y = val_df['label']\n",
    "val_y"
   ]
  },
  {
   "cell_type": "markdown",
   "metadata": {},
   "source": [
    "Now we will train XGBoost."
   ]
  },
  {
   "cell_type": "code",
   "execution_count": 40,
   "metadata": {},
   "outputs": [
    {
     "name": "stdout",
     "output_type": "stream",
     "text": [
      "\n",
      " Confusion Matrix:\n",
      " [[222225  34654]\n",
      " [117530  67755]]\n",
      "\n",
      " Classification Report: \n",
      "               precision    recall  f1-score   support\n",
      "\n",
      "           0       0.65      0.87      0.74    256879\n",
      "           1       0.66      0.37      0.47    185285\n",
      "\n",
      "    accuracy                           0.66    442164\n",
      "   macro avg       0.66      0.62      0.61    442164\n",
      "weighted avg       0.66      0.66      0.63    442164\n",
      "\n",
      "Accuracy: 0.6558200124840556\n",
      "AUC Score: 0.6994024700970669\n"
     ]
    }
   ],
   "source": [
    "#XGBOOST TRAINING ACCURACY\n",
    "\n",
    "from xgboost import XGBClassifier\n",
    "from sklearn.metrics import (classification_report,confusion_matrix, accuracy_score, f1_score, roc_auc_score)\n",
    "\n",
    "xgb = XGBClassifier()\n",
    "xgb.fit(train2_X, train2_y)\n",
    "xgb_pred = xgb.predict(train2_X)\n",
    "y_pred = xgb.predict_proba(train2_X)[:,1]\n",
    "\n",
    "\n",
    "print('\\n Confusion Matrix:\\n',confusion_matrix(train2_y,xgb_pred))\n",
    "print(\"\\n Classification Report: \\n\", classification_report(train2_y, xgb_pred))\n",
    "print(\"Accuracy:\", (accuracy_score(train2_y,xgb_pred)))\n",
    "print(\"AUC Score:\", (roc_auc_score(train2_y,y_pred)))"
   ]
  },
  {
   "cell_type": "code",
   "execution_count": 41,
   "metadata": {},
   "outputs": [
    {
     "data": {
      "text/plain": [
       "{'objective': 'binary:logistic',\n",
       " 'use_label_encoder': None,\n",
       " 'base_score': 0.5,\n",
       " 'booster': 'gbtree',\n",
       " 'callbacks': None,\n",
       " 'colsample_bylevel': 1,\n",
       " 'colsample_bynode': 1,\n",
       " 'colsample_bytree': 1,\n",
       " 'early_stopping_rounds': None,\n",
       " 'enable_categorical': False,\n",
       " 'eval_metric': None,\n",
       " 'feature_types': None,\n",
       " 'gamma': 0,\n",
       " 'gpu_id': -1,\n",
       " 'grow_policy': 'depthwise',\n",
       " 'importance_type': None,\n",
       " 'interaction_constraints': '',\n",
       " 'learning_rate': 0.300000012,\n",
       " 'max_bin': 256,\n",
       " 'max_cat_threshold': 64,\n",
       " 'max_cat_to_onehot': 4,\n",
       " 'max_delta_step': 0,\n",
       " 'max_depth': 6,\n",
       " 'max_leaves': 0,\n",
       " 'min_child_weight': 1,\n",
       " 'missing': nan,\n",
       " 'monotone_constraints': '()',\n",
       " 'n_estimators': 100,\n",
       " 'n_jobs': 0,\n",
       " 'num_parallel_tree': 1,\n",
       " 'predictor': 'auto',\n",
       " 'random_state': 0,\n",
       " 'reg_alpha': 0,\n",
       " 'reg_lambda': 1,\n",
       " 'sampling_method': 'uniform',\n",
       " 'scale_pos_weight': 1,\n",
       " 'subsample': 1,\n",
       " 'tree_method': 'exact',\n",
       " 'validate_parameters': 1,\n",
       " 'verbosity': None}"
      ]
     },
     "execution_count": 41,
     "metadata": {},
     "output_type": "execute_result"
    }
   ],
   "source": [
    "xgb.get_params()"
   ]
  },
  {
   "cell_type": "code",
   "execution_count": 42,
   "metadata": {},
   "outputs": [
    {
     "name": "stdout",
     "output_type": "stream",
     "text": [
      "\n",
      " Confusion Matrix:\n",
      " [[130049  24361]\n",
      " [ 74051  36825]]\n",
      "\n",
      " Classification Report: \n",
      "               precision    recall  f1-score   support\n",
      "\n",
      "           0       0.64      0.84      0.73    154410\n",
      "           1       0.60      0.33      0.43    110876\n",
      "\n",
      "    accuracy                           0.63    265286\n",
      "   macro avg       0.62      0.59      0.58    265286\n",
      "weighted avg       0.62      0.63      0.60    265286\n",
      "\n",
      "Accuracy: 0.6290343252188204\n",
      "AUC Score: 0.6530506381793364\n"
     ]
    }
   ],
   "source": [
    "# XGBoost TEST accuracy\n",
    "xgb_pred2 = xgb.predict(val_X)\n",
    "y_pred2 = xgb.predict_proba(val_X)[:,1]\n",
    "\n",
    "print('\\n Confusion Matrix:\\n',confusion_matrix(val_y,xgb_pred2))\n",
    "print(\"\\n Classification Report: \\n\", classification_report(val_y, xgb_pred2))\n",
    "print(\"Accuracy:\", (accuracy_score(val_y,xgb_pred2)))\n",
    "print(\"AUC Score:\", (roc_auc_score(val_y,y_pred2)))\n"
   ]
  },
  {
   "cell_type": "markdown",
   "metadata": {},
   "source": [
    "### Feature Importance"
   ]
  },
  {
   "cell_type": "code",
   "execution_count": 43,
   "metadata": {},
   "outputs": [
    {
     "data": {
      "image/png": "[encoded data removed]",
      "text/plain": [
       "<Figure size 432x288 with 1 Axes>"
      ]
     },
     "metadata": {
      "needs_background": "light"
     },
     "output_type": "display_data"
    },
    {
     "data": {
      "text/plain": [
       "<Figure size 2160x720 with 0 Axes>"
      ]
     },
     "metadata": {},
     "output_type": "display_data"
    }
   ],
   "source": [
    "from xgboost import plot_importance\n",
    "import matplotlib.pyplot as plt\n",
    "plot_importance(xgb)\n",
    "plt.figure(figsize=(30,10))\n",
    "plt.show()\n"
   ]
  },
  {
   "cell_type": "code",
   "execution_count": 44,
   "metadata": {},
   "outputs": [
    {
     "name": "stdout",
     "output_type": "stream",
     "text": [
      "\n",
      " Confusion Matrix:\n",
      " [[130613  23797]\n",
      " [ 74385  36491]]\n",
      "\n",
      " Classification Report: \n",
      "               precision    recall  f1-score   support\n",
      "\n",
      "           0       0.64      0.85      0.73    154410\n",
      "           1       0.61      0.33      0.43    110876\n",
      "\n",
      "    accuracy                           0.63    265286\n",
      "   macro avg       0.62      0.59      0.58    265286\n",
      "weighted avg       0.62      0.63      0.60    265286\n",
      "\n",
      "Accuracy: 0.629901314053512\n",
      "AUC Score: 0.652051562701781\n"
     ]
    }
   ],
   "source": [
    "## remove least important features \n",
    "\n",
    "xgb_f = XGBClassifier()\n",
    "xgb_f.fit(train2_X.drop(['mode','s8', 'time_signature','s6','s2', 's4','s5','s1','key'], axis = 1), train2_y)\n",
    "\n",
    "xgb_pred2 = xgb_f.predict(val_X.drop(['mode','s8', 'time_signature','s6', 's2','s4','s5','s1','key'], axis = 1))\n",
    "y_pred2 = xgb_f.predict_proba(val_X.drop(['mode','s8', 'time_signature', 's6', 's2','s4','s5','s1','key'], axis = 1))[:,1]\n",
    "\n",
    "print('\\n Confusion Matrix:\\n',confusion_matrix(val_y,xgb_pred2))\n",
    "print(\"\\n Classification Report: \\n\", classification_report(val_y, xgb_pred2))\n",
    "print(\"Accuracy:\", (accuracy_score(val_y,xgb_pred2)))\n",
    "print(\"AUC Score:\", (roc_auc_score(val_y,y_pred2)))"
   ]
  },
  {
   "cell_type": "markdown",
   "metadata": {},
   "source": [
    "Now we will play with the hyperparameter to see if we can increase AUC. "
   ]
  },
  {
   "cell_type": "code",
   "execution_count": null,
   "metadata": {},
   "outputs": [],
   "source": [
    "\n",
    "\n",
    "xgb2 = XGBClassifier(subsample=0.6, colsample_bytree=0.6, max_depth=8, learning_rate=0.01, n_estimators=1000 )\n",
    "xgb2.fit(train2_X.drop(['mode','s8', 'time_signature','s6','s2', 's4','s5','s1','key'], axis = 1), train2_y)\n",
    "xgb_pred3 = xgb2.predict(val_X.drop(['mode','s8', 'time_signature','s6', 's2','s4','s5','s1','key'], axis = 1))\n",
    "y_pred3 = xgb2.predict_proba(val_X.drop(['mode','s8', 'time_signature','s6', 's2','s4','s5','s1','key'], axis = 1))[:,1]\n",
    "\n",
    "\n",
    "print('\\n Confusion Matrix:\\n',confusion_matrix(val_y,xgb_pred3))\n",
    "print(\"\\n Classification Report: \\n\", classification_report(val_y, xgb_pred3))\n",
    "print(\"Accuracy:\", (accuracy_score(val_y,xgb_pred3)))\n",
    "print(\"AUC Score:\", (roc_auc_score(val_y,y_pred3)))"
   ]
  },
  {
   "cell_type": "code",
   "execution_count": null,
   "metadata": {},
   "outputs": [],
   "source": [
    "train2_X = train2_X.drop(['mode','s8', 'time_signature','s6','s2', 's4','s5','s1','key'], axis = 1)\n",
    "val_X = val_X.drop(['mode','s8', 'time_signature','s6','s2', 's4','s5','s1','key'], axis = 1)"
   ]
  },
  {
   "cell_type": "markdown",
   "metadata": {},
   "source": [
    "Now lets train Random Forest."
   ]
  },
  {
   "cell_type": "code",
   "execution_count": null,
   "metadata": {},
   "outputs": [],
   "source": [
    "from sklearn.ensemble import RandomForestClassifier\n",
    "\n",
    "rfclf = RandomForestClassifier()\n",
    "rfclf.fit(train2_X, train2_y)\n",
    "\n",
    "y_pred = rfclf.predict(val_X)\n",
    "class_pred = rfclf.predict_proba(val_X)[:,1]\n",
    "\n",
    "print('\\n Confusion Matrix:\\n',confusion_matrix(val_y,y_pred))\n",
    "print(\"\\n Classification Report: \\n\", classification_report(val_y, y_pred))\n",
    "print(\"Accuracy:\", (accuracy_score(val_y,y_pred)))\n",
    "print(\"AUC Score:\", (roc_auc_score(val_y,class_pred)))"
   ]
  },
  {
   "cell_type": "code",
   "execution_count": null,
   "metadata": {},
   "outputs": [],
   "source": [
    "rfclf.get_params()"
   ]
  },
  {
   "cell_type": "markdown",
   "metadata": {},
   "source": [
    "Tune hyperparameters to see if we can increase AUC."
   ]
  },
  {
   "cell_type": "code",
   "execution_count": null,
   "metadata": {},
   "outputs": [],
   "source": [
    "rfclf2 = RandomForestClassifier(n_estimators=100)\n",
    "rfclf2.fit(train2_X, train2_y)\n",
    "y_pred2 = rfclf2.predict(val_X)\n",
    "class_pred2 = rfclf2.predict_proba(val_X)[:,1]\n",
    "\n",
    "print('\\n Confusion Matrix:\\n',confusion_matrix(val_y,y_pred2))\n",
    "print(\"\\n Classification Report: \\n\", classification_report(val_y, y_pred2))\n",
    "print(\"Accuracy:\", (accuracy_score(val_y,y_pred2)))\n",
    "print(\"AUC Score:\", (roc_auc_score(val_y,class_pred2)))"
   ]
  },
  {
   "cell_type": "markdown",
   "metadata": {},
   "source": [
    "Ensemble our RF and XGBoost models by averaging probabilities. "
   ]
  },
  {
   "cell_type": "code",
   "execution_count": null,
   "metadata": {},
   "outputs": [],
   "source": [
    "## average probabilities of two models\n",
    "\n",
    "# get probabilities of random forest binary classifier\n",
    "x = xgb2.predict_proba(val_X)\n",
    "\n",
    "# get probabilities of SVM binary classifier\n",
    "r = rfclf2.predict_proba(val_X)"
   ]
  },
  {
   "cell_type": "code",
   "execution_count": null,
   "metadata": {},
   "outputs": [],
   "source": [
    "#add index to probabilities so we can merge\n",
    "x = pd.DataFrame(data=x, index=val_X.index)\n",
    "r = pd.DataFrame(data=r, index=val_X.index)\n",
    "\n",
    "\n",
    "# build a dataframe of probabilities (averaged)\n",
    "P = pd.DataFrame(index=val_X.index)\n",
    "for i in P.index:\n",
    "    try:\n",
    "        P.loc[i,0] = (x.loc[i,0] + r.loc[i,0])/2\n",
    "        P.loc[i,1] = (x.loc[i,1] + r.loc[i,1])/2\n",
    "    except KeyError:\n",
    "        P.loc[i,:] = x.loc[i,:]"
   ]
  },
  {
   "cell_type": "code",
   "execution_count": null,
   "metadata": {},
   "outputs": [],
   "source": [
    "P"
   ]
  },
  {
   "cell_type": "code",
   "execution_count": null,
   "metadata": {},
   "outputs": [],
   "source": [
    "val_y.head()"
   ]
  },
  {
   "cell_type": "markdown",
   "metadata": {},
   "source": [
    "Now lets see if the ensemble increases our AUC."
   ]
  },
  {
   "cell_type": "code",
   "execution_count": null,
   "metadata": {
    "scrolled": true
   },
   "outputs": [],
   "source": [
    "# get new auc score\n",
    "def pred_class(row):\n",
    "    if row[1] > row[0]:\n",
    "        return 1\n",
    "    else:\n",
    "        return 0\n",
    "\n",
    "P['pred'] = P.apply(lambda row: pred_class(row), axis =1)\n",
    "new_pred_y = P['pred']\n",
    "\n",
    "print('\\n Confusion Matrix:\\n',confusion_matrix(val_y,new_pred_y))\n",
    "print(\"\\n Classification Report: \\n\", classification_report(val_y, new_pred_y))\n",
    "print(\"Accuracy:\", (accuracy_score(val_y,new_pred_y)))\n",
    "print(\"AUC Score:\", (roc_auc_score(val_y,P[1])))"
   ]
  },
  {
   "cell_type": "markdown",
   "metadata": {},
   "source": [
    "Now we will write a function that will print out top 10 songs for a user"
   ]
  },
  {
   "cell_type": "code",
   "execution_count": null,
   "metadata": {},
   "outputs": [],
   "source": [
    "def get_top_songs(user_id):\n",
    "    \n",
    "    # get songs user has listened to \n",
    "    listened_songs = train2_df[train2_df.user_id == user_id].song.unique()\n",
    "    \n",
    "    # get songs user has not listened to \n",
    "    songs = train2_df.drop(columns=['user_id','listen_count']).drop_duplicates('song')\n",
    "    not_listened = songs[~songs.song.isin(listened_songs)].drop(columns=['u1', 'u2', 'u3', 'u4', 'u5', 'u6', 'u7','label'])\n",
    "    not_listened['user_id'] = user_id\n",
    "    \n",
    "    # join user features and song features on songs not listened to\n",
    "    not_listened_df = not_listened.merge(user_factors, on = 'user_id')\n",
    "    \n",
    "    \n",
    "    # add probabilities of belonging to class 'one_plus'\n",
    "    not_listened_df['pred']= P.iloc[:,1]\n",
    "    \n",
    "    # get top 10 predictions\n",
    "    top_pred = not_listened_df.sort_values(by ='pred', ascending=False).head(5)\n",
    "    return top_pred[['song_id', 'song', 'pred']]"
   ]
  },
  {
   "cell_type": "code",
   "execution_count": null,
   "metadata": {
    "scrolled": true
   },
   "outputs": [],
   "source": [
    "get_top_songs('f1ccb26d0d49490016747f6592e6f7b1e53a9e54')"
   ]
  },
  {
   "cell_type": "code",
   "execution_count": null,
   "metadata": {},
   "outputs": [],
   "source": [
    "train2_df[train2_df.user_id == 'f1ccb26d0d49490016747f6592e6f7b1e53a9e54'].sort_values(by='listen_count', ascending=False)[['song','listen_count','label']]"
   ]
  },
  {
   "cell_type": "code",
   "execution_count": null,
   "metadata": {},
   "outputs": [],
   "source": []
  }
 ],
 "metadata": {
  "kernelspec": {
   "display_name": "Python 3 (ipykernel)",
   "language": "python",
   "name": "python3"
  },
  "language_info": {
   "codemirror_mode": {
    "name": "ipython",
    "version": 3
   },
   "file_extension": ".py",
   "mimetype": "text/x-python",
   "name": "python",
   "nbconvert_exporter": "python",
   "pygments_lexer": "ipython3",
   "version": "3.9.12"
  }
 },
 "nbformat": 4,
 "nbformat_minor": 2
}

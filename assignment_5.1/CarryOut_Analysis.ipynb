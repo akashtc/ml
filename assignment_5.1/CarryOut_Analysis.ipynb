{
 "cells": [
  {
   "cell_type": "markdown",
   "id": "99935b64",
   "metadata": {},
   "source": [
    "### Will a Customer Accept the Coupon?\n",
    "\n",
    "**Context**\n",
    "\n",
    "Imagine driving through town and a coupon is delivered to your cell phone for a restaraunt near where you are driving. Would you accept that coupon and take a short detour to the restaraunt? Would you accept the coupon but use it on a sunbsequent trip? Would you ignore the coupon entirely? What if the coupon was for a bar instead of a restaraunt? What about a coffee house? Would you accept a bar coupon with a minor passenger in the car? What about if it was just you and your partner in the car? Would weather impact the rate of acceptance? What about the time of day?\n",
    "\n",
    "Obviously, proximity to the business is a factor on whether the coupon is delivered to the driver or not, but what are the factors that determine whether a driver accepts the coupon once it is delivered to them? How would you determine whether a driver is likely to accept a coupon?\n",
    "\n",
    "**Overview**\n",
    "\n",
    "The goal of this project is to use what you know about visualizations and probability distributions to distinguish between customers who accepted a driving coupon versus those that did not.\n",
    "\n",
    "**Data**\n",
    "\n",
    "This data comes to us from the UCI Machine Learning repository and was collected via a survey on Amazon Mechanical Turk. The survey describes different driving scenarios including the destination, current time, weather, passenger, etc., and then ask the person whether he will accept the coupon if he is the driver. Answers that the user will drive there ‘right away’ or ‘later before the coupon expires’ are labeled as ‘Y = 1’ and answers ‘no, I do not want the coupon’ are labeled as ‘Y = 0’.  There are five different types of coupons -- less expensive restaurants (under \\\\$20), coffee houses, carry out & take away, bar, and more expensive restaurants (\\\\$20 - \\\\$50)."
   ]
  },
  {
   "cell_type": "markdown",
   "id": "3178a753",
   "metadata": {},
   "source": [
    "Deliverables\n",
    "\n",
    "Your final product should be a brief report that highlights the differences between customers who did and did not accept the coupons. To explore the data you will utilize your knowledge of plotting, statistical summaries, and visualization using Python. You will publish your findings in a public facing github repository as your first portfolio piece."
   ]
  },
  {
   "cell_type": "code",
   "execution_count": 130,
   "id": "7f6f3e2f",
   "metadata": {},
   "outputs": [],
   "source": [
    "import matplotlib.pyplot as plt\n",
    "import seaborn as sns\n",
    "import pandas as pd\n",
    "import numpy as np"
   ]
  },
  {
   "cell_type": "code",
   "execution_count": 131,
   "id": "6ee9581b",
   "metadata": {},
   "outputs": [],
   "source": [
    "#Read in the coupons.csv file.\n",
    "\n",
    "data = pd.read_csv('data/coupons.csv')"
   ]
  },
  {
   "cell_type": "code",
   "execution_count": 132,
   "id": "566e1b58",
   "metadata": {},
   "outputs": [],
   "source": [
    "# Clean the data\n",
    "\n",
    "# Based on the data above, drop the cars column entirely since its not giving much meaningful information\n",
    "data_clean = data.dropna(axis='columns', thresh = 250)\n",
    "\n",
    "# Drop other rows that are containing NULLS\n",
    "data_clean = data_clean.dropna()\n",
    "\n",
    "# Add a new column with age converted to numbers\n",
    "data_clean['age_clean']=data_clean['age'].str.replace('below21', 'below20',regex=True)\n",
    "data_clean['age_clean']=data_clean['age_clean'].str.replace('[a-zA-Z]', '',regex=True)\n",
    "data_clean['age_clean']=data_clean['age_clean'].astype(int)\n",
    "\n",
    "\n",
    "data_clean=data_clean.rename(columns = {'passanger':'passenger'})"
   ]
  },
  {
   "cell_type": "markdown",
   "id": "2da42a01",
   "metadata": {},
   "source": [
    "**Investigating the CarryAway Coupons**\n",
    "\n",
    "Now, we will lead you through an exploration of just the \"Carry out & Take away\" related coupons.  \n",
    " \n",
    "1. Create a new `DataFrame` that contains just the \"Carry out & Take away\" coupons."
   ]
  },
  {
   "cell_type": "code",
   "execution_count": 133,
   "id": "95971297",
   "metadata": {},
   "outputs": [
    {
     "data": {
      "text/html": [
       "<div>\n",
       "<style scoped>\n",
       "    .dataframe tbody tr th:only-of-type {\n",
       "        vertical-align: middle;\n",
       "    }\n",
       "\n",
       "    .dataframe tbody tr th {\n",
       "        vertical-align: top;\n",
       "    }\n",
       "\n",
       "    .dataframe thead th {\n",
       "        text-align: right;\n",
       "    }\n",
       "</style>\n",
       "<table border=\"1\" class=\"dataframe\">\n",
       "  <thead>\n",
       "    <tr style=\"text-align: right;\">\n",
       "      <th></th>\n",
       "      <th>destination</th>\n",
       "      <th>passenger</th>\n",
       "      <th>weather</th>\n",
       "      <th>temperature</th>\n",
       "      <th>time</th>\n",
       "      <th>coupon</th>\n",
       "      <th>expiration</th>\n",
       "      <th>gender</th>\n",
       "      <th>age</th>\n",
       "      <th>maritalStatus</th>\n",
       "      <th>...</th>\n",
       "      <th>CarryAway</th>\n",
       "      <th>RestaurantLessThan20</th>\n",
       "      <th>Restaurant20To50</th>\n",
       "      <th>toCoupon_GEQ5min</th>\n",
       "      <th>toCoupon_GEQ15min</th>\n",
       "      <th>toCoupon_GEQ25min</th>\n",
       "      <th>direction_same</th>\n",
       "      <th>direction_opp</th>\n",
       "      <th>Y</th>\n",
       "      <th>age_clean</th>\n",
       "    </tr>\n",
       "  </thead>\n",
       "  <tbody>\n",
       "    <tr>\n",
       "      <th>25</th>\n",
       "      <td>No Urgent Place</td>\n",
       "      <td>Friend(s)</td>\n",
       "      <td>Sunny</td>\n",
       "      <td>80</td>\n",
       "      <td>10AM</td>\n",
       "      <td>Carry out &amp; Take away</td>\n",
       "      <td>2h</td>\n",
       "      <td>Male</td>\n",
       "      <td>21</td>\n",
       "      <td>Single</td>\n",
       "      <td>...</td>\n",
       "      <td>4~8</td>\n",
       "      <td>4~8</td>\n",
       "      <td>less1</td>\n",
       "      <td>1</td>\n",
       "      <td>1</td>\n",
       "      <td>0</td>\n",
       "      <td>0</td>\n",
       "      <td>1</td>\n",
       "      <td>0</td>\n",
       "      <td>21</td>\n",
       "    </tr>\n",
       "    <tr>\n",
       "      <th>33</th>\n",
       "      <td>No Urgent Place</td>\n",
       "      <td>Friend(s)</td>\n",
       "      <td>Sunny</td>\n",
       "      <td>55</td>\n",
       "      <td>2PM</td>\n",
       "      <td>Carry out &amp; Take away</td>\n",
       "      <td>1d</td>\n",
       "      <td>Male</td>\n",
       "      <td>21</td>\n",
       "      <td>Single</td>\n",
       "      <td>...</td>\n",
       "      <td>4~8</td>\n",
       "      <td>4~8</td>\n",
       "      <td>less1</td>\n",
       "      <td>1</td>\n",
       "      <td>1</td>\n",
       "      <td>0</td>\n",
       "      <td>0</td>\n",
       "      <td>1</td>\n",
       "      <td>1</td>\n",
       "      <td>21</td>\n",
       "    </tr>\n",
       "    <tr>\n",
       "      <th>41</th>\n",
       "      <td>Work</td>\n",
       "      <td>Alone</td>\n",
       "      <td>Sunny</td>\n",
       "      <td>80</td>\n",
       "      <td>7AM</td>\n",
       "      <td>Carry out &amp; Take away</td>\n",
       "      <td>2h</td>\n",
       "      <td>Male</td>\n",
       "      <td>21</td>\n",
       "      <td>Single</td>\n",
       "      <td>...</td>\n",
       "      <td>4~8</td>\n",
       "      <td>4~8</td>\n",
       "      <td>less1</td>\n",
       "      <td>1</td>\n",
       "      <td>0</td>\n",
       "      <td>0</td>\n",
       "      <td>1</td>\n",
       "      <td>0</td>\n",
       "      <td>1</td>\n",
       "      <td>21</td>\n",
       "    </tr>\n",
       "    <tr>\n",
       "      <th>47</th>\n",
       "      <td>No Urgent Place</td>\n",
       "      <td>Friend(s)</td>\n",
       "      <td>Sunny</td>\n",
       "      <td>80</td>\n",
       "      <td>10AM</td>\n",
       "      <td>Carry out &amp; Take away</td>\n",
       "      <td>2h</td>\n",
       "      <td>Male</td>\n",
       "      <td>46</td>\n",
       "      <td>Single</td>\n",
       "      <td>...</td>\n",
       "      <td>1~3</td>\n",
       "      <td>1~3</td>\n",
       "      <td>never</td>\n",
       "      <td>1</td>\n",
       "      <td>1</td>\n",
       "      <td>0</td>\n",
       "      <td>0</td>\n",
       "      <td>1</td>\n",
       "      <td>1</td>\n",
       "      <td>46</td>\n",
       "    </tr>\n",
       "    <tr>\n",
       "      <th>55</th>\n",
       "      <td>No Urgent Place</td>\n",
       "      <td>Friend(s)</td>\n",
       "      <td>Sunny</td>\n",
       "      <td>55</td>\n",
       "      <td>2PM</td>\n",
       "      <td>Carry out &amp; Take away</td>\n",
       "      <td>1d</td>\n",
       "      <td>Male</td>\n",
       "      <td>46</td>\n",
       "      <td>Single</td>\n",
       "      <td>...</td>\n",
       "      <td>1~3</td>\n",
       "      <td>1~3</td>\n",
       "      <td>never</td>\n",
       "      <td>1</td>\n",
       "      <td>1</td>\n",
       "      <td>0</td>\n",
       "      <td>0</td>\n",
       "      <td>1</td>\n",
       "      <td>1</td>\n",
       "      <td>46</td>\n",
       "    </tr>\n",
       "  </tbody>\n",
       "</table>\n",
       "<p>5 rows × 26 columns</p>\n",
       "</div>"
      ],
      "text/plain": [
       "        destination  passenger weather  temperature  time  \\\n",
       "25  No Urgent Place  Friend(s)   Sunny           80  10AM   \n",
       "33  No Urgent Place  Friend(s)   Sunny           55   2PM   \n",
       "41             Work      Alone   Sunny           80   7AM   \n",
       "47  No Urgent Place  Friend(s)   Sunny           80  10AM   \n",
       "55  No Urgent Place  Friend(s)   Sunny           55   2PM   \n",
       "\n",
       "                   coupon expiration gender age maritalStatus  ...  CarryAway  \\\n",
       "25  Carry out & Take away         2h   Male  21        Single  ...        4~8   \n",
       "33  Carry out & Take away         1d   Male  21        Single  ...        4~8   \n",
       "41  Carry out & Take away         2h   Male  21        Single  ...        4~8   \n",
       "47  Carry out & Take away         2h   Male  46        Single  ...        1~3   \n",
       "55  Carry out & Take away         1d   Male  46        Single  ...        1~3   \n",
       "\n",
       "   RestaurantLessThan20 Restaurant20To50 toCoupon_GEQ5min toCoupon_GEQ15min  \\\n",
       "25                  4~8            less1                1                 1   \n",
       "33                  4~8            less1                1                 1   \n",
       "41                  4~8            less1                1                 0   \n",
       "47                  1~3            never                1                 1   \n",
       "55                  1~3            never                1                 1   \n",
       "\n",
       "   toCoupon_GEQ25min direction_same direction_opp  Y  age_clean  \n",
       "25                 0              0             1  0         21  \n",
       "33                 0              0             1  1         21  \n",
       "41                 0              1             0  1         21  \n",
       "47                 0              0             1  1         46  \n",
       "55                 0              0             1  1         46  \n",
       "\n",
       "[5 rows x 26 columns]"
      ]
     },
     "execution_count": 133,
     "metadata": {},
     "output_type": "execute_result"
    }
   ],
   "source": [
    "data_carryout_coupons = data_clean.query('coupon == \"Carry out & Take away\"')\n",
    "data_carryout_coupons.head()"
   ]
  },
  {
   "cell_type": "markdown",
   "id": "d319b65b",
   "metadata": {},
   "source": [
    "2. What proportion of \"Carry out & Take away\" coupons were accepted?"
   ]
  },
  {
   "cell_type": "code",
   "execution_count": 134,
   "id": "47b1df71",
   "metadata": {},
   "outputs": [
    {
     "data": {
      "text/plain": [
       "1    1682\n",
       "0     598\n",
       "Name: Y, dtype: int64"
      ]
     },
     "execution_count": 134,
     "metadata": {},
     "output_type": "execute_result"
    }
   ],
   "source": [
    "# Count the values of 0 & 1 in the dataset\n",
    "accept_coupon_counts_carryout=data_carryout_coupons.Y.value_counts()\n",
    "accept_coupon_counts_carryout"
   ]
  },
  {
   "cell_type": "code",
   "execution_count": 135,
   "id": "15e35795",
   "metadata": {},
   "outputs": [
    {
     "data": {
      "text/plain": [
       "0.737719298245614"
      ]
     },
     "execution_count": 135,
     "metadata": {},
     "output_type": "execute_result"
    }
   ],
   "source": [
    "#Proportion of the total observations chose to accept the coupon can be calculated by doing \n",
    "# ratio of people with Y=1 divided by total counts\n",
    "accept_coupon_proportion_carryout=accept_coupon_counts_carryout[1]/(accept_coupon_counts_carryout[0]+accept_coupon_counts_carryout[1])\n",
    "accept_coupon_proportion_carryout"
   ]
  },
  {
   "cell_type": "markdown",
   "id": "1a3646b3",
   "metadata": {
    "variables": {
     "accept_coupon_proportion_carryout": "0.737719298245614"
    }
   },
   "source": [
    "### Proportion accepted\n",
    "\n",
    "The proportion of patrons accepting the carryout coupon is {{accept_coupon_proportion_carryout}}, which is approx. 30% more than that of patrons accepting the bar coupons.\n",
    "\n"
   ]
  },
  {
   "cell_type": "markdown",
   "id": "55b74ef1",
   "metadata": {},
   "source": [
    "3. Compare the acceptance rate between those who did a carryout 3 or fewer times a month to those who went more.\n"
   ]
  },
  {
   "cell_type": "code",
   "execution_count": 136,
   "id": "9dde3f82",
   "metadata": {},
   "outputs": [
    {
     "data": {
      "text/html": [
       "<div>\n",
       "<style scoped>\n",
       "    .dataframe tbody tr th:only-of-type {\n",
       "        vertical-align: middle;\n",
       "    }\n",
       "\n",
       "    .dataframe tbody tr th {\n",
       "        vertical-align: top;\n",
       "    }\n",
       "\n",
       "    .dataframe thead th {\n",
       "        text-align: right;\n",
       "    }\n",
       "</style>\n",
       "<table border=\"1\" class=\"dataframe\">\n",
       "  <thead>\n",
       "    <tr style=\"text-align: right;\">\n",
       "      <th></th>\n",
       "      <th>destination</th>\n",
       "      <th>passenger</th>\n",
       "      <th>weather</th>\n",
       "      <th>temperature</th>\n",
       "      <th>time</th>\n",
       "      <th>coupon</th>\n",
       "      <th>expiration</th>\n",
       "      <th>gender</th>\n",
       "      <th>age</th>\n",
       "      <th>maritalStatus</th>\n",
       "      <th>...</th>\n",
       "      <th>CarryAway</th>\n",
       "      <th>RestaurantLessThan20</th>\n",
       "      <th>Restaurant20To50</th>\n",
       "      <th>toCoupon_GEQ5min</th>\n",
       "      <th>toCoupon_GEQ15min</th>\n",
       "      <th>toCoupon_GEQ25min</th>\n",
       "      <th>direction_same</th>\n",
       "      <th>direction_opp</th>\n",
       "      <th>Y</th>\n",
       "      <th>age_clean</th>\n",
       "    </tr>\n",
       "  </thead>\n",
       "  <tbody>\n",
       "    <tr>\n",
       "      <th>47</th>\n",
       "      <td>No Urgent Place</td>\n",
       "      <td>Friend(s)</td>\n",
       "      <td>Sunny</td>\n",
       "      <td>80</td>\n",
       "      <td>10AM</td>\n",
       "      <td>Carry out &amp; Take away</td>\n",
       "      <td>2h</td>\n",
       "      <td>Male</td>\n",
       "      <td>46</td>\n",
       "      <td>Single</td>\n",
       "      <td>...</td>\n",
       "      <td>1~3</td>\n",
       "      <td>1~3</td>\n",
       "      <td>never</td>\n",
       "      <td>1</td>\n",
       "      <td>1</td>\n",
       "      <td>0</td>\n",
       "      <td>0</td>\n",
       "      <td>1</td>\n",
       "      <td>1</td>\n",
       "      <td>46</td>\n",
       "    </tr>\n",
       "    <tr>\n",
       "      <th>55</th>\n",
       "      <td>No Urgent Place</td>\n",
       "      <td>Friend(s)</td>\n",
       "      <td>Sunny</td>\n",
       "      <td>55</td>\n",
       "      <td>2PM</td>\n",
       "      <td>Carry out &amp; Take away</td>\n",
       "      <td>1d</td>\n",
       "      <td>Male</td>\n",
       "      <td>46</td>\n",
       "      <td>Single</td>\n",
       "      <td>...</td>\n",
       "      <td>1~3</td>\n",
       "      <td>1~3</td>\n",
       "      <td>never</td>\n",
       "      <td>1</td>\n",
       "      <td>1</td>\n",
       "      <td>0</td>\n",
       "      <td>0</td>\n",
       "      <td>1</td>\n",
       "      <td>1</td>\n",
       "      <td>46</td>\n",
       "    </tr>\n",
       "    <tr>\n",
       "      <th>63</th>\n",
       "      <td>Work</td>\n",
       "      <td>Alone</td>\n",
       "      <td>Sunny</td>\n",
       "      <td>80</td>\n",
       "      <td>7AM</td>\n",
       "      <td>Carry out &amp; Take away</td>\n",
       "      <td>2h</td>\n",
       "      <td>Male</td>\n",
       "      <td>46</td>\n",
       "      <td>Single</td>\n",
       "      <td>...</td>\n",
       "      <td>1~3</td>\n",
       "      <td>1~3</td>\n",
       "      <td>never</td>\n",
       "      <td>1</td>\n",
       "      <td>0</td>\n",
       "      <td>0</td>\n",
       "      <td>1</td>\n",
       "      <td>0</td>\n",
       "      <td>1</td>\n",
       "      <td>46</td>\n",
       "    </tr>\n",
       "    <tr>\n",
       "      <th>68</th>\n",
       "      <td>No Urgent Place</td>\n",
       "      <td>Friend(s)</td>\n",
       "      <td>Sunny</td>\n",
       "      <td>80</td>\n",
       "      <td>10AM</td>\n",
       "      <td>Carry out &amp; Take away</td>\n",
       "      <td>2h</td>\n",
       "      <td>Male</td>\n",
       "      <td>46</td>\n",
       "      <td>Married partner</td>\n",
       "      <td>...</td>\n",
       "      <td>1~3</td>\n",
       "      <td>1~3</td>\n",
       "      <td>less1</td>\n",
       "      <td>1</td>\n",
       "      <td>1</td>\n",
       "      <td>0</td>\n",
       "      <td>0</td>\n",
       "      <td>1</td>\n",
       "      <td>1</td>\n",
       "      <td>46</td>\n",
       "    </tr>\n",
       "    <tr>\n",
       "      <th>72</th>\n",
       "      <td>No Urgent Place</td>\n",
       "      <td>Friend(s)</td>\n",
       "      <td>Sunny</td>\n",
       "      <td>55</td>\n",
       "      <td>2PM</td>\n",
       "      <td>Carry out &amp; Take away</td>\n",
       "      <td>1d</td>\n",
       "      <td>Male</td>\n",
       "      <td>46</td>\n",
       "      <td>Married partner</td>\n",
       "      <td>...</td>\n",
       "      <td>1~3</td>\n",
       "      <td>1~3</td>\n",
       "      <td>less1</td>\n",
       "      <td>1</td>\n",
       "      <td>1</td>\n",
       "      <td>0</td>\n",
       "      <td>0</td>\n",
       "      <td>1</td>\n",
       "      <td>1</td>\n",
       "      <td>46</td>\n",
       "    </tr>\n",
       "  </tbody>\n",
       "</table>\n",
       "<p>5 rows × 26 columns</p>\n",
       "</div>"
      ],
      "text/plain": [
       "        destination  passenger weather  temperature  time  \\\n",
       "47  No Urgent Place  Friend(s)   Sunny           80  10AM   \n",
       "55  No Urgent Place  Friend(s)   Sunny           55   2PM   \n",
       "63             Work      Alone   Sunny           80   7AM   \n",
       "68  No Urgent Place  Friend(s)   Sunny           80  10AM   \n",
       "72  No Urgent Place  Friend(s)   Sunny           55   2PM   \n",
       "\n",
       "                   coupon expiration gender age    maritalStatus  ...  \\\n",
       "47  Carry out & Take away         2h   Male  46           Single  ...   \n",
       "55  Carry out & Take away         1d   Male  46           Single  ...   \n",
       "63  Carry out & Take away         2h   Male  46           Single  ...   \n",
       "68  Carry out & Take away         2h   Male  46  Married partner  ...   \n",
       "72  Carry out & Take away         1d   Male  46  Married partner  ...   \n",
       "\n",
       "    CarryAway RestaurantLessThan20 Restaurant20To50 toCoupon_GEQ5min  \\\n",
       "47        1~3                  1~3            never                1   \n",
       "55        1~3                  1~3            never                1   \n",
       "63        1~3                  1~3            never                1   \n",
       "68        1~3                  1~3            less1                1   \n",
       "72        1~3                  1~3            less1                1   \n",
       "\n",
       "   toCoupon_GEQ15min toCoupon_GEQ25min direction_same direction_opp  Y  \\\n",
       "47                 1                 0              0             1  1   \n",
       "55                 1                 0              0             1  1   \n",
       "63                 0                 0              1             0  1   \n",
       "68                 1                 0              0             1  1   \n",
       "72                 1                 0              0             1  1   \n",
       "\n",
       "    age_clean  \n",
       "47         46  \n",
       "55         46  \n",
       "63         46  \n",
       "68         46  \n",
       "72         46  \n",
       "\n",
       "[5 rows x 26 columns]"
      ]
     },
     "execution_count": 136,
     "metadata": {},
     "output_type": "execute_result"
    }
   ],
   "source": [
    "carryout_less_than_3=[\"never\",\"less1\",\"1~3\"]\n",
    "\n",
    "data_carryout_coupons_less_3 = data_carryout_coupons.query('CarryAway in @carryout_less_than_3' )\n",
    "data_carryout_coupons_less_3.head()"
   ]
  },
  {
   "cell_type": "code",
   "execution_count": 137,
   "id": "5c44a40c",
   "metadata": {},
   "outputs": [
    {
     "data": {
      "text/plain": [
       "1    869\n",
       "0    332\n",
       "Name: Y, dtype: int64"
      ]
     },
     "execution_count": 137,
     "metadata": {},
     "output_type": "execute_result"
    }
   ],
   "source": [
    "\n",
    "# Count the values of 0 & 1 in the dataset\n",
    "accept_coupon_counts_carryout_less_3=data_carryout_coupons_less_3.Y.value_counts()\n",
    "accept_coupon_counts_carryout_less_3"
   ]
  },
  {
   "cell_type": "code",
   "execution_count": 138,
   "id": "f9e69224",
   "metadata": {},
   "outputs": [
    {
     "data": {
      "text/plain": [
       "0.723563696919234"
      ]
     },
     "execution_count": 138,
     "metadata": {},
     "output_type": "execute_result"
    }
   ],
   "source": [
    "#Proportion of the total observations chose to accept the coupon can be calculated by doing \n",
    "# ratio of people with Y=1 divided by total counts\n",
    "accept_coupon_proportion_carryout_less_3=accept_coupon_counts_carryout_less_3[1]/(accept_coupon_counts_carryout_less_3[0]+accept_coupon_counts_carryout_less_3[1])\n",
    "accept_coupon_proportion_carryout_less_3"
   ]
  },
  {
   "cell_type": "code",
   "execution_count": 139,
   "id": "10a5dede",
   "metadata": {},
   "outputs": [
    {
     "data": {
      "text/html": [
       "<div>\n",
       "<style scoped>\n",
       "    .dataframe tbody tr th:only-of-type {\n",
       "        vertical-align: middle;\n",
       "    }\n",
       "\n",
       "    .dataframe tbody tr th {\n",
       "        vertical-align: top;\n",
       "    }\n",
       "\n",
       "    .dataframe thead th {\n",
       "        text-align: right;\n",
       "    }\n",
       "</style>\n",
       "<table border=\"1\" class=\"dataframe\">\n",
       "  <thead>\n",
       "    <tr style=\"text-align: right;\">\n",
       "      <th></th>\n",
       "      <th>destination</th>\n",
       "      <th>passenger</th>\n",
       "      <th>weather</th>\n",
       "      <th>temperature</th>\n",
       "      <th>time</th>\n",
       "      <th>coupon</th>\n",
       "      <th>expiration</th>\n",
       "      <th>gender</th>\n",
       "      <th>age</th>\n",
       "      <th>maritalStatus</th>\n",
       "      <th>...</th>\n",
       "      <th>CarryAway</th>\n",
       "      <th>RestaurantLessThan20</th>\n",
       "      <th>Restaurant20To50</th>\n",
       "      <th>toCoupon_GEQ5min</th>\n",
       "      <th>toCoupon_GEQ15min</th>\n",
       "      <th>toCoupon_GEQ25min</th>\n",
       "      <th>direction_same</th>\n",
       "      <th>direction_opp</th>\n",
       "      <th>Y</th>\n",
       "      <th>age_clean</th>\n",
       "    </tr>\n",
       "  </thead>\n",
       "  <tbody>\n",
       "    <tr>\n",
       "      <th>25</th>\n",
       "      <td>No Urgent Place</td>\n",
       "      <td>Friend(s)</td>\n",
       "      <td>Sunny</td>\n",
       "      <td>80</td>\n",
       "      <td>10AM</td>\n",
       "      <td>Carry out &amp; Take away</td>\n",
       "      <td>2h</td>\n",
       "      <td>Male</td>\n",
       "      <td>21</td>\n",
       "      <td>Single</td>\n",
       "      <td>...</td>\n",
       "      <td>4~8</td>\n",
       "      <td>4~8</td>\n",
       "      <td>less1</td>\n",
       "      <td>1</td>\n",
       "      <td>1</td>\n",
       "      <td>0</td>\n",
       "      <td>0</td>\n",
       "      <td>1</td>\n",
       "      <td>0</td>\n",
       "      <td>21</td>\n",
       "    </tr>\n",
       "    <tr>\n",
       "      <th>33</th>\n",
       "      <td>No Urgent Place</td>\n",
       "      <td>Friend(s)</td>\n",
       "      <td>Sunny</td>\n",
       "      <td>55</td>\n",
       "      <td>2PM</td>\n",
       "      <td>Carry out &amp; Take away</td>\n",
       "      <td>1d</td>\n",
       "      <td>Male</td>\n",
       "      <td>21</td>\n",
       "      <td>Single</td>\n",
       "      <td>...</td>\n",
       "      <td>4~8</td>\n",
       "      <td>4~8</td>\n",
       "      <td>less1</td>\n",
       "      <td>1</td>\n",
       "      <td>1</td>\n",
       "      <td>0</td>\n",
       "      <td>0</td>\n",
       "      <td>1</td>\n",
       "      <td>1</td>\n",
       "      <td>21</td>\n",
       "    </tr>\n",
       "    <tr>\n",
       "      <th>41</th>\n",
       "      <td>Work</td>\n",
       "      <td>Alone</td>\n",
       "      <td>Sunny</td>\n",
       "      <td>80</td>\n",
       "      <td>7AM</td>\n",
       "      <td>Carry out &amp; Take away</td>\n",
       "      <td>2h</td>\n",
       "      <td>Male</td>\n",
       "      <td>21</td>\n",
       "      <td>Single</td>\n",
       "      <td>...</td>\n",
       "      <td>4~8</td>\n",
       "      <td>4~8</td>\n",
       "      <td>less1</td>\n",
       "      <td>1</td>\n",
       "      <td>0</td>\n",
       "      <td>0</td>\n",
       "      <td>1</td>\n",
       "      <td>0</td>\n",
       "      <td>1</td>\n",
       "      <td>21</td>\n",
       "    </tr>\n",
       "    <tr>\n",
       "      <th>113</th>\n",
       "      <td>No Urgent Place</td>\n",
       "      <td>Friend(s)</td>\n",
       "      <td>Sunny</td>\n",
       "      <td>80</td>\n",
       "      <td>10AM</td>\n",
       "      <td>Carry out &amp; Take away</td>\n",
       "      <td>2h</td>\n",
       "      <td>Male</td>\n",
       "      <td>26</td>\n",
       "      <td>Unmarried partner</td>\n",
       "      <td>...</td>\n",
       "      <td>4~8</td>\n",
       "      <td>1~3</td>\n",
       "      <td>less1</td>\n",
       "      <td>1</td>\n",
       "      <td>1</td>\n",
       "      <td>0</td>\n",
       "      <td>0</td>\n",
       "      <td>1</td>\n",
       "      <td>0</td>\n",
       "      <td>26</td>\n",
       "    </tr>\n",
       "    <tr>\n",
       "      <th>121</th>\n",
       "      <td>No Urgent Place</td>\n",
       "      <td>Friend(s)</td>\n",
       "      <td>Sunny</td>\n",
       "      <td>55</td>\n",
       "      <td>2PM</td>\n",
       "      <td>Carry out &amp; Take away</td>\n",
       "      <td>1d</td>\n",
       "      <td>Male</td>\n",
       "      <td>26</td>\n",
       "      <td>Unmarried partner</td>\n",
       "      <td>...</td>\n",
       "      <td>4~8</td>\n",
       "      <td>1~3</td>\n",
       "      <td>less1</td>\n",
       "      <td>1</td>\n",
       "      <td>1</td>\n",
       "      <td>0</td>\n",
       "      <td>0</td>\n",
       "      <td>1</td>\n",
       "      <td>1</td>\n",
       "      <td>26</td>\n",
       "    </tr>\n",
       "  </tbody>\n",
       "</table>\n",
       "<p>5 rows × 26 columns</p>\n",
       "</div>"
      ],
      "text/plain": [
       "         destination  passenger weather  temperature  time  \\\n",
       "25   No Urgent Place  Friend(s)   Sunny           80  10AM   \n",
       "33   No Urgent Place  Friend(s)   Sunny           55   2PM   \n",
       "41              Work      Alone   Sunny           80   7AM   \n",
       "113  No Urgent Place  Friend(s)   Sunny           80  10AM   \n",
       "121  No Urgent Place  Friend(s)   Sunny           55   2PM   \n",
       "\n",
       "                    coupon expiration gender age      maritalStatus  ...  \\\n",
       "25   Carry out & Take away         2h   Male  21             Single  ...   \n",
       "33   Carry out & Take away         1d   Male  21             Single  ...   \n",
       "41   Carry out & Take away         2h   Male  21             Single  ...   \n",
       "113  Carry out & Take away         2h   Male  26  Unmarried partner  ...   \n",
       "121  Carry out & Take away         1d   Male  26  Unmarried partner  ...   \n",
       "\n",
       "     CarryAway RestaurantLessThan20 Restaurant20To50 toCoupon_GEQ5min  \\\n",
       "25         4~8                  4~8            less1                1   \n",
       "33         4~8                  4~8            less1                1   \n",
       "41         4~8                  4~8            less1                1   \n",
       "113        4~8                  1~3            less1                1   \n",
       "121        4~8                  1~3            less1                1   \n",
       "\n",
       "    toCoupon_GEQ15min toCoupon_GEQ25min direction_same direction_opp  Y  \\\n",
       "25                  1                 0              0             1  0   \n",
       "33                  1                 0              0             1  1   \n",
       "41                  0                 0              1             0  1   \n",
       "113                 1                 0              0             1  0   \n",
       "121                 1                 0              0             1  1   \n",
       "\n",
       "     age_clean  \n",
       "25          21  \n",
       "33          21  \n",
       "41          21  \n",
       "113         26  \n",
       "121         26  \n",
       "\n",
       "[5 rows x 26 columns]"
      ]
     },
     "execution_count": 139,
     "metadata": {},
     "output_type": "execute_result"
    }
   ],
   "source": [
    "data_carryout_coupons_morethan_3 = data_carryout_coupons.query('CarryAway in (\"4~8\",\"gt8\")')\n",
    "data_carryout_coupons_morethan_3.head()\n"
   ]
  },
  {
   "cell_type": "code",
   "execution_count": 140,
   "id": "dd216f6e",
   "metadata": {},
   "outputs": [
    {
     "data": {
      "text/plain": [
       "1    813\n",
       "0    266\n",
       "Name: Y, dtype: int64"
      ]
     },
     "execution_count": 140,
     "metadata": {},
     "output_type": "execute_result"
    }
   ],
   "source": [
    "\n",
    "# Count the values of 0 & 1 in the dataset\n",
    "accept_coupon_counts_carryout_gt_3=data_carryout_coupons_morethan_3.Y.value_counts()\n",
    "accept_coupon_counts_carryout_gt_3\n"
   ]
  },
  {
   "cell_type": "code",
   "execution_count": 141,
   "id": "4a21b832",
   "metadata": {},
   "outputs": [
    {
     "data": {
      "text/plain": [
       "0.7534754402224282"
      ]
     },
     "execution_count": 141,
     "metadata": {},
     "output_type": "execute_result"
    }
   ],
   "source": [
    "#Proportion of the total observations chose to accept the coupon can be calculated by doing \n",
    "# ratio of people with Y=1 divided by total counts\n",
    "accept_coupon_proportion_carryout_gt_3=accept_coupon_counts_carryout_gt_3[1]/(accept_coupon_counts_carryout_gt_3[0]+accept_coupon_counts_carryout_gt_3[1])\n",
    "accept_coupon_proportion_carryout_gt_3\n"
   ]
  },
  {
   "cell_type": "markdown",
   "id": "c732d043",
   "metadata": {
    "variables": {
     "accept_coupon_proportion_carryout_gt_3": "0.7534754402224282",
     "accept_coupon_proportion_carryout_less_3": "0.723563696919234"
    }
   },
   "source": [
    "### Conclusion #3\n",
    "\n",
    "Acceptance rate between those who did carryout 3 or fewer times a month is {{accept_coupon_proportion_carryout_less_3}}. For patrons who did more carryout the acceptance rate is {{accept_coupon_proportion_carryout_gt_3}}. \n",
    "\n",
    "This shows that the number of times you carryout changes your likelyhood of claiming the coupon changes by a very small percentage"
   ]
  },
  {
   "cell_type": "markdown",
   "id": "0bed3f85",
   "metadata": {},
   "source": [
    "4. Compare the acceptance rate between drivers who do carryout more than once a month and are under the age of 25 to the all others.  Is there a difference?"
   ]
  },
  {
   "cell_type": "code",
   "execution_count": 142,
   "id": "2979e6ac",
   "metadata": {},
   "outputs": [
    {
     "data": {
      "text/html": [
       "<div>\n",
       "<style scoped>\n",
       "    .dataframe tbody tr th:only-of-type {\n",
       "        vertical-align: middle;\n",
       "    }\n",
       "\n",
       "    .dataframe tbody tr th {\n",
       "        vertical-align: top;\n",
       "    }\n",
       "\n",
       "    .dataframe thead th {\n",
       "        text-align: right;\n",
       "    }\n",
       "</style>\n",
       "<table border=\"1\" class=\"dataframe\">\n",
       "  <thead>\n",
       "    <tr style=\"text-align: right;\">\n",
       "      <th></th>\n",
       "      <th>destination</th>\n",
       "      <th>passenger</th>\n",
       "      <th>weather</th>\n",
       "      <th>temperature</th>\n",
       "      <th>time</th>\n",
       "      <th>coupon</th>\n",
       "      <th>expiration</th>\n",
       "      <th>gender</th>\n",
       "      <th>age</th>\n",
       "      <th>maritalStatus</th>\n",
       "      <th>...</th>\n",
       "      <th>CarryAway</th>\n",
       "      <th>RestaurantLessThan20</th>\n",
       "      <th>Restaurant20To50</th>\n",
       "      <th>toCoupon_GEQ5min</th>\n",
       "      <th>toCoupon_GEQ15min</th>\n",
       "      <th>toCoupon_GEQ25min</th>\n",
       "      <th>direction_same</th>\n",
       "      <th>direction_opp</th>\n",
       "      <th>Y</th>\n",
       "      <th>age_clean</th>\n",
       "    </tr>\n",
       "  </thead>\n",
       "  <tbody>\n",
       "    <tr>\n",
       "      <th>91</th>\n",
       "      <td>No Urgent Place</td>\n",
       "      <td>Friend(s)</td>\n",
       "      <td>Sunny</td>\n",
       "      <td>80</td>\n",
       "      <td>10AM</td>\n",
       "      <td>Carry out &amp; Take away</td>\n",
       "      <td>2h</td>\n",
       "      <td>Male</td>\n",
       "      <td>21</td>\n",
       "      <td>Single</td>\n",
       "      <td>...</td>\n",
       "      <td>1~3</td>\n",
       "      <td>less1</td>\n",
       "      <td>1~3</td>\n",
       "      <td>1</td>\n",
       "      <td>1</td>\n",
       "      <td>0</td>\n",
       "      <td>0</td>\n",
       "      <td>1</td>\n",
       "      <td>1</td>\n",
       "      <td>21</td>\n",
       "    </tr>\n",
       "    <tr>\n",
       "      <th>99</th>\n",
       "      <td>No Urgent Place</td>\n",
       "      <td>Friend(s)</td>\n",
       "      <td>Sunny</td>\n",
       "      <td>55</td>\n",
       "      <td>2PM</td>\n",
       "      <td>Carry out &amp; Take away</td>\n",
       "      <td>1d</td>\n",
       "      <td>Male</td>\n",
       "      <td>21</td>\n",
       "      <td>Single</td>\n",
       "      <td>...</td>\n",
       "      <td>1~3</td>\n",
       "      <td>less1</td>\n",
       "      <td>1~3</td>\n",
       "      <td>1</td>\n",
       "      <td>1</td>\n",
       "      <td>0</td>\n",
       "      <td>0</td>\n",
       "      <td>1</td>\n",
       "      <td>1</td>\n",
       "      <td>21</td>\n",
       "    </tr>\n",
       "    <tr>\n",
       "      <th>107</th>\n",
       "      <td>Work</td>\n",
       "      <td>Alone</td>\n",
       "      <td>Sunny</td>\n",
       "      <td>80</td>\n",
       "      <td>7AM</td>\n",
       "      <td>Carry out &amp; Take away</td>\n",
       "      <td>2h</td>\n",
       "      <td>Male</td>\n",
       "      <td>21</td>\n",
       "      <td>Single</td>\n",
       "      <td>...</td>\n",
       "      <td>1~3</td>\n",
       "      <td>less1</td>\n",
       "      <td>1~3</td>\n",
       "      <td>1</td>\n",
       "      <td>0</td>\n",
       "      <td>0</td>\n",
       "      <td>1</td>\n",
       "      <td>0</td>\n",
       "      <td>1</td>\n",
       "      <td>21</td>\n",
       "    </tr>\n",
       "    <tr>\n",
       "      <th>217</th>\n",
       "      <td>No Urgent Place</td>\n",
       "      <td>Friend(s)</td>\n",
       "      <td>Sunny</td>\n",
       "      <td>80</td>\n",
       "      <td>10AM</td>\n",
       "      <td>Carry out &amp; Take away</td>\n",
       "      <td>2h</td>\n",
       "      <td>Female</td>\n",
       "      <td>21</td>\n",
       "      <td>Unmarried partner</td>\n",
       "      <td>...</td>\n",
       "      <td>1~3</td>\n",
       "      <td>1~3</td>\n",
       "      <td>1~3</td>\n",
       "      <td>1</td>\n",
       "      <td>1</td>\n",
       "      <td>0</td>\n",
       "      <td>0</td>\n",
       "      <td>1</td>\n",
       "      <td>1</td>\n",
       "      <td>21</td>\n",
       "    </tr>\n",
       "    <tr>\n",
       "      <th>221</th>\n",
       "      <td>No Urgent Place</td>\n",
       "      <td>Friend(s)</td>\n",
       "      <td>Sunny</td>\n",
       "      <td>55</td>\n",
       "      <td>2PM</td>\n",
       "      <td>Carry out &amp; Take away</td>\n",
       "      <td>1d</td>\n",
       "      <td>Female</td>\n",
       "      <td>21</td>\n",
       "      <td>Unmarried partner</td>\n",
       "      <td>...</td>\n",
       "      <td>1~3</td>\n",
       "      <td>1~3</td>\n",
       "      <td>1~3</td>\n",
       "      <td>1</td>\n",
       "      <td>1</td>\n",
       "      <td>0</td>\n",
       "      <td>0</td>\n",
       "      <td>1</td>\n",
       "      <td>1</td>\n",
       "      <td>21</td>\n",
       "    </tr>\n",
       "  </tbody>\n",
       "</table>\n",
       "<p>5 rows × 26 columns</p>\n",
       "</div>"
      ],
      "text/plain": [
       "         destination  passenger weather  temperature  time  \\\n",
       "91   No Urgent Place  Friend(s)   Sunny           80  10AM   \n",
       "99   No Urgent Place  Friend(s)   Sunny           55   2PM   \n",
       "107             Work      Alone   Sunny           80   7AM   \n",
       "217  No Urgent Place  Friend(s)   Sunny           80  10AM   \n",
       "221  No Urgent Place  Friend(s)   Sunny           55   2PM   \n",
       "\n",
       "                    coupon expiration  gender age      maritalStatus  ...  \\\n",
       "91   Carry out & Take away         2h    Male  21             Single  ...   \n",
       "99   Carry out & Take away         1d    Male  21             Single  ...   \n",
       "107  Carry out & Take away         2h    Male  21             Single  ...   \n",
       "217  Carry out & Take away         2h  Female  21  Unmarried partner  ...   \n",
       "221  Carry out & Take away         1d  Female  21  Unmarried partner  ...   \n",
       "\n",
       "     CarryAway RestaurantLessThan20 Restaurant20To50 toCoupon_GEQ5min  \\\n",
       "91         1~3                less1              1~3                1   \n",
       "99         1~3                less1              1~3                1   \n",
       "107        1~3                less1              1~3                1   \n",
       "217        1~3                  1~3              1~3                1   \n",
       "221        1~3                  1~3              1~3                1   \n",
       "\n",
       "    toCoupon_GEQ15min toCoupon_GEQ25min direction_same direction_opp  Y  \\\n",
       "91                  1                 0              0             1  1   \n",
       "99                  1                 0              0             1  1   \n",
       "107                 0                 0              1             0  1   \n",
       "217                 1                 0              0             1  1   \n",
       "221                 1                 0              0             1  1   \n",
       "\n",
       "     age_clean  \n",
       "91          21  \n",
       "99          21  \n",
       "107         21  \n",
       "217         21  \n",
       "221         21  \n",
       "\n",
       "[5 rows x 26 columns]"
      ]
     },
     "execution_count": 142,
     "metadata": {},
     "output_type": "execute_result"
    }
   ],
   "source": [
    "carryout_more_than_1=[\"1~3\"]\n",
    "\n",
    "data_carryout_coupons_more_1_gt25 = data_carryout_coupons.query('CarryAway in @carryout_more_than_1 and age_clean < 25' )\n",
    "data_carryout_coupons_more_1_gt25.head()"
   ]
  },
  {
   "cell_type": "code",
   "execution_count": 143,
   "id": "d730ef84",
   "metadata": {},
   "outputs": [
    {
     "data": {
      "text/plain": [
       "1~3    230\n",
       "Name: CarryAway, dtype: int64"
      ]
     },
     "execution_count": 143,
     "metadata": {},
     "output_type": "execute_result"
    }
   ],
   "source": [
    "data_carryout_coupons_more_1_gt25.CarryAway.value_counts()"
   ]
  },
  {
   "cell_type": "code",
   "execution_count": 144,
   "id": "b99d3554",
   "metadata": {},
   "outputs": [
    {
     "data": {
      "text/plain": [
       "21    180\n",
       "20     50\n",
       "Name: age_clean, dtype: int64"
      ]
     },
     "execution_count": 144,
     "metadata": {},
     "output_type": "execute_result"
    }
   ],
   "source": [
    "data_carryout_coupons_more_1_gt25.age_clean.value_counts()"
   ]
  },
  {
   "cell_type": "code",
   "execution_count": 145,
   "id": "dcffcd5e",
   "metadata": {},
   "outputs": [
    {
     "data": {
      "text/plain": [
       "1    614\n",
       "0    216\n",
       "Name: Y, dtype: int64"
      ]
     },
     "execution_count": 145,
     "metadata": {},
     "output_type": "execute_result"
    }
   ],
   "source": [
    "\n",
    "# Count the values of 0 & 1 in the dataset\n",
    "accept_coupon_counts_carryout_more_1=data_carryout_coupons_more_1.Y.value_counts()\n",
    "accept_coupon_counts_carryout_more_1"
   ]
  },
  {
   "cell_type": "code",
   "execution_count": 146,
   "id": "ca3711d9",
   "metadata": {},
   "outputs": [
    {
     "data": {
      "text/plain": [
       "0.7397590361445783"
      ]
     },
     "execution_count": 146,
     "metadata": {},
     "output_type": "execute_result"
    }
   ],
   "source": [
    "#Proportion of the total observations chose to accept the coupon can be calculated by doing \n",
    "# ratio of people with Y=1 divided by total counts\n",
    "accept_coupon_proportion_carryout_more_1=accept_coupon_counts_carryout_more_1[1]/(accept_coupon_counts_carryout_more_1[0]+accept_coupon_counts_carryout_more_1[1])\n",
    "accept_coupon_proportion_carryout_more_1"
   ]
  },
  {
   "cell_type": "markdown",
   "id": "3a6513e0",
   "metadata": {
    "variables": {
     "accept_coupon_proportion_carryout": "0.737719298245614",
     "accept_coupon_proportion_carryout_more_1": "0.7397590361445783"
    }
   },
   "source": [
    "Conclusion #4\n",
    "\n",
    "Acceptance rate for patrons under age 25 is very similar to overall rate ({{accept_coupon_proportion_carryout_more_1}} vs {{accept_coupon_proportion_carryout}}). So age may not be a big factor for carryout"
   ]
  },
  {
   "cell_type": "markdown",
   "id": "69280d78",
   "metadata": {},
   "source": [
    "5. Check correlation between various variables and see if any insights can be derived?"
   ]
  },
  {
   "cell_type": "code",
   "execution_count": 147,
   "id": "a5606396",
   "metadata": {},
   "outputs": [
    {
     "data": {
      "image/png": "[encoded data removed]",
      "text/plain": [
       "<Figure size 1080x360 with 2 Axes>"
      ]
     },
     "metadata": {
      "needs_background": "light"
     },
     "output_type": "display_data"
    }
   ],
   "source": [
    "fig, ax =plt.subplots(1,2,sharex=False, figsize=(15,5))\n",
    "chart1 = sns.countplot(data = data_carryout_coupons, x='time', ax=ax[0], hue = 'Y')\n",
    "chart2 = sns.countplot(data = data_carryout_coupons, x ='temperature', ax=ax[1], hue = 'Y')\n",
    "fig.suptitle('Comparison of Time & temperature')\n",
    "fig.axes[0].set_title('Time')\n",
    "fig.axes[1].set_title('Temperature')\n",
    "plt.show()\n",
    "fig.savefig(\"images/time_temp_distribution_carryoutcoupons.png\")\n"
   ]
  },
  {
   "cell_type": "markdown",
   "id": "e691383b",
   "metadata": {},
   "source": [
    "The coupons for carryout are accepted more at 7am compared to another time.  Also, when temperature is high the coupon is utilized more. \n",
    "\n"
   ]
  },
  {
   "cell_type": "code",
   "execution_count": 148,
   "id": "b6907b9a",
   "metadata": {
    "scrolled": true
   },
   "outputs": [
    {
     "data": {
      "image/png": "[encoded data removed]",
      "text/plain": [
       "<Figure size 222.375x180 with 1 Axes>"
      ]
     },
     "metadata": {
      "needs_background": "light"
     },
     "output_type": "display_data"
    }
   ],
   "source": [
    "sns.pairplot(x_vars=['time'], y_vars=['CarryAway'], data=data_carryout_coupons, hue='Y').figure.savefig(\"images/carryawaycoupons_time_corr.png\")"
   ]
  },
  {
   "cell_type": "code",
   "execution_count": 149,
   "id": "4f4260a8",
   "metadata": {},
   "outputs": [
    {
     "ename": "SyntaxError",
     "evalue": "invalid syntax (1205877681.py, line 1)",
     "output_type": "error",
     "traceback": [
      "\u001b[0;36m  Input \u001b[0;32mIn [149]\u001b[0;36m\u001b[0m\n\u001b[0;31m    sns.pairplot(x_vars=['temperature'], y_vars=['CarryAway'], data=data_carryout_coupons, hue='Y')..figure.savefig(\"images/carryawaycoupons_temp_corr.png\")\u001b[0m\n\u001b[0m                                                                                                    ^\u001b[0m\n\u001b[0;31mSyntaxError\u001b[0m\u001b[0;31m:\u001b[0m invalid syntax\n"
     ]
    }
   ],
   "source": [
    "sns.pairplot(x_vars=['temperature'], y_vars=['CarryAway'], data=data_carryout_coupons, hue='Y')..figure.savefig(\"images/carryawaycoupons_temp_corr.png\")"
   ]
  },
  {
   "cell_type": "code",
   "execution_count": null,
   "id": "527b3e39",
   "metadata": {},
   "outputs": [],
   "source": [
    "sns.pairplot(data_carryout_coupons, hue='Y', height=2.5);"
   ]
  },
  {
   "cell_type": "code",
   "execution_count": null,
   "id": "13940c35",
   "metadata": {},
   "outputs": [],
   "source": [
    "sns.countplot(data = data_carryout_coupons, x='direction_opp', hue = 'Y')"
   ]
  },
  {
   "cell_type": "code",
   "execution_count": null,
   "id": "47735e66",
   "metadata": {
    "scrolled": true
   },
   "outputs": [],
   "source": [
    "sns.countplot(data = data_carryout_coupons, y='income', hue = 'Y').figure.savefig(\"images/carryawaycoupons_income_corr.png\")\n"
   ]
  },
  {
   "cell_type": "code",
   "execution_count": null,
   "id": "5bd8b21a",
   "metadata": {},
   "outputs": [],
   "source": [
    "sns.countplot(data = data_carryout_coupons, x='gender', hue = 'Y')\n"
   ]
  },
  {
   "cell_type": "code",
   "execution_count": null,
   "id": "c7890829",
   "metadata": {},
   "outputs": [],
   "source": [
    "sns.countplot(data = data_carryout_coupons, y='maritalStatus', hue = 'Y').figure.savefig(\"images/carryawaycoupons_maritalstatus_corr.png\")\n"
   ]
  },
  {
   "cell_type": "code",
   "execution_count": null,
   "id": "fd14f1b5",
   "metadata": {},
   "outputs": [],
   "source": [
    "sns.countplot(data = data_carryout_coupons, y='education', hue = 'Y').figure.savefig(\"images/carryawaycoupons_maritalstatus_corr.png\")\n"
   ]
  },
  {
   "cell_type": "code",
   "execution_count": null,
   "id": "9aaff437",
   "metadata": {},
   "outputs": [],
   "source": [
    "plt.figure(figsize=(20,12))\n",
    "sns.countplot(data = data_carryout_coupons, y='occupation', hue = 'Y').figure.savefig(\"images/carryawaycoupons_occupation_corr.png\")\n"
   ]
  },
  {
   "cell_type": "code",
   "execution_count": null,
   "id": "248b4ff5",
   "metadata": {},
   "outputs": [],
   "source": [
    "sns.countplot(data = data_carryout_coupons, y='toCoupon_GEQ25min', hue = 'Y').figure.savefig(\"images/carryawaycoupons_toCoupon_GEQ25min_corr.png\")\n"
   ]
  },
  {
   "cell_type": "code",
   "execution_count": null,
   "id": "6f990e79",
   "metadata": {},
   "outputs": [],
   "source": [
    "sns.countplot(data = data_carryout_coupons, y='toCoupon_GEQ15min', hue = 'Y').figure.savefig(\"images/carryawaycoupons_toCoupon_GEQ15min_corr.png\")"
   ]
  },
  {
   "cell_type": "code",
   "execution_count": null,
   "id": "1eeef813",
   "metadata": {},
   "outputs": [],
   "source": [
    "sns.countplot(data = data_carryout_coupons, y='toCoupon_GEQ5min', hue = 'Y').figure.savefig(\"images/carryawaycoupons_toCoupon_GEQ5min_corr.png\")"
   ]
  },
  {
   "cell_type": "code",
   "execution_count": null,
   "id": "0a33087c",
   "metadata": {},
   "outputs": [],
   "source": [
    "sns.countplot(data = data_carryout_coupons, y='RestaurantLessThan20', hue = 'Y').figure.savefig(\"images/carryawaycoupons_toRestaurantLessThan20_corr.png\")"
   ]
  },
  {
   "cell_type": "code",
   "execution_count": null,
   "id": "b88f3648",
   "metadata": {},
   "outputs": [],
   "source": [
    "sns.countplot(data = data_carryout_coupons, y='Restaurant20To50', hue = 'Y').figure.savefig(\"images/carryawaycoupons_toRestaurant20To50_corr.png\")"
   ]
  },
  {
   "cell_type": "code",
   "execution_count": null,
   "id": "7d6b0f97",
   "metadata": {},
   "outputs": [],
   "source": [
    "\n",
    "\n"
   ]
  }
 ],
 "metadata": {
  "kernelspec": {
   "display_name": "Python 3 (ipykernel)",
   "language": "python",
   "name": "python3"
  },
  "language_info": {
   "codemirror_mode": {
    "name": "ipython",
    "version": 3
   },
   "file_extension": ".py",
   "mimetype": "text/x-python",
   "name": "python",
   "nbconvert_exporter": "python",
   "pygments_lexer": "ipython3",
   "version": "3.9.12"
  }
 },
 "nbformat": 4,
 "nbformat_minor": 5
}
